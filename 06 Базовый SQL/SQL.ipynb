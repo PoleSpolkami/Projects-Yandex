{
 "cells": [
  {
   "cell_type": "markdown",
   "id": "39166dfe",
   "metadata": {},
   "source": [
    "# Исследование данных об инвестиции венчурных фондов в компании-стартапы"
   ]
  },
  {
   "cell_type": "markdown",
   "id": "2ef3d0a7",
   "metadata": {},
   "source": [
    "**Задача**   \n",
    "\n",
    "В самостоятельном проекте вам нужно проанализировать данные о фондах и инвестициях и написать запросы к базе. Задания будут постепенно усложняться, но всё необходимое для их выполнения: операторы, функции, методы работы с базой — вы уже изучили на курсе."
   ]
  },
  {
   "cell_type": "markdown",
   "id": "fb81312a",
   "metadata": {},
   "source": [
    "## Задания:"
   ]
  },
  {
   "cell_type": "markdown",
   "id": "96e82759",
   "metadata": {},
   "source": [
    "### Задание 1\n",
    "\n",
    "Отобразите все записи из таблицы company по компаниям, которые закрылись."
   ]
  },
  {
   "cell_type": "markdown",
   "id": "0476c479",
   "metadata": {},
   "source": [
    "'''   \n",
    "SELECT *\n",
    "\n",
    "FROM company\n",
    "\n",
    "WHERE status LIKE 'closed';\n",
    "\n",
    "'''"
   ]
  },
  {
   "cell_type": "markdown",
   "id": "3e80389d",
   "metadata": {},
   "source": [
    "### Задание 2\n",
    "\n",
    "Отобразите количество привлечённых средств для новостных компаний США. Используйте данные из таблицы company. Отсортируйте таблицу по убыванию значений в поле funding_total."
   ]
  },
  {
   "cell_type": "markdown",
   "id": "9e9a2c4a",
   "metadata": {},
   "source": [
    "'''   \n",
    "SELECT funding_total\n",
    "\n",
    "FROM company\n",
    "\n",
    "WHERE category_code LIKE 'news' AND country_code LIKE 'USA'\n",
    "\n",
    "ORDER BY funding_total DESC;\n",
    "\n",
    "'''"
   ]
  },
  {
   "cell_type": "markdown",
   "id": "7da6f1cf",
   "metadata": {},
   "source": [
    "### Задание 3\n",
    "\n",
    "Найдите общую сумму сделок по покупке одних компаний другими в долларах. Отберите сделки, которые осуществлялись только за наличные с 2011 по 2013 год включительно."
   ]
  },
  {
   "cell_type": "markdown",
   "id": "aa447cb5",
   "metadata": {},
   "source": [
    "'''   \n",
    "SELECT SUM(price_amount)\n",
    "\n",
    "FROM acquisition\n",
    "\n",
    "WHERE term_code LIKE 'cash'\n",
    "\n",
    "AND EXTRACT(YEAR FROM CAST(acquired_at AS date)) BETWEEN 2011 AND 2013\n",
    "\n",
    "'''"
   ]
  },
  {
   "cell_type": "markdown",
   "id": "8032ee70",
   "metadata": {},
   "source": [
    "### Задание 4\n",
    "\n",
    "\n",
    "Отобразите имя, фамилию и названия аккаунтов людей в поле network_username, у которых названия аккаунтов начинаются на 'Silver'."
   ]
  },
  {
   "cell_type": "markdown",
   "id": "03db9b15",
   "metadata": {},
   "source": [
    "'''   \n",
    "SELECT first_name, last_name, twitter_username\n",
    "\n",
    "FROM people\n",
    "\n",
    "WHERE twitter_username LIKE 'Silver%';  \n",
    "\n",
    "'''"
   ]
  },
  {
   "cell_type": "markdown",
   "id": "ef400518",
   "metadata": {},
   "source": [
    "### Задание 5\n",
    "\n",
    "Выведите на экран всю информацию о людях, у которых названия аккаунтов в поле network_username содержат подстроку 'money', а фамилия начинается на 'K'."
   ]
  },
  {
   "cell_type": "markdown",
   "id": "1f305d1a",
   "metadata": {},
   "source": [
    "'''   \n",
    "SELECT *\n",
    "\n",
    "FROM people\n",
    "\n",
    "WHERE twitter_username LIKE '%money%'\n",
    "\n",
    "AND last_name LIKE 'K%';  \n",
    "\n",
    "'''"
   ]
  },
  {
   "cell_type": "markdown",
   "id": "d03ed147",
   "metadata": {},
   "source": [
    "### Задание 6\n",
    "\n",
    "Для каждой страны отобразите общую сумму привлечённых инвестиций, которые получили компании, зарегистрированные в этой стране. Страну, в которой зарегистрирована компания, можно определить по коду страны. Отсортируйте данные по убыванию суммы."
   ]
  },
  {
   "cell_type": "markdown",
   "id": "88923fe2",
   "metadata": {},
   "source": [
    "'''   \n",
    "SELECT country_code, SUM(funding_total)\n",
    "\n",
    "FROM company\n",
    "\n",
    "GROUP BY country_code\n",
    "\n",
    "ORDER BY SUM(funding_total) DESC;  \n",
    "\n",
    "'''"
   ]
  },
  {
   "cell_type": "markdown",
   "id": "cd8aea3e",
   "metadata": {},
   "source": [
    "### Задание 7\n",
    "\n",
    "Составьте таблицу, в которую войдёт дата проведения раунда, а также минимальное и максимальное значения суммы инвестиций, привлечённых в эту дату.\n",
    "Оставьте в итоговой таблице только те записи, в которых минимальное значение суммы инвестиций не равно нулю и не равно максимальному значению."
   ]
  },
  {
   "cell_type": "markdown",
   "id": "e2e3099c",
   "metadata": {},
   "source": [
    "'''  \n",
    "SELECT funded_at, MIN(raised_amount), MAX(raised_amount)\n",
    "\n",
    "FROM funding_round\n",
    "\n",
    "GROUP BY funded_at\n",
    "\n",
    "HAVING MIN(raised_amount) <> 0 AND MIN(raised_amount) <> MAX(raised_amount);  \n",
    "\n",
    "'''"
   ]
  },
  {
   "cell_type": "markdown",
   "id": "ff40fd3b",
   "metadata": {},
   "source": [
    "### Задание 8\n",
    "\n",
    "Создайте поле с категориями:\n",
    "- Для фондов, которые инвестируют в 100 и более компаний, назначьте категорию high_activity.\n",
    "- Для фондов, которые инвестируют в 20 и более компаний до 100, назначьте категорию middle_activity.\n",
    "\n",
    "Если количество инвестируемых компаний фонда не достигает 20, назначьте категорию low_activity.\n",
    "Отобразите все поля таблицы fund и новое поле с категориями."
   ]
  },
  {
   "cell_type": "markdown",
   "id": "c786e665",
   "metadata": {},
   "source": [
    "'''  \n",
    "SELECT *,\n",
    "\n",
    "      CASE\n",
    "           WHEN invested_companies < 20 THEN 'low_activity'\n",
    "           WHEN invested_companies < 100 THEN 'middle_activity'\n",
    "           WHEN invested_companies >= 100 THEN 'high_activity'\n",
    "       END\n",
    "       \n",
    "FROM fund;  \n",
    "\n",
    "'''"
   ]
  },
  {
   "cell_type": "markdown",
   "id": "1b892c1a",
   "metadata": {},
   "source": [
    "### Задание 9\n",
    "\n",
    "Для каждой из категорий, назначенных в предыдущем задании, посчитайте округлённое до ближайшего целого числа среднее количество инвестиционных раундов, в которых фонд принимал участие. Выведите на экран категории и среднее число инвестиционных раундов. Отсортируйте таблицу по возрастанию среднего."
   ]
  },
  {
   "cell_type": "markdown",
   "id": "0078cda1",
   "metadata": {},
   "source": [
    "'''  \n",
    "SELECT \n",
    "\n",
    "CASE\n",
    "\n",
    "       WHEN invested_companies>=100 THEN 'high_activity'\n",
    "   \n",
    "       WHEN invested_companies>=20 THEN 'middle_activity'\n",
    "   \n",
    "       ELSE 'low_activity'\n",
    "   \n",
    "END AS activity,\n",
    "\n",
    "ROUND(AVG(investment_rounds))\n",
    "\n",
    "FROM fund\n",
    "\n",
    "GROUP BY activity\n",
    "\n",
    "ORDER BY ROUND(AVG(investment_rounds));  \n",
    "\n",
    "'''"
   ]
  },
  {
   "cell_type": "markdown",
   "id": "aec65d66",
   "metadata": {},
   "source": [
    "### Задание 10\n",
    "\n",
    "Проанализируйте, в каких странах находятся фонды, которые чаще всего инвестируют в стартапы. \n",
    "Для каждой страны посчитайте минимальное, максимальное и среднее число компаний, в которые инвестировали фонды этой страны, основанные с 2010 по 2012 год включительно. Исключите страны с фондами, у которых минимальное число компаний, получивших инвестиции, равно нулю. \n",
    "Выгрузите десять самых активных стран-инвесторов: отсортируйте таблицу по среднему количеству компаний от большего к меньшему. Затем добавьте сортировку по коду страны в лексикографическом порядке."
   ]
  },
  {
   "cell_type": "markdown",
   "id": "bcb30b4e",
   "metadata": {},
   "source": [
    "'''  \n",
    "SELECT country_code,\n",
    "\n",
    "       MIN(invested_companies),\n",
    "       MAX(invested_companies),\n",
    "       AVG(invested_companies)\n",
    "       \n",
    "FROM \n",
    "\n",
    "(SELECT *\n",
    "\n",
    "FROM fund     \n",
    "\n",
    "WHERE EXTRACT (YEAR FROM founded_at) BETWEEN 2010 AND 2012) AS f\n",
    " \n",
    "GROUP BY country_code\n",
    "\n",
    "HAVING MIN(invested_companies) > 0\n",
    "\n",
    "ORDER BY AVG(invested_companies) DESC\n",
    "\n",
    "LIMIT 10;  \n",
    "\n",
    "'''"
   ]
  },
  {
   "cell_type": "markdown",
   "id": "5df88109",
   "metadata": {},
   "source": [
    "### Задание 11\n",
    "\n",
    "Отобразите имя и фамилию всех сотрудников стартапов. Добавьте поле с названием учебного заведения, которое окончил сотрудник, если эта информация известна."
   ]
  },
  {
   "cell_type": "markdown",
   "id": "2b935829",
   "metadata": {},
   "source": [
    "'''  \n",
    "SELECT pep.first_name,\n",
    "\n",
    "       pep.last_name,\n",
    "       ed.instituition\n",
    "       \n",
    "FROM people AS pep\n",
    "\n",
    "LEFT JOIN education AS ed ON pep.id=ed.person_id;  \n",
    "\n",
    "'''"
   ]
  },
  {
   "cell_type": "markdown",
   "id": "b0956689",
   "metadata": {},
   "source": [
    "### Задание 12\n",
    "\n",
    "Для каждой компании найдите количество учебных заведений, которые окончили её сотрудники. Выведите название компании и число уникальных названий учебных заведений. Составьте топ-5 компаний по количеству университетов."
   ]
  },
  {
   "cell_type": "markdown",
   "id": "3174c0d4",
   "metadata": {},
   "source": [
    "'''  \n",
    "SELECT c.name,\n",
    "\n",
    "       COUNT(DISTINCT e.instituition)\n",
    "       \n",
    "FROM company AS c\n",
    "\n",
    "INNER JOIN people AS p ON c.id=p.company_id\n",
    "\n",
    "INNER JOIN education AS e ON p.id=e.person_id\n",
    "\n",
    "GROUP BY c.name\n",
    "\n",
    "ORDER BY COUNT(DISTINCT e.instituition) DESC\n",
    "\n",
    "LIMIT 5;  \n",
    "\n",
    "'''"
   ]
  },
  {
   "cell_type": "markdown",
   "id": "e3b0335e",
   "metadata": {},
   "source": [
    "### Задание 13\n",
    "\n",
    "\n",
    "Составьте список с уникальными названиями закрытых компаний, для которых первый раунд финансирования оказался последним."
   ]
  },
  {
   "cell_type": "markdown",
   "id": "24d72776",
   "metadata": {},
   "source": [
    "'''  \n",
    "SELECT DISTINCT com.name\n",
    "\n",
    "FROM company AS com\n",
    "\n",
    "LEFT JOIN funding_round AS fr ON com.id=fr.company_id\n",
    "\n",
    "WHERE STATUS LIKE '%closed%'\n",
    "\n",
    "      AND is_first_round = 1\n",
    "      AND is_last_round = 1; \n",
    "  \n",
    "'''"
   ]
  },
  {
   "cell_type": "markdown",
   "id": "943ae4b1",
   "metadata": {},
   "source": [
    "### Задание 14\n",
    "\n",
    "\n",
    "Составьте список уникальных номеров сотрудников, которые работают в компаниях, отобранных в предыдущем задании."
   ]
  },
  {
   "cell_type": "markdown",
   "id": "a896d449",
   "metadata": {},
   "source": [
    "'''  \n",
    "SELECT DISTINCT p.id\n",
    "\n",
    "FROM people AS p\n",
    "\n",
    "WHERE company_id IN (SELECT id\n",
    "\n",
    "FROM company\n",
    "\n",
    "WHERE id IN (SELECT company_id\n",
    "\n",
    "FROM funding_round\n",
    "\n",
    "WHERE is_first_round = 1 \n",
    "\n",
    "    AND is_last_round = 1)\n",
    "    AND status = 'closed');  \n",
    "'''"
   ]
  },
  {
   "cell_type": "markdown",
   "id": "2e786acc",
   "metadata": {},
   "source": [
    "### Задание 15\n",
    "\n",
    "\n",
    "Составьте таблицу, куда войдут уникальные пары с номерами сотрудников из предыдущей задачи и учебным заведением, которое окончил сотрудник."
   ]
  },
  {
   "cell_type": "markdown",
   "id": "1cb05dfb",
   "metadata": {},
   "source": [
    "'''  \n",
    "SELECT DISTINCT p.id,\n",
    "\n",
    "       ed.instituition\n",
    "FROM company AS com\n",
    "\n",
    "INNER JOIN funding_round AS fr ON com.id=fr.company_id\n",
    "\n",
    "INNER JOIN people AS p ON com.id=p.company_id\n",
    "\n",
    "INNER JOIN education AS ed ON p.id=ed.person_id\n",
    "\n",
    "WHERE STATUS LIKE '%closed%'\n",
    "\n",
    "      AND is_first_round = 1\n",
    "      AND is_last_round = 1;  \n",
    "'''"
   ]
  },
  {
   "cell_type": "markdown",
   "id": "c093b666",
   "metadata": {},
   "source": [
    "### Задание 16\n",
    "\n",
    "Посчитайте количество учебных заведений для каждого сотрудника из предыдущего задания. При подсчёте учитывайте, что некоторые сотрудники могли окончить одно и то же заведение дважды."
   ]
  },
  {
   "cell_type": "markdown",
   "id": "20bf4549",
   "metadata": {},
   "source": [
    "'''  \n",
    "SELECT DISTINCT p.id,\n",
    "\n",
    "       COUNT(ed.instituition)\n",
    "FROM company AS com\n",
    "\n",
    "INNER JOIN people AS p ON com.id=p.company_id\n",
    "\n",
    "LEFT JOIN education AS ed ON p.id=ed.person_id\n",
    "\n",
    "WHERE STATUS LIKE '%closed%'\n",
    "\n",
    "  AND com.id IN (SELECT company_id\n",
    "  \n",
    "                FROM funding_round\n",
    "                 WHERE is_first_round = 1\n",
    "                   AND is_last_round = 1)\n",
    "                   \n",
    "AND ed.instituition IS NOT NULL\n",
    "\n",
    "GROUP BY p.id;  \n",
    "'''"
   ]
  },
  {
   "cell_type": "markdown",
   "id": "c9a94630",
   "metadata": {},
   "source": [
    "### Задание 17\n",
    "\n",
    "Дополните предыдущий запрос и выведите среднее число учебных заведений (всех, не только уникальных), которые окончили сотрудники разных компаний. Нужно вывести только одну запись, группировка здесь не понадобится."
   ]
  },
  {
   "cell_type": "markdown",
   "id": "47ee1754",
   "metadata": {},
   "source": [
    "'''  \n",
    "WITH org AS \n",
    "\n",
    "(SELECT DISTINCT(company.id)\n",
    "\n",
    "FROM funding_round\n",
    "\n",
    "LEFT JOIN company ON company.id = funding_round.company_id\n",
    "\n",
    "WHERE is_first_round = 1 AND is_last_round = 1\n",
    "\n",
    "AND company.status LIKE 'closed'),\n",
    "\n",
    "p_id AS\n",
    "\n",
    "(SELECT DISTINCT(people.id)\n",
    "\n",
    "FROM people\n",
    "\n",
    "WHERE people.company_id IN (SELECT * FROM org))\n",
    "\n",
    "SELECT AVG(count)\n",
    "\n",
    "FROM\n",
    "\n",
    "(SELECT person_id, COUNT(instituition)\n",
    "\n",
    "FROM education\n",
    "\n",
    "WHERE person_id IN (SELECT * FROM p_id)\n",
    "\n",
    "GROUP BY person_id) AS tab;  \n",
    "'''"
   ]
  },
  {
   "cell_type": "markdown",
   "id": "06055b08",
   "metadata": {},
   "source": [
    "### Задание 18\n",
    "\n",
    "Напишите похожий запрос: выведите среднее число учебных заведений (всех, не только уникальных), которые окончили сотрудники Socialnet."
   ]
  },
  {
   "cell_type": "markdown",
   "id": "17874ec1",
   "metadata": {},
   "source": [
    "'''  \n",
    "SELECT AVG(fun.count_int)\n",
    "\n",
    "FROM (SELECT DISTINCT p.id,\n",
    "\n",
    "       COUNT(ed.instituition) AS count_int\n",
    "FROM company AS com\n",
    "\n",
    "INNER JOIN people AS p ON com.id=p.company_id\n",
    "\n",
    "LEFT JOIN education AS ed ON p.id=ed.person_id\n",
    "\n",
    "WHERE name LIKE 'Facebook'\n",
    "\n",
    "      AND ed.instituition IS NOT NULL \n",
    "GROUP BY p.id) AS fun;  \n",
    "\n",
    "'''"
   ]
  },
  {
   "cell_type": "markdown",
   "id": "5d6143a5",
   "metadata": {},
   "source": [
    "### Задание 19\n",
    "\n",
    "Составьте таблицу из полей:\n",
    "\n",
    "- name_of_fund — название фонда;\n",
    "- name_of_company — название компании;\n",
    "- amount — сумма инвестиций, которую привлекла компания в раунде.\n",
    "\n",
    "В таблицу войдут данные о компаниях, в истории которых было больше шести важных этапов, а раунды финансирования проходили с 2012 по 2013 год включительно."
   ]
  },
  {
   "cell_type": "markdown",
   "id": "7d48811d",
   "metadata": {},
   "source": [
    "'''  \n",
    "SELECT f.name AS name_of_fund,\n",
    "\n",
    "       com.name AS name_of_company,\n",
    "       fr.raised_amount AS amount\n",
    "FROM investment AS i\n",
    "\n",
    "INNER JOIN company AS com ON i.company_id=com.id\n",
    "\n",
    "INNER JOIN fund AS f ON i.fund_id=f.id\n",
    "\n",
    "INNER JOIN funding_round AS fr ON i.funding_round_id=fr.id\n",
    "\n",
    "WHERE com.milestones > 6\n",
    "\n",
    "       AND EXTRACT(YEAR FROM CAST (fr.funded_at AS TIMESTAMP)) BETWEEN 2012 AND 2013;  \n",
    "'''"
   ]
  },
  {
   "cell_type": "markdown",
   "id": "81f931f5",
   "metadata": {},
   "source": [
    "### Задание 20 \n",
    "\n",
    "Выгрузите таблицу, в которой будут такие поля:\n",
    "\n",
    "- название компании-покупателя;\n",
    "- сумма сделки;\n",
    "- название компании, которую купили;\n",
    "- сумма инвестиций, вложенных в купленную компанию;\n",
    "- доля, которая отображает, во сколько раз сумма покупки превысила сумму вложенных в компанию инвестиций, округлённая до ближайшего целого числа.\n",
    "\n",
    "Не учитывайте те сделки, в которых сумма покупки равна нулю. Если сумма инвестиций в компанию равна нулю, исключите такую компанию из таблицы. \n",
    "\n",
    "Отсортируйте таблицу по сумме сделки от большей к меньшей, а затем по названию купленной компании в лексикографическом порядке. Ограничьте таблицу первыми десятью записями."
   ]
  },
  {
   "cell_type": "markdown",
   "id": "c9ca2d31",
   "metadata": {},
   "source": [
    "'''  \n",
    "WITH acquiring AS\n",
    "\n",
    "(SELECT c.name AS buyer,\n",
    "\n",
    "a.price_amount AS price,\n",
    "\n",
    "a.id AS KEY\n",
    "\n",
    "FROM acquisition AS a\n",
    "\n",
    "LEFT JOIN company AS c ON a.acquiring_company_id = c.id\n",
    "\n",
    "WHERE a.price_amount > 0),\n",
    "\n",
    "acquired AS\n",
    "\n",
    "(SELECT c.name AS acquisition,\n",
    "\n",
    "c.funding_total AS investment,\n",
    "\n",
    "a.id AS KEY\n",
    "\n",
    "FROM acquisition AS a\n",
    "\n",
    "LEFT JOIN company AS c ON a.acquired_company_id = c.id\n",
    "\n",
    "WHERE c.funding_total > 0)\n",
    "\n",
    "SELECT acqn.buyer,\n",
    "\n",
    "acqn.price,\n",
    "\n",
    "acqd.acquisition,\n",
    "\n",
    "acqd.investment,\n",
    "\n",
    "ROUND(acqn.price / acqd.investment) AS uplift\n",
    "\n",
    "FROM acquiring AS acqn\n",
    "\n",
    "JOIN acquired AS acqd ON acqn.KEY = acqd.KEY\n",
    "\n",
    "ORDER BY price DESC, acquisition\n",
    "\n",
    "LIMIT 10;  \n",
    "'''"
   ]
  },
  {
   "cell_type": "markdown",
   "id": "9e3f65e7",
   "metadata": {},
   "source": [
    "### Задание 21\n",
    "\n",
    "\n",
    "Выгрузите таблицу, в которую войдут названия компаний из категории social, получившие финансирование с 2010 по 2013 год включительно. Проверьте, что сумма инвестиций не равна нулю. Выведите также номер месяца, в котором проходил раунд финансирования."
   ]
  },
  {
   "cell_type": "markdown",
   "id": "f03d4426",
   "metadata": {},
   "source": [
    "'''  \n",
    "SELECT company.name, EXTRACT(MONTH FROM CAST(funding_round.funded_at AS date))\n",
    "\n",
    "FROM company\n",
    "\n",
    "LEFT JOIN funding_round ON  company.id = funding_round.company_id\n",
    "\n",
    "WHERE company.category_code LIKE 'social'\n",
    "\n",
    "AND EXTRACT(YEAR FROM CAST(funding_round.funded_at AS date)) BETWEEN 2010 AND 2013\n",
    "\n",
    "AND funding_round.raised_amount > 0;  \n",
    "\n",
    "'''"
   ]
  },
  {
   "cell_type": "markdown",
   "id": "c7095bf8",
   "metadata": {},
   "source": [
    "### Задание 22  \n",
    "\n",
    "Отберите данные по месяцам с 2010 по 2013 год, когда проходили инвестиционные раунды. Сгруппируйте данные по номеру месяца и получите таблицу, в которой будут поля:\n",
    "- номер месяца, в котором проходили раунды;\n",
    "- количество уникальных названий фондов из США, которые инвестировали в этом месяце;\n",
    "- количество компаний, купленных за этот месяц;\n",
    "- общая сумма сделок по покупкам в этом месяце."
   ]
  },
  {
   "cell_type": "markdown",
   "id": "8903b70d",
   "metadata": {},
   "source": [
    "'''  \n",
    "WITH\n",
    "\n",
    "fundings AS (SELECT EXTRACT (MONTH FROM CAST(fr.funded_at AS DATE)) AS funding_month,\n",
    "\n",
    "      COUNT(DISTINCT f.id) AS id_fund\n",
    "FROM fund AS f     \n",
    "\n",
    "LEFT JOIN investment AS i ON f.id=i.fund_id\n",
    "\n",
    "LEFT JOIN funding_round AS fr ON i.funding_round_id=fr.id\n",
    "\n",
    "WHERE f.country_code = 'USA'\n",
    "\n",
    "      AND EXTRACT(YEAR FROM CAST (fr.funded_at AS DATE)) BETWEEN 2010 AND 2013\n",
    "GROUP BY funding_month),\n",
    " \n",
    "acquisitions AS (SELECT EXTRACT (MONTH FROM CAST(acquired_at AS DATE)) AS funding_month,\n",
    "\n",
    "      COUNT(acquired_company_id) AS acquired,\n",
    "      SUM(price_amount) AS sum_total\n",
    "FROM acquisition\n",
    "\n",
    "WHERE EXTRACT(YEAR FROM CAST (acquired_at AS DATE)) BETWEEN 2010 AND 2013\n",
    "\n",
    "GROUP BY funding_month) \n",
    "\n",
    "SELECT fnd.funding_month,\n",
    "\n",
    "       fnd.id_fund,\n",
    "       acq.acquired,\n",
    "       acq.sum_total\n",
    "FROM fundings AS fnd \n",
    "\n",
    "LEFT JOIN acquisitions AS acq ON fnd.funding_month=acq.funding_month;\n",
    "\n",
    "'''"
   ]
  },
  {
   "cell_type": "markdown",
   "id": "cd7cc898",
   "metadata": {},
   "source": [
    "### Задание 23\n",
    "\n",
    "Составьте сводную таблицу и выведите среднюю сумму инвестиций для стран, в которых есть стартапы, зарегистрированные в 2011, 2012 и 2013 годах. Данные за каждый год должны быть в отдельном поле. Отсортируйте таблицу по среднему значению инвестиций за 2011 год от большего к меньшему."
   ]
  },
  {
   "cell_type": "markdown",
   "id": "95d92cf7",
   "metadata": {},
   "source": [
    "'''   \n",
    " WITH\n",
    " \n",
    "a AS (SELECT country_code,\n",
    "\n",
    "          AVG(funding_total) AS totalavg_2011\n",
    "       FROM company\n",
    "       WHERE EXTRACT(YEAR FROM CAST(founded_at AS DATE)) = 2011\n",
    "         GROUP BY country_code),\n",
    "b AS (SELECT country_code,\n",
    "\n",
    "          AVG(funding_total) AS totalavg_2012\n",
    "       FROM company\n",
    "       WHERE EXTRACT(YEAR FROM CAST(founded_at AS DATE)) = 2012\n",
    "         GROUP BY country_code),\n",
    "c AS (SELECT country_code,\n",
    "\n",
    "      AVG(funding_total) AS totalavg_2013\n",
    "     FROM company\n",
    "     WHERE EXTRACT(YEAR FROM CAST(founded_at AS DATE)) = 2013\n",
    "      GROUP BY country_code)\n",
    "SELECT a.country_code,\n",
    "\n",
    "       a.totalavg_2011,\n",
    "       b.totalavg_2012,\n",
    "       c.totalavg_2013\n",
    "       \n",
    "FROM a INNER JOIN b ON a.country_code = b.country_code INNER JOIN c ON a.country_code = c.country_code\n",
    "\n",
    "ORDER BY totalavg_2011 DESC;\n",
    "\n",
    "'''"
   ]
  },
  {
   "cell_type": "code",
   "execution_count": null,
   "id": "b08212a6",
   "metadata": {},
   "outputs": [],
   "source": []
  }
 ],
 "metadata": {
  "kernelspec": {
   "display_name": "Python 3 (ipykernel)",
   "language": "python",
   "name": "python3"
  },
  "language_info": {
   "codemirror_mode": {
    "name": "ipython",
    "version": 3
   },
   "file_extension": ".py",
   "mimetype": "text/x-python",
   "name": "python",
   "nbconvert_exporter": "python",
   "pygments_lexer": "ipython3",
   "version": "3.11.5"
  }
 },
 "nbformat": 4,
 "nbformat_minor": 5
}
