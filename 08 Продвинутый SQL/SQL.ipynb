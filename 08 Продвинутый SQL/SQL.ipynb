{
 "cells": [
  {
   "cell_type": "markdown",
   "id": "39166dfe",
   "metadata": {},
   "source": [
    "# Исследование данных об инвестиции венчурных фондов в компании-стартапы"
   ]
  },
  {
   "cell_type": "markdown",
   "id": "2ef3d0a7",
   "metadata": {},
   "source": [
    "**Задача**   \n",
    "\n",
    "Проект состоит из двух частей: \n",
    "\n",
    "В первой части вы решите несколько задач в SQL-тренажёре, чтобы закрепить пройденный материал.\n",
    "\n",
    "Вторая часть проекта — аналитическая. Проверять задачи по-прежнему будет тренажёр. Однако мы рекомендуем самостоятельно анализировать полученные результаты и формулировать выводы."
   ]
  },
  {
   "cell_type": "markdown",
   "id": "fb81312a",
   "metadata": {},
   "source": [
    "## Задания 1 часть:"
   ]
  },
  {
   "cell_type": "markdown",
   "id": "96e82759",
   "metadata": {},
   "source": [
    "### Задание 1\n",
    "\n",
    "Найдите количество вопросов, которые набрали больше 300 очков или как минимум 100 раз были добавлены в «Закладки»."
   ]
  },
  {
   "cell_type": "markdown",
   "id": "0476c479",
   "metadata": {},
   "source": [
    "'''   \n",
    "SELECT COUNT(id)\n",
    "\n",
    "FROM stackoverflow.posts\n",
    "\n",
    "WHERE (favorites_count >= 100 OR score > 300) AND post_type_id = 1; \n",
    "\n",
    "'''"
   ]
  },
  {
   "cell_type": "markdown",
   "id": "3e80389d",
   "metadata": {},
   "source": [
    "### Задание 2\n",
    "\n",
    "Сколько в среднем в день задавали вопросов с 1 по 18 ноября 2008 включительно? Результат округлите до целого числа."
   ]
  },
  {
   "cell_type": "markdown",
   "id": "9e9a2c4a",
   "metadata": {},
   "source": [
    "'''   \n",
    "WITH questions AS\n",
    "\n",
    "(SELECT DISTINCT DATE_TRUNC('day', creation_date)::date,\n",
    "\n",
    "       COUNT(p.id) OVER (PARTITION BY DATE_TRUNC('day', creation_date)::date)\n",
    "FROM stackoverflow.posts AS p\n",
    "\n",
    "LEFT JOIN stackoverflow.post_types AS pt\n",
    "\n",
    "       ON p.post_type_id = pt.id \n",
    "WHERE pt.type = 'Question' AND (DATE_TRUNC('day', creation_date)::date BETWEEN '2008-11-01' AND '2008-11-18')\n",
    "\n",
    ")\n",
    "\n",
    "SELECT ROUND(AVG(count))::int \n",
    "\n",
    "FROM questions;\n",
    "\n",
    "'''"
   ]
  },
  {
   "cell_type": "markdown",
   "id": "7da6f1cf",
   "metadata": {},
   "source": [
    "### Задание 3\n",
    "\n",
    "Сколько пользователей получили значки сразу в день регистрации? Выведите количество уникальных пользователей."
   ]
  },
  {
   "cell_type": "markdown",
   "id": "aa447cb5",
   "metadata": {},
   "source": [
    "'''   \n",
    "SELECT COUNT(DISTINCT(u.id))\n",
    "\n",
    "FROM stackoverflow.users u\n",
    "\n",
    "JOIN stackoverflow.badges b\n",
    "\n",
    "ON u.id = b.user_id\n",
    "\n",
    "WHERE CAST(DATE_TRUNC('day', u.creation_date) AS date) = CAST(DATE_TRUNC('day', b.creation_date) AS date); \n",
    "\n",
    "'''"
   ]
  },
  {
   "cell_type": "markdown",
   "id": "8032ee70",
   "metadata": {},
   "source": [
    "### Задание 4\n",
    "\n",
    "\n",
    "Сколько уникальных постов пользователя с именем Joel Coehoorn получили хотя бы один голос?"
   ]
  },
  {
   "cell_type": "markdown",
   "id": "03db9b15",
   "metadata": {},
   "source": [
    "'''   \n",
    "SELECT COUNT(DISTINCT(p.id))\n",
    "\n",
    "FROM stackoverflow.users u\n",
    "\n",
    "JOIN stackoverflow.posts p\n",
    "\n",
    "ON u.id = p.user_id\n",
    "\n",
    "RIGHT JOIN stackoverflow.votes v\n",
    "\n",
    "ON p.id = v.post_id\n",
    "\n",
    "WHERE u.display_name = 'Joel Coehoorn'; \n",
    "\n",
    "'''"
   ]
  },
  {
   "cell_type": "markdown",
   "id": "ef400518",
   "metadata": {},
   "source": [
    "### Задание 5\n",
    "\n",
    "\n",
    "Выгрузите все поля таблицы vote_types. Добавьте к таблице поле rank, в которое войдут номера записей в обратном порядке. Таблица должна быть отсортирована по полю id."
   ]
  },
  {
   "cell_type": "markdown",
   "id": "1f305d1a",
   "metadata": {},
   "source": [
    "'''   \n",
    "SELECT *,\n",
    "\n",
    "       RANK () OVER (ORDER BY id DESC) AS rank\n",
    "FROM stackoverflow.vote_types  \n",
    "\n",
    "ORDER BY id; \n",
    "\n",
    "'''"
   ]
  },
  {
   "cell_type": "markdown",
   "id": "d03ed147",
   "metadata": {},
   "source": [
    "### Задание 6\n",
    "\n",
    "Отберите 10 пользователей, которые поставили больше всего голосов типа Close. Отобразите таблицу из двух полей: идентификатором пользователя и количеством голосов. Отсортируйте данные сначала по убыванию количества голосов, потом по убыванию значения идентификатора пользователя."
   ]
  },
  {
   "cell_type": "markdown",
   "id": "88923fe2",
   "metadata": {},
   "source": [
    "'''   \n",
    "SELECT v.user_id AS user_votes,\n",
    "\n",
    "       COUNT (v.id) AS votes_cnt\n",
    "FROM stackoverflow.votes AS v\n",
    "\n",
    "JOIN stackoverflow.vote_types AS vt\n",
    "\n",
    "ON vt.id = v.vote_type_id\n",
    "\n",
    "WHERE name = 'Close'\n",
    "\n",
    "GROUP BY user_votes\n",
    "\n",
    "ORDER BY votes_cnt DESC,\n",
    "\n",
    "         user_votes DESC\n",
    "LIMIT 10;\n",
    "\n",
    "'''"
   ]
  },
  {
   "cell_type": "markdown",
   "id": "cd8aea3e",
   "metadata": {},
   "source": [
    "### Задание 7\n",
    "\n",
    "\n",
    "Отберите 10 пользователей по количеству значков, полученных в период с 15 ноября по 15 декабря 2008 года включительно.\n",
    "\n",
    "Отобразите несколько полей:\n",
    "\n",
    "- идентификатор пользователя;\n",
    "- число значков;\n",
    "- место в рейтинге — чем больше значков, тем выше рейтинг.\n",
    "\n",
    "Пользователям, которые набрали одинаковое количество значков, присвойте одно и то же место в рейтинге.\n",
    "\n",
    "Отсортируйте записи по количеству значков по убыванию, а затем по возрастанию значения идентификатора пользователя."
   ]
  },
  {
   "cell_type": "markdown",
   "id": "e2e3099c",
   "metadata": {},
   "source": [
    "'''  \n",
    "SELECT user_id,\n",
    "\n",
    "       COUNT (id),\n",
    "       DENSE_RANK () OVER (ORDER BY COUNT (id) DESC)\n",
    "FROM stackoverflow.badges      \n",
    "\n",
    "WHERE creation_date::date BETWEEN '2008-11-15' AND '2008-12-15'\n",
    "\n",
    "GROUP BY user_id\n",
    "\n",
    "ORDER BY COUNT (id) DESC,\n",
    "\n",
    "         user_id\n",
    "LIMIT 10;\n",
    "\n",
    "'''"
   ]
  },
  {
   "cell_type": "markdown",
   "id": "ff40fd3b",
   "metadata": {},
   "source": [
    "### Задание 8\n",
    "\n",
    "\n",
    "Сколько в среднем очков получает пост каждого пользователя?\n",
    "\n",
    "Сформируйте таблицу из следующих полей:\n",
    "\n",
    "- заголовок поста;\n",
    "- идентификатор пользователя;\n",
    "- число очков поста;\n",
    "- среднее число очков пользователя за пост, округлённое до целого числа.\n",
    "\n",
    "Не учитывайте посты без заголовка, а также те, что набрали ноль очков."
   ]
  },
  {
   "cell_type": "markdown",
   "id": "c786e665",
   "metadata": {},
   "source": [
    "'''  \n",
    "SELECT title, user_id, score,\n",
    "\n",
    "       ROUND(AVG(score) OVER (PARTITION BY user_id))::int\n",
    "FROM stackoverflow.posts     \n",
    "\n",
    "WHERE title IS NOT NULL\n",
    "\n",
    "      AND score != 0;  \n",
    "\n",
    "'''"
   ]
  },
  {
   "cell_type": "markdown",
   "id": "1b892c1a",
   "metadata": {},
   "source": [
    "### Задание 9\n",
    "\n",
    "\n",
    "Отобразите заголовки постов, которые были написаны пользователями, получившими более 1000 значков. Посты без заголовков не должны попасть в список."
   ]
  },
  {
   "cell_type": "markdown",
   "id": "0078cda1",
   "metadata": {},
   "source": [
    "'''  \n",
    "SELECT title\n",
    "\n",
    "FROM stackoverflow.posts \n",
    "\n",
    "WHERE title IS NOT NULL AND\n",
    "\n",
    "       user_id IN (\n",
    "              SELECT user_id \n",
    "              FROM stackoverflow.badges\n",
    "              GROUP BY user_id\n",
    "              HAVING COUNT(id) > 1000) ;\n",
    "\n",
    "'''"
   ]
  },
  {
   "cell_type": "markdown",
   "id": "aec65d66",
   "metadata": {},
   "source": [
    "### Задание 10\n",
    "\n",
    "\n",
    "Напишите запрос, который выгрузит данные о пользователях из Канады (англ. Canada). Разделите пользователей на три группы в зависимости от количества просмотров их профилей:\n",
    "\n",
    "- пользователям с числом просмотров больше либо равным 350 присвойте группу 1;\n",
    "- пользователям с числом просмотров меньше 350, но больше либо равно 100 — группу 2;\n",
    "- пользователям с числом просмотров меньше 100 — группу 3.\n",
    "\n",
    "Отобразите в итоговой таблице идентификатор пользователя, количество просмотров профиля и группу. Пользователи с количеством просмотров меньше либо равным нулю не должны войти в итоговую таблицу."
   ]
  },
  {
   "cell_type": "markdown",
   "id": "bcb30b4e",
   "metadata": {},
   "source": [
    "'''  \n",
    "SELECT id,\n",
    "\n",
    "       views,\n",
    "       CASE\n",
    "          WHEN views >= 350 THEN 1\n",
    "          WHEN views < 100 THEN 3\n",
    "          ELSE 2\n",
    "       END AS group\n",
    "FROM stackoverflow.users\n",
    "\n",
    "WHERE location LIKE '%Canada%' AND views != 0\n",
    "\n",
    " ORDER BY views DESC; \n",
    "\n",
    "'''"
   ]
  },
  {
   "cell_type": "markdown",
   "id": "5df88109",
   "metadata": {},
   "source": [
    "### Задание 11\n",
    "\n",
    "\n",
    "Дополните предыдущий запрос. Отобразите лидеров каждой группы — пользователей, которые набрали максимальное число просмотров в своей группе. Выведите поля с идентификатором пользователя, группой и количеством просмотров. Отсортируйте таблицу по убыванию просмотров, а затем по возрастанию значения идентификатора."
   ]
  },
  {
   "cell_type": "markdown",
   "id": "2b935829",
   "metadata": {},
   "source": [
    "'''  \n",
    " WITH us_users AS\n",
    " \n",
    "(SELECT id AS user_id,\n",
    "\n",
    "        views AS views_cnt,\n",
    "        CASE\n",
    "           WHEN views < 100 THEN 3\n",
    "           WHEN views >= 100 AND views < 350  THEN 2\n",
    "           ELSE 1\n",
    "        END AS groups\n",
    "FROM stackoverflow.users\n",
    "\n",
    "WHERE location LIKE '%Canada%' AND views != 0\n",
    "\n",
    ")\n",
    "\n",
    "SELECT user_id,\n",
    "\n",
    "       groups,\n",
    "       views_cnt\n",
    "FROM (   \n",
    "\n",
    "          SELECT user_id,\n",
    "                 views_cnt,\n",
    "                 groups,\n",
    "                 MAX(views_cnt) OVER (PARTITION BY groups ORDER BY views_cnt DESC) AS max_views\n",
    "            FROM us_users\n",
    "         ) AS max_us\n",
    "WHERE views_cnt =  max_views\n",
    "\n",
    "ORDER BY views_cnt DESC, user_id; \n",
    "\n",
    "'''"
   ]
  },
  {
   "cell_type": "markdown",
   "id": "b0956689",
   "metadata": {},
   "source": [
    "### Задание 12\n",
    "\n",
    "Посчитайте ежедневный прирост новых пользователей в ноябре 2008 года. Сформируйте таблицу с полями:\n",
    "номер дня;\n",
    "\n",
    "- число пользователей, зарегистрированных в этот день;\n",
    "- сумму пользователей с накоплением."
   ]
  },
  {
   "cell_type": "markdown",
   "id": "3174c0d4",
   "metadata": {},
   "source": [
    "'''  \n",
    "WITH t1 AS\n",
    "\n",
    "(\n",
    "\n",
    "SELECT CAST(DATE_TRUNC('day', creation_date) AS date) AS days,\n",
    "\n",
    "       COUNT(id) AS users_cnt\n",
    "FROM stackoverflow.users\n",
    "\n",
    "GROUP BY CAST(DATE_TRUNC('day', creation_date) AS date)\n",
    "\n",
    "ORDER BY CAST(DATE_TRUNC('day', creation_date) AS date)\n",
    "\n",
    ")\n",
    "\n",
    "SELECT RANK() OVER (ORDER BY days),\n",
    "\n",
    "       users_cnt,\n",
    "       SUM(users_cnt) OVER (ORDER BY days)::int AS cum\n",
    "FROM t1 \n",
    "\n",
    "WHERE CAST(DATE_TRUNC('day', days) AS date) BETWEEN '2008-11-01' AND '2008-11-30'; \n",
    "\n",
    "'''"
   ]
  },
  {
   "cell_type": "markdown",
   "id": "e3b0335e",
   "metadata": {},
   "source": [
    "### Задание 13\n",
    "\n",
    "\n",
    "Для каждого пользователя, который написал хотя бы один пост, найдите интервал между регистрацией и временем создания первого поста. Отобразите:\n",
    "\n",
    "- идентификатор пользователя;\n",
    "- разницу во времени между регистрацией и первым постом."
   ]
  },
  {
   "cell_type": "markdown",
   "id": "24d72776",
   "metadata": {},
   "source": [
    "'''  \n",
    "WITH p AS \n",
    "\n",
    "(\n",
    "\n",
    "SELECT user_id,\n",
    "\n",
    "       creation_date,\n",
    "       RANK() OVER (PARTITION BY user_id ORDER BY creation_date) AS first_pub\n",
    "FROM stackoverflow.posts \n",
    "\n",
    "ORDER BY user_id\n",
    "\n",
    ")\n",
    "\n",
    "SELECT user_id,\n",
    "\n",
    "       p.creation_date - u.creation_date AS delta\n",
    "FROM p\n",
    "\n",
    "JOIN stackoverflow.users AS u \n",
    "\n",
    "ON p.user_id = u.id\n",
    "\n",
    "WHERE first_pub = 1;\n",
    "  \n",
    "'''"
   ]
  },
  {
   "cell_type": "markdown",
   "id": "e8e2dd85",
   "metadata": {},
   "source": [
    "## Задания 2 часть:"
   ]
  },
  {
   "cell_type": "markdown",
   "id": "943ae4b1",
   "metadata": {},
   "source": [
    "### Задание 1\n",
    "\n",
    "\n",
    "Выведите общую сумму просмотров у постов, опубликованных в каждый месяц 2008 года. Если данных за какой-либо месяц в базе нет, такой месяц можно пропустить. Результат отсортируйте по убыванию общего количества просмотров."
   ]
  },
  {
   "cell_type": "markdown",
   "id": "a896d449",
   "metadata": {},
   "source": [
    "'''  \n",
    "SELECT DATE_TRUNC('month', creation_date)::date AS month_date,\n",
    "\n",
    "       SUM(views_count) AS total_views\n",
    "FROM stackoverflow.posts\n",
    "\n",
    "WHERE EXTRACT(YEAR FROM creation_date) = 2008\n",
    "\n",
    "GROUP BY DATE_TRUNC('month', creation_date)\n",
    "\n",
    "ORDER BY SUM(views_count) DESC;  \n",
    "\n",
    "'''"
   ]
  },
  {
   "cell_type": "markdown",
   "id": "2e786acc",
   "metadata": {},
   "source": [
    "### Задание 2\n",
    "\n",
    "\n",
    "\n",
    "Выведите имена самых активных пользователей, которые в первый месяц после регистрации (включая день регистрации) дали больше 100 ответов. Вопросы, которые задавали пользователи, не учитывайте. Для каждого имени пользователя выведите количество уникальных значений user_id. Отсортируйте результат по полю с именами в лексикографическом порядке."
   ]
  },
  {
   "cell_type": "markdown",
   "id": "1cb05dfb",
   "metadata": {},
   "source": [
    "'''  \n",
    "SELECT u.display_name,\n",
    "\n",
    "       COUNT(DISTINCT p.user_id)\n",
    "FROM stackoverflow.posts AS p\n",
    "\n",
    "JOIN stackoverflow.users AS u \n",
    "\n",
    "ON p.user_id=u.id\n",
    "\n",
    "JOIN stackoverflow.post_types AS pt\n",
    "\n",
    "ON pt.id=p.post_type_id\n",
    "\n",
    "WHERE p.creation_date::date BETWEEN u.creation_date::date AND (u.creation_date::date + INTERVAL '1 month')\n",
    "\n",
    "      AND pt.type LIKE 'Answer'\n",
    "GROUP BY u.display_name\n",
    "\n",
    "HAVING COUNT(p.id) > 100\n",
    "\n",
    "ORDER BY u.display_name;\n",
    "\n",
    "'''"
   ]
  },
  {
   "cell_type": "markdown",
   "id": "c093b666",
   "metadata": {},
   "source": [
    "### Задание 3\n",
    "\n",
    "Выведите количество постов за 2008 год по месяцам. Отберите посты от пользователей, которые зарегистрировались в сентябре 2008 года и сделали хотя бы один пост в декабре того же года. Отсортируйте таблицу по значению месяца по убыванию."
   ]
  },
  {
   "cell_type": "markdown",
   "id": "20bf4549",
   "metadata": {},
   "source": [
    "'''  \n",
    "WITH users AS\n",
    "\n",
    "(\n",
    "\n",
    "SELECT u.id\n",
    "\n",
    "FROM stackoverflow.posts AS p\n",
    "\n",
    "JOIN stackoverflow.users AS u\n",
    "\n",
    "ON p.user_id=u.id\n",
    "\n",
    "WHERE (u.creation_date::date BETWEEN '2008-09-01' AND '2008-09-30')\n",
    "\n",
    "AND (p.creation_date::date BETWEEN '2008-12-01' AND '2008-12-31')\n",
    "\n",
    "GROUP BY u.id\n",
    "\n",
    ")\n",
    "\n",
    "SELECT DATE_TRUNC('month', p.creation_date)::date AS month,\n",
    "\n",
    "       COUNT(p.id)\n",
    "FROM stackoverflow.posts AS p\n",
    "\n",
    "WHERE p.user_id IN \n",
    "\n",
    "(\n",
    "\n",
    "SELECT *\n",
    "\n",
    "FROM users\n",
    "\n",
    ")\n",
    "\n",
    "      AND DATE_TRUNC('year', p.creation_date)::date = '2008-01-01'\n",
    "GROUP BY DATE_TRUNC('month', p.creation_date)::date\n",
    "\n",
    "ORDER BY DATE_TRUNC('month', p.creation_date)::date DESC;  \n",
    "\n",
    "'''"
   ]
  },
  {
   "cell_type": "markdown",
   "id": "c9a94630",
   "metadata": {},
   "source": [
    "### Задание 4\n",
    "\n",
    "Используя данные о постах, выведите несколько полей:\n",
    "\n",
    "- идентификатор пользователя, который написал пост;\n",
    "- дата создания поста;\n",
    "- количество просмотров у текущего поста;\n",
    "- сумма просмотров постов автора с накоплением.\n",
    "\n",
    "Данные в таблице должны быть отсортированы по возрастанию идентификаторов пользователей, а данные об одном и том же пользователе — по возрастанию даты создания поста."
   ]
  },
  {
   "cell_type": "markdown",
   "id": "47ee1754",
   "metadata": {},
   "source": [
    "'''  \n",
    "SELECT user_id, creation_date, views_count,\n",
    "\n",
    "       SUM (views_count) OVER (PARTITION BY user_id ORDER BY creation_date) AS cumulative_count\n",
    "       \n",
    "FROM stackoverflow.posts\n",
    "\n",
    "ORDER BY user_id, creation_date;  \n",
    "\n",
    "'''"
   ]
  },
  {
   "cell_type": "markdown",
   "id": "06055b08",
   "metadata": {},
   "source": [
    "### Задание 5\n",
    "\n",
    "Сколько в среднем дней в период с 1 по 7 декабря 2008 года включительно пользователи взаимодействовали с платформой? Для каждого пользователя отберите дни, в которые он или она опубликовали хотя бы один пост. Нужно получить одно целое число — не забудьте округлить результат."
   ]
  },
  {
   "cell_type": "markdown",
   "id": "17874ec1",
   "metadata": {},
   "source": [
    "'''  \n",
    "WITH ad AS (SELECT user_id,\n",
    "\n",
    "                   COUNT(DISTINCT creation_date::date)  AS cnt\n",
    "            FROM stackoverflow.posts\n",
    "            WHERE creation_date::date BETWEEN '2008-12-01' AND '2008-12-07' \n",
    "            GROUP BY user_id)\n",
    "\n",
    "SELECT ROUND(AVG(ad.cnt))\n",
    "\n",
    "FROM ad;  \n",
    "\n",
    "'''"
   ]
  },
  {
   "cell_type": "markdown",
   "id": "5d6143a5",
   "metadata": {},
   "source": [
    "### Задание 6\n",
    "\n",
    "На сколько процентов менялось количество постов ежемесячно с 1 сентября по 31 декабря 2008 года? Отобразите таблицу со следующими полями:\n",
    "\n",
    "- Номер месяца.\n",
    "- Количество постов за месяц.\n",
    "- Процент, который показывает, насколько изменилось количество постов в текущем месяце по сравнению с предыдущим.\n",
    "\n",
    "Если постов стало меньше, значение процента должно быть отрицательным, если больше — положительным. Округлите значение процента до двух знаков после запятой.\n",
    "\n",
    "Напомним, что при делении одного целого числа на другое в PostgreSQL в результате получится целое число, округлённое до ближайшего целого вниз. Чтобы этого избежать, переведите делимое в тип numeric."
   ]
  },
  {
   "cell_type": "markdown",
   "id": "7d48811d",
   "metadata": {},
   "source": [
    "'''  \n",
    "WITH month_post AS (SELECT EXTRACT(MONTH from creation_date::date) AS month,\n",
    "\n",
    "                    COUNT(DISTINCT id)    \n",
    "                    FROM stackoverflow.posts\n",
    "                    WHERE creation_date::date BETWEEN '2008-09-01' AND '2008-12-31'\n",
    "                    GROUP BY month)\n",
    "\n",
    "SELECT *,\n",
    "\n",
    "       ROUND(((count::numeric / LAG(count) OVER (ORDER BY month)) - 1) * 100, 2) AS user_growth\n",
    "       \n",
    "FROM month_post;  \n",
    "\n",
    "'''"
   ]
  },
  {
   "cell_type": "markdown",
   "id": "81f931f5",
   "metadata": {},
   "source": [
    "### Задание 7\n",
    "\n",
    "\n",
    "Найдите пользователя, который опубликовал больше всего постов за всё время с момента регистрации. Выведите данные его активности за октябрь 2008 года в таком виде:\n",
    "\n",
    "- номер недели;\n",
    "- дата и время последнего поста, опубликованного на этой неделе."
   ]
  },
  {
   "cell_type": "markdown",
   "id": "c9ca2d31",
   "metadata": {},
   "source": [
    "'''  \n",
    "WITH user_post AS (SELECT user_id,\n",
    "\n",
    "                   COUNT(DISTINCT id) AS cnt\n",
    "                   FROM stackoverflow.posts\n",
    "                   GROUP BY user_id\n",
    "                   ORDER BY cnt DESC\n",
    "                   LIMIT 1),\n",
    "\n",
    "     dtt AS (SELECT p.user_id,\n",
    "             p.creation_date,\n",
    "             extract('week' from p.creation_date) AS week_number\n",
    "             FROM stackoverflow.posts AS p\n",
    "             JOIN user_post ON user_post.user_id = p.user_id\n",
    "             WHERE DATE_TRUNC('month', p.creation_date)::date = '2008-10-01')\n",
    "\n",
    "SELECT DISTINCT week_number::numeric,\n",
    "\n",
    "       MAX(creation_date) OVER (PARTITION BY week_number) AS post_dt\n",
    "FROM dtt\n",
    "\n",
    "ORDER BY week_number; \n",
    "\n",
    "'''"
   ]
  },
  {
   "cell_type": "code",
   "execution_count": null,
   "id": "776c21d9",
   "metadata": {},
   "outputs": [],
   "source": []
  }
 ],
 "metadata": {
  "kernelspec": {
   "display_name": "Python 3 (ipykernel)",
   "language": "python",
   "name": "python3"
  },
  "language_info": {
   "codemirror_mode": {
    "name": "ipython",
    "version": 3
   },
   "file_extension": ".py",
   "mimetype": "text/x-python",
   "name": "python",
   "nbconvert_exporter": "python",
   "pygments_lexer": "ipython3",
   "version": "3.11.5"
  }
 },
 "nbformat": 4,
 "nbformat_minor": 5
}
