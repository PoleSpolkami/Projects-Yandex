{
 "cells": [
  {
   "cell_type": "markdown",
   "metadata": {},
   "source": [
    "# Исследование данных о сервисе GoFast\n",
    "\n",
    "Вы аналитик популярного сервиса аренды самокатов GoFast. Вам передали данные о некоторых пользователях из нескольких городов, а также об их поездках. Проанализируйте данные и проверьте некоторые гипотезы, которые могут помочь бизнесу вырасти. Чтобы совершать поездки по городу, пользователи сервиса GoFast пользуются мобильным приложением."
   ]
  },
  {
   "cell_type": "markdown",
   "metadata": {},
   "source": [
    "Сервисом можно пользоваться:\n",
    "\n",
    "**без подписки**\n",
    "\n",
    "   * абонентская плата отсутствует;\n",
    "   * стоимость одной минуты поездки — 8 рублей;\n",
    "   * стоимость старта (начала поездки) — 50 рублей;\n",
    "   \n",
    "**с подпиской Ultra**\n",
    "\n",
    "   * абонентская плата — 199 рублей в месяц;\n",
    "   * стоимость одной минуты поездки — 6 рублей;\n",
    "   * стоимость старта — бесплатно."
   ]
  },
  {
   "cell_type": "markdown",
   "metadata": {},
   "source": [
    "**Цели исследования:**\n",
    "* Проанализировать данные \n",
    "* Проверить гипотезы\n",
    "* Предобработать данные\n",
    "* Описать и визуализировать общую информацию о пользователях и поездках\n",
    "* Обединить данные\n",
    "* Подсчитать выручку\n",
    "* Провести распределения\n",
    "\n",
    "\n",
    "\n",
    "**Таким образом, исследование пройдёт в семь этапов:**\n",
    "1. Загрузка данных\n",
    "2. Предобработка данных\n",
    "3. Исследовательский анализ данных\n",
    "4. Объединение данных\n",
    "5. Подсчёт выручки\n",
    "6. Проверка гипотез\n",
    "7. Распределения"
   ]
  },
  {
   "cell_type": "markdown",
   "metadata": {},
   "source": [
    "### Загрузка данных"
   ]
  },
  {
   "cell_type": "markdown",
   "metadata": {},
   "source": [
    "#### Считайте CSV-файлы с данными с помощью библиотеки pandas и сохраните их в датафреймы"
   ]
  },
  {
   "cell_type": "code",
   "execution_count": 2,
   "metadata": {},
   "outputs": [],
   "source": [
    "import pandas as pd\n",
    "import numpy as np\n",
    "import matplotlib.pyplot as plt\n",
    "import seaborn as sns \n",
    "from scipy import stats as st"
   ]
  },
  {
   "cell_type": "code",
   "execution_count": 3,
   "metadata": {
    "scrolled": true
   },
   "outputs": [],
   "source": [
    "try:\n",
    "    \n",
    "    df_users = pd.read_csv('users_go.csv')\n",
    "    df_rides = pd.read_csv('rides_go.csv')\n",
    "    df_subscriptions = pd.read_csv('subscriptions_go.csv')\n",
    "    \n",
    "except:\n",
    "    \n",
    "    df_users = pd.read_csv('/datasets/users_go.csv')\n",
    "    df_rides = pd.read_csv('/datasets/rides_go.csv')\n",
    "    df_subscriptions = pd.read_csv('/datasets/subscriptions_go.csv')"
   ]
  },
  {
   "cell_type": "markdown",
   "metadata": {},
   "source": [
    "#### Выведите первые строки каждого набора данных. Изучите общую информацию о каждом датафрейме."
   ]
  },
  {
   "cell_type": "code",
   "execution_count": 4,
   "metadata": {},
   "outputs": [
    {
     "data": {
      "text/html": [
       "<div>\n",
       "<style scoped>\n",
       "    .dataframe tbody tr th:only-of-type {\n",
       "        vertical-align: middle;\n",
       "    }\n",
       "\n",
       "    .dataframe tbody tr th {\n",
       "        vertical-align: top;\n",
       "    }\n",
       "\n",
       "    .dataframe thead th {\n",
       "        text-align: right;\n",
       "    }\n",
       "</style>\n",
       "<table border=\"1\" class=\"dataframe\">\n",
       "  <thead>\n",
       "    <tr style=\"text-align: right;\">\n",
       "      <th></th>\n",
       "      <th>user_id</th>\n",
       "      <th>name</th>\n",
       "      <th>age</th>\n",
       "      <th>city</th>\n",
       "      <th>subscription_type</th>\n",
       "    </tr>\n",
       "  </thead>\n",
       "  <tbody>\n",
       "    <tr>\n",
       "      <th>0</th>\n",
       "      <td>1</td>\n",
       "      <td>Кира</td>\n",
       "      <td>22</td>\n",
       "      <td>Тюмень</td>\n",
       "      <td>ultra</td>\n",
       "    </tr>\n",
       "    <tr>\n",
       "      <th>1</th>\n",
       "      <td>2</td>\n",
       "      <td>Станислав</td>\n",
       "      <td>31</td>\n",
       "      <td>Омск</td>\n",
       "      <td>ultra</td>\n",
       "    </tr>\n",
       "    <tr>\n",
       "      <th>2</th>\n",
       "      <td>3</td>\n",
       "      <td>Алексей</td>\n",
       "      <td>20</td>\n",
       "      <td>Москва</td>\n",
       "      <td>ultra</td>\n",
       "    </tr>\n",
       "    <tr>\n",
       "      <th>3</th>\n",
       "      <td>4</td>\n",
       "      <td>Константин</td>\n",
       "      <td>26</td>\n",
       "      <td>Ростов-на-Дону</td>\n",
       "      <td>ultra</td>\n",
       "    </tr>\n",
       "    <tr>\n",
       "      <th>4</th>\n",
       "      <td>5</td>\n",
       "      <td>Адель</td>\n",
       "      <td>28</td>\n",
       "      <td>Омск</td>\n",
       "      <td>ultra</td>\n",
       "    </tr>\n",
       "    <tr>\n",
       "      <th>5</th>\n",
       "      <td>6</td>\n",
       "      <td>Регина</td>\n",
       "      <td>25</td>\n",
       "      <td>Краснодар</td>\n",
       "      <td>ultra</td>\n",
       "    </tr>\n",
       "    <tr>\n",
       "      <th>6</th>\n",
       "      <td>7</td>\n",
       "      <td>Игорь</td>\n",
       "      <td>23</td>\n",
       "      <td>Омск</td>\n",
       "      <td>ultra</td>\n",
       "    </tr>\n",
       "    <tr>\n",
       "      <th>7</th>\n",
       "      <td>8</td>\n",
       "      <td>Юрий</td>\n",
       "      <td>23</td>\n",
       "      <td>Краснодар</td>\n",
       "      <td>ultra</td>\n",
       "    </tr>\n",
       "    <tr>\n",
       "      <th>8</th>\n",
       "      <td>9</td>\n",
       "      <td>Ян</td>\n",
       "      <td>21</td>\n",
       "      <td>Пятигорск</td>\n",
       "      <td>ultra</td>\n",
       "    </tr>\n",
       "    <tr>\n",
       "      <th>9</th>\n",
       "      <td>10</td>\n",
       "      <td>Валерий</td>\n",
       "      <td>18</td>\n",
       "      <td>Екатеринбург</td>\n",
       "      <td>ultra</td>\n",
       "    </tr>\n",
       "  </tbody>\n",
       "</table>\n",
       "</div>"
      ],
      "text/plain": [
       "   user_id        name  age            city subscription_type\n",
       "0        1        Кира   22          Тюмень             ultra\n",
       "1        2   Станислав   31            Омск             ultra\n",
       "2        3     Алексей   20          Москва             ultra\n",
       "3        4  Константин   26  Ростов-на-Дону             ultra\n",
       "4        5       Адель   28            Омск             ultra\n",
       "5        6      Регина   25       Краснодар             ultra\n",
       "6        7       Игорь   23            Омск             ultra\n",
       "7        8        Юрий   23       Краснодар             ultra\n",
       "8        9          Ян   21       Пятигорск             ultra\n",
       "9       10     Валерий   18    Екатеринбург             ultra"
      ]
     },
     "execution_count": 4,
     "metadata": {},
     "output_type": "execute_result"
    }
   ],
   "source": [
    "df_users.head(10)"
   ]
  },
  {
   "cell_type": "code",
   "execution_count": 5,
   "metadata": {},
   "outputs": [
    {
     "name": "stdout",
     "output_type": "stream",
     "text": [
      "<class 'pandas.core.frame.DataFrame'>\n",
      "RangeIndex: 1565 entries, 0 to 1564\n",
      "Data columns (total 5 columns):\n",
      " #   Column             Non-Null Count  Dtype \n",
      "---  ------             --------------  ----- \n",
      " 0   user_id            1565 non-null   int64 \n",
      " 1   name               1565 non-null   object\n",
      " 2   age                1565 non-null   int64 \n",
      " 3   city               1565 non-null   object\n",
      " 4   subscription_type  1565 non-null   object\n",
      "dtypes: int64(2), object(3)\n",
      "memory usage: 61.3+ KB\n"
     ]
    }
   ],
   "source": [
    "df_users.info()"
   ]
  },
  {
   "cell_type": "markdown",
   "metadata": {},
   "source": [
    "#### ***Пользователи — users_go.csv:***\n",
    "\n",
    "**user_id** - уникальный идентификатор пользователя\n",
    "\n",
    "**name** - имя пользователя\n",
    "\n",
    "**age** - возраст\n",
    "\n",
    "**city** - город\n",
    "\n",
    "**subscription_type** - тип подписки (free, ultra)"
   ]
  },
  {
   "cell_type": "code",
   "execution_count": 6,
   "metadata": {},
   "outputs": [
    {
     "data": {
      "text/html": [
       "<div>\n",
       "<style scoped>\n",
       "    .dataframe tbody tr th:only-of-type {\n",
       "        vertical-align: middle;\n",
       "    }\n",
       "\n",
       "    .dataframe tbody tr th {\n",
       "        vertical-align: top;\n",
       "    }\n",
       "\n",
       "    .dataframe thead th {\n",
       "        text-align: right;\n",
       "    }\n",
       "</style>\n",
       "<table border=\"1\" class=\"dataframe\">\n",
       "  <thead>\n",
       "    <tr style=\"text-align: right;\">\n",
       "      <th></th>\n",
       "      <th>user_id</th>\n",
       "      <th>distance</th>\n",
       "      <th>duration</th>\n",
       "      <th>date</th>\n",
       "    </tr>\n",
       "  </thead>\n",
       "  <tbody>\n",
       "    <tr>\n",
       "      <th>0</th>\n",
       "      <td>1</td>\n",
       "      <td>4409.919140</td>\n",
       "      <td>25.599769</td>\n",
       "      <td>2021-01-01</td>\n",
       "    </tr>\n",
       "    <tr>\n",
       "      <th>1</th>\n",
       "      <td>1</td>\n",
       "      <td>2617.592153</td>\n",
       "      <td>15.816871</td>\n",
       "      <td>2021-01-18</td>\n",
       "    </tr>\n",
       "    <tr>\n",
       "      <th>2</th>\n",
       "      <td>1</td>\n",
       "      <td>754.159807</td>\n",
       "      <td>6.232113</td>\n",
       "      <td>2021-04-20</td>\n",
       "    </tr>\n",
       "    <tr>\n",
       "      <th>3</th>\n",
       "      <td>1</td>\n",
       "      <td>2694.783254</td>\n",
       "      <td>18.511000</td>\n",
       "      <td>2021-08-11</td>\n",
       "    </tr>\n",
       "    <tr>\n",
       "      <th>4</th>\n",
       "      <td>1</td>\n",
       "      <td>4028.687306</td>\n",
       "      <td>26.265803</td>\n",
       "      <td>2021-08-28</td>\n",
       "    </tr>\n",
       "    <tr>\n",
       "      <th>5</th>\n",
       "      <td>1</td>\n",
       "      <td>2770.890808</td>\n",
       "      <td>16.650138</td>\n",
       "      <td>2021-10-09</td>\n",
       "    </tr>\n",
       "    <tr>\n",
       "      <th>6</th>\n",
       "      <td>1</td>\n",
       "      <td>3039.020292</td>\n",
       "      <td>14.927879</td>\n",
       "      <td>2021-10-19</td>\n",
       "    </tr>\n",
       "    <tr>\n",
       "      <th>7</th>\n",
       "      <td>1</td>\n",
       "      <td>2842.118050</td>\n",
       "      <td>23.117468</td>\n",
       "      <td>2021-11-06</td>\n",
       "    </tr>\n",
       "    <tr>\n",
       "      <th>8</th>\n",
       "      <td>1</td>\n",
       "      <td>3412.690668</td>\n",
       "      <td>15.238072</td>\n",
       "      <td>2021-11-14</td>\n",
       "    </tr>\n",
       "    <tr>\n",
       "      <th>9</th>\n",
       "      <td>1</td>\n",
       "      <td>748.690645</td>\n",
       "      <td>15.041884</td>\n",
       "      <td>2021-11-22</td>\n",
       "    </tr>\n",
       "  </tbody>\n",
       "</table>\n",
       "</div>"
      ],
      "text/plain": [
       "   user_id     distance   duration        date\n",
       "0        1  4409.919140  25.599769  2021-01-01\n",
       "1        1  2617.592153  15.816871  2021-01-18\n",
       "2        1   754.159807   6.232113  2021-04-20\n",
       "3        1  2694.783254  18.511000  2021-08-11\n",
       "4        1  4028.687306  26.265803  2021-08-28\n",
       "5        1  2770.890808  16.650138  2021-10-09\n",
       "6        1  3039.020292  14.927879  2021-10-19\n",
       "7        1  2842.118050  23.117468  2021-11-06\n",
       "8        1  3412.690668  15.238072  2021-11-14\n",
       "9        1   748.690645  15.041884  2021-11-22"
      ]
     },
     "execution_count": 6,
     "metadata": {},
     "output_type": "execute_result"
    }
   ],
   "source": [
    "df_rides.head(10)"
   ]
  },
  {
   "cell_type": "code",
   "execution_count": 7,
   "metadata": {},
   "outputs": [
    {
     "name": "stdout",
     "output_type": "stream",
     "text": [
      "<class 'pandas.core.frame.DataFrame'>\n",
      "RangeIndex: 18068 entries, 0 to 18067\n",
      "Data columns (total 4 columns):\n",
      " #   Column    Non-Null Count  Dtype  \n",
      "---  ------    --------------  -----  \n",
      " 0   user_id   18068 non-null  int64  \n",
      " 1   distance  18068 non-null  float64\n",
      " 2   duration  18068 non-null  float64\n",
      " 3   date      18068 non-null  object \n",
      "dtypes: float64(2), int64(1), object(1)\n",
      "memory usage: 564.8+ KB\n"
     ]
    }
   ],
   "source": [
    "df_rides.info()"
   ]
  },
  {
   "cell_type": "markdown",
   "metadata": {},
   "source": [
    "#### ***Поездки — rides_go.csv:***\n",
    "\n",
    "**user_id** - уникальный идентификатор пользователя\n",
    "\n",
    "**distance** - расстояние, которое пользователь проехал в текущей сессии (в метрах)\n",
    "\n",
    "**duration** - продолжительность сессии (в минутах) — время с того момента, как пользователь нажал кнопку «Начать поездку» до момента, как он нажал кнопку «Завершить поездку»\n",
    "\n",
    "**date** - дата совершения поездки"
   ]
  },
  {
   "cell_type": "code",
   "execution_count": 8,
   "metadata": {},
   "outputs": [
    {
     "data": {
      "text/html": [
       "<div>\n",
       "<style scoped>\n",
       "    .dataframe tbody tr th:only-of-type {\n",
       "        vertical-align: middle;\n",
       "    }\n",
       "\n",
       "    .dataframe tbody tr th {\n",
       "        vertical-align: top;\n",
       "    }\n",
       "\n",
       "    .dataframe thead th {\n",
       "        text-align: right;\n",
       "    }\n",
       "</style>\n",
       "<table border=\"1\" class=\"dataframe\">\n",
       "  <thead>\n",
       "    <tr style=\"text-align: right;\">\n",
       "      <th></th>\n",
       "      <th>subscription_type</th>\n",
       "      <th>minute_price</th>\n",
       "      <th>start_ride_price</th>\n",
       "      <th>subscription_fee</th>\n",
       "    </tr>\n",
       "  </thead>\n",
       "  <tbody>\n",
       "    <tr>\n",
       "      <th>0</th>\n",
       "      <td>free</td>\n",
       "      <td>8</td>\n",
       "      <td>50</td>\n",
       "      <td>0</td>\n",
       "    </tr>\n",
       "    <tr>\n",
       "      <th>1</th>\n",
       "      <td>ultra</td>\n",
       "      <td>6</td>\n",
       "      <td>0</td>\n",
       "      <td>199</td>\n",
       "    </tr>\n",
       "  </tbody>\n",
       "</table>\n",
       "</div>"
      ],
      "text/plain": [
       "  subscription_type  minute_price  start_ride_price  subscription_fee\n",
       "0              free             8                50                 0\n",
       "1             ultra             6                 0               199"
      ]
     },
     "execution_count": 8,
     "metadata": {},
     "output_type": "execute_result"
    }
   ],
   "source": [
    "df_subscriptions.head()"
   ]
  },
  {
   "cell_type": "code",
   "execution_count": 9,
   "metadata": {},
   "outputs": [
    {
     "name": "stdout",
     "output_type": "stream",
     "text": [
      "<class 'pandas.core.frame.DataFrame'>\n",
      "RangeIndex: 2 entries, 0 to 1\n",
      "Data columns (total 4 columns):\n",
      " #   Column             Non-Null Count  Dtype \n",
      "---  ------             --------------  ----- \n",
      " 0   subscription_type  2 non-null      object\n",
      " 1   minute_price       2 non-null      int64 \n",
      " 2   start_ride_price   2 non-null      int64 \n",
      " 3   subscription_fee   2 non-null      int64 \n",
      "dtypes: int64(3), object(1)\n",
      "memory usage: 192.0+ bytes\n"
     ]
    }
   ],
   "source": [
    "df_subscriptions.info()"
   ]
  },
  {
   "cell_type": "markdown",
   "metadata": {},
   "source": [
    "#### ***Подписки — subscriptions_go.csv:***\n",
    "\n",
    "**subscription_type** - тип подписки\n",
    "\n",
    "**minute_price** - стоимость одной минуты поездки по данной подписке\n",
    "\n",
    "**start_ride_price** - стоимость начала поездки\n",
    "\n",
    "**subscription_fee** - стоимость ежемесячного платежа"
   ]
  },
  {
   "cell_type": "markdown",
   "metadata": {},
   "source": [
    "**Вывод:**\n",
    "\n",
    "Создано три датафрейма: \n",
    "\n",
    "*df_users* из файла users_go.csv с описанием пользователей \n",
    "\n",
    "*df_rides* из файла rides_go.csv с описанием поездок \n",
    "\n",
    "*df_subscriptions* из файла subscriptions_go.csv с описанием подписок \n",
    "\n",
    "Первично изучив данные можно сказать, что всего имеем 19 635 записи."
   ]
  },
  {
   "cell_type": "markdown",
   "metadata": {},
   "source": [
    "### Предобработка данных"
   ]
  },
  {
   "cell_type": "markdown",
   "metadata": {},
   "source": [
    "#### Приведите столбец date к типу даты pandas."
   ]
  },
  {
   "cell_type": "code",
   "execution_count": 10,
   "metadata": {},
   "outputs": [
    {
     "name": "stdout",
     "output_type": "stream",
     "text": [
      "<class 'pandas.core.frame.DataFrame'>\n",
      "RangeIndex: 18068 entries, 0 to 18067\n",
      "Data columns (total 4 columns):\n",
      " #   Column    Non-Null Count  Dtype         \n",
      "---  ------    --------------  -----         \n",
      " 0   user_id   18068 non-null  int64         \n",
      " 1   distance  18068 non-null  float64       \n",
      " 2   duration  18068 non-null  float64       \n",
      " 3   date      18068 non-null  datetime64[ns]\n",
      "dtypes: datetime64[ns](1), float64(2), int64(1)\n",
      "memory usage: 564.8 KB\n"
     ]
    }
   ],
   "source": [
    "df_rides['date'] = pd.to_datetime(df_rides['date'], format='%Y-%m-%d')\n",
    "df_rides.info()"
   ]
  },
  {
   "cell_type": "code",
   "execution_count": 11,
   "metadata": {},
   "outputs": [
    {
     "data": {
      "text/plain": [
       "Timestamp('2021-01-01 00:00:00')"
      ]
     },
     "execution_count": 11,
     "metadata": {},
     "output_type": "execute_result"
    }
   ],
   "source": [
    "min(df_rides['date'])"
   ]
  },
  {
   "cell_type": "code",
   "execution_count": 12,
   "metadata": {},
   "outputs": [
    {
     "data": {
      "text/plain": [
       "Timestamp('2021-12-30 00:00:00')"
      ]
     },
     "execution_count": 12,
     "metadata": {},
     "output_type": "execute_result"
    }
   ],
   "source": [
    "max(df_rides['date'])"
   ]
  },
  {
   "cell_type": "markdown",
   "metadata": {},
   "source": [
    "*Имеем данные за весь период 2021 года.*"
   ]
  },
  {
   "cell_type": "markdown",
   "metadata": {},
   "source": [
    "#### Создайте новый столбец с номером месяца на основе столбца date."
   ]
  },
  {
   "cell_type": "code",
   "execution_count": 13,
   "metadata": {},
   "outputs": [
    {
     "name": "stdout",
     "output_type": "stream",
     "text": [
      "<class 'pandas.core.frame.DataFrame'>\n",
      "RangeIndex: 18068 entries, 0 to 18067\n",
      "Data columns (total 5 columns):\n",
      " #   Column    Non-Null Count  Dtype         \n",
      "---  ------    --------------  -----         \n",
      " 0   user_id   18068 non-null  int64         \n",
      " 1   distance  18068 non-null  float64       \n",
      " 2   duration  18068 non-null  float64       \n",
      " 3   date      18068 non-null  datetime64[ns]\n",
      " 4   month     18068 non-null  int64         \n",
      "dtypes: datetime64[ns](1), float64(2), int64(2)\n",
      "memory usage: 705.9 KB\n"
     ]
    }
   ],
   "source": [
    "df_rides['month'] = df_rides['date'].dt.month\n",
    "df_rides.info()"
   ]
  },
  {
   "cell_type": "markdown",
   "metadata": {},
   "source": [
    "#### Проверьте наличие пропущенных значений и дубликатов в датафреймах. Обработайте их, если такие значения присутствуют."
   ]
  },
  {
   "cell_type": "markdown",
   "metadata": {},
   "source": [
    "**Пропущенные значения и дубликаты в df_users**"
   ]
  },
  {
   "cell_type": "code",
   "execution_count": 14,
   "metadata": {},
   "outputs": [
    {
     "data": {
      "text/plain": [
       "user_id              0\n",
       "name                 0\n",
       "age                  0\n",
       "city                 0\n",
       "subscription_type    0\n",
       "dtype: int64"
      ]
     },
     "execution_count": 14,
     "metadata": {},
     "output_type": "execute_result"
    }
   ],
   "source": [
    "df_users.isna().sum()"
   ]
  },
  {
   "cell_type": "markdown",
   "metadata": {},
   "source": [
    "*Пропущенных значений в df_users не обнаружено*"
   ]
  },
  {
   "cell_type": "markdown",
   "metadata": {},
   "source": [
    "*В данном датафреме повторяющиеся неявные значения могуут быть только в таблице с городом, проверим его*"
   ]
  },
  {
   "cell_type": "code",
   "execution_count": 15,
   "metadata": {},
   "outputs": [
    {
     "data": {
      "text/plain": [
       "array(['Екатеринбург', 'Краснодар', 'Москва', 'Омск', 'Пятигорск',\n",
       "       'Ростов-на-Дону', 'Сочи', 'Тюмень'], dtype=object)"
      ]
     },
     "execution_count": 15,
     "metadata": {},
     "output_type": "execute_result"
    }
   ],
   "source": [
    "df_users['city'].sort_values().unique()"
   ]
  },
  {
   "cell_type": "markdown",
   "metadata": {},
   "source": [
    "*Неявных дубликатов в df_users не обнаружено*"
   ]
  },
  {
   "cell_type": "code",
   "execution_count": 16,
   "metadata": {},
   "outputs": [
    {
     "data": {
      "text/plain": [
       "31"
      ]
     },
     "execution_count": 16,
     "metadata": {},
     "output_type": "execute_result"
    }
   ],
   "source": [
    "df_users.duplicated().sum()"
   ]
  },
  {
   "cell_type": "markdown",
   "metadata": {},
   "source": [
    "*Присутствует 31 дубликат, удалим*"
   ]
  },
  {
   "cell_type": "code",
   "execution_count": 17,
   "metadata": {},
   "outputs": [],
   "source": [
    "df_users.drop_duplicates(inplace=True)"
   ]
  },
  {
   "cell_type": "code",
   "execution_count": 18,
   "metadata": {},
   "outputs": [
    {
     "data": {
      "text/plain": [
       "0"
      ]
     },
     "execution_count": 18,
     "metadata": {},
     "output_type": "execute_result"
    }
   ],
   "source": [
    "df_users.duplicated().sum()"
   ]
  },
  {
   "cell_type": "markdown",
   "metadata": {},
   "source": [
    "*Явные дубликаты удалены*"
   ]
  },
  {
   "cell_type": "markdown",
   "metadata": {},
   "source": [
    "**Пропущенные значения и дубликаты в df_rides**"
   ]
  },
  {
   "cell_type": "code",
   "execution_count": 19,
   "metadata": {},
   "outputs": [
    {
     "data": {
      "text/plain": [
       "user_id     0\n",
       "distance    0\n",
       "duration    0\n",
       "date        0\n",
       "month       0\n",
       "dtype: int64"
      ]
     },
     "execution_count": 19,
     "metadata": {},
     "output_type": "execute_result"
    }
   ],
   "source": [
    "df_rides.isna().sum()"
   ]
  },
  {
   "cell_type": "markdown",
   "metadata": {},
   "source": [
    "*Пропущенных значений в df_rides не обнаружено*"
   ]
  },
  {
   "cell_type": "code",
   "execution_count": 20,
   "metadata": {},
   "outputs": [
    {
     "data": {
      "text/plain": [
       "array([   1,    2,    3, ..., 1532, 1533, 1534])"
      ]
     },
     "execution_count": 20,
     "metadata": {},
     "output_type": "execute_result"
    }
   ],
   "source": [
    "df_rides['user_id'].sort_values().unique()"
   ]
  },
  {
   "cell_type": "code",
   "execution_count": 21,
   "metadata": {},
   "outputs": [
    {
     "data": {
      "text/plain": [
       "0"
      ]
     },
     "execution_count": 21,
     "metadata": {},
     "output_type": "execute_result"
    }
   ],
   "source": [
    "df_rides.duplicated().sum()"
   ]
  },
  {
   "cell_type": "markdown",
   "metadata": {},
   "source": [
    "*Явных и неявных дубликатов не обнаружено*"
   ]
  },
  {
   "cell_type": "markdown",
   "metadata": {},
   "source": [
    "**Пропущенные значения и дубликаты в df_subscriptions**"
   ]
  },
  {
   "cell_type": "code",
   "execution_count": 22,
   "metadata": {},
   "outputs": [
    {
     "data": {
      "text/plain": [
       "subscription_type    0\n",
       "minute_price         0\n",
       "start_ride_price     0\n",
       "subscription_fee     0\n",
       "dtype: int64"
      ]
     },
     "execution_count": 22,
     "metadata": {},
     "output_type": "execute_result"
    }
   ],
   "source": [
    "df_subscriptions.isna().sum()"
   ]
  },
  {
   "cell_type": "markdown",
   "metadata": {},
   "source": [
    "*Пропущенных значений в df_subscriptions не обнаружено*"
   ]
  },
  {
   "cell_type": "code",
   "execution_count": 23,
   "metadata": {},
   "outputs": [
    {
     "data": {
      "text/plain": [
       "0"
      ]
     },
     "execution_count": 23,
     "metadata": {},
     "output_type": "execute_result"
    }
   ],
   "source": [
    "df_subscriptions.duplicated().sum()"
   ]
  },
  {
   "cell_type": "markdown",
   "metadata": {},
   "source": [
    "*Дубликатов не обнаружено*"
   ]
  },
  {
   "cell_type": "markdown",
   "metadata": {},
   "source": [
    "**Вывод:**\n",
    "\n",
    "Столбец date приведён к типу даты pandas. Создан новый столбец с номером месяца. Проверены все датафреймы на наличие пропущенных значений и дубликатов."
   ]
  },
  {
   "cell_type": "markdown",
   "metadata": {},
   "source": [
    "### Исследовательский анализ данных"
   ]
  },
  {
   "cell_type": "markdown",
   "metadata": {},
   "source": [
    "#### Частота встречаемости городов"
   ]
  },
  {
   "cell_type": "code",
   "execution_count": 24,
   "metadata": {},
   "outputs": [
    {
     "data": {
      "image/png": "[encoded data removed]",
      "text/plain": [
       "<Figure size 720x504 with 1 Axes>"
      ]
     },
     "metadata": {
      "needs_background": "light"
     },
     "output_type": "display_data"
    }
   ],
   "source": [
    "(df_users['city']\n",
    "    .value_counts(ascending= True)\n",
    "    .plot(kind='barh', figsize=(10, 7), ec='black'))\n",
    "\n",
    "plt.title('Частота встречаемости городов')\n",
    "plt.xlabel('Частота(шт.)')\n",
    "plt.ylabel('Город')\n",
    "plt.show()"
   ]
  },
  {
   "cell_type": "markdown",
   "metadata": {},
   "source": [
    "*По графику видно, что Пятигигорск встречается чаще всего, хотя из всего списка он является городом с самым низким количеством населения(144 955 чел.). Это можно объяснить тем, что сервис GoFast является единсвенным сервисом проката самокатов в городе, поэтому там его испольуют чаще, чем в других городах.*"
   ]
  },
  {
   "cell_type": "markdown",
   "metadata": {},
   "source": [
    "#### Соотношение пользователей с подпиской и без подписки"
   ]
  },
  {
   "cell_type": "code",
   "execution_count": 26,
   "metadata": {},
   "outputs": [
    {
     "data": {
      "image/png": "[encoded data removed]",
      "text/plain": [
       "<Figure size 720x504 with 1 Axes>"
      ]
     },
     "metadata": {},
     "output_type": "display_data"
    }
   ],
   "source": [
    "(df_users['subscription_type']\n",
    "    .value_counts()\n",
    "    .plot(kind='pie', y='Тип подписки',figsize=(10, 7), autopct='%1.0f%%',explode = (0.05, 0.05),colors = sns.color_palette('pastel')[ 0:2 ]))\n",
    "\n",
    "plt.title('Соотношение пользователей с подпиской и без подписки')\n",
    "plt.ylabel('Тип подписки')\n",
    "plt.show()"
   ]
  },
  {
   "cell_type": "markdown",
   "metadata": {},
   "source": [
    "*Пользователей без подписки больше чем пользователей с подпиской. Это можно объяснить тем, что большинство пользователей не так часто пользуются сервисом и потребность в подписке отсутсвует. Или они просто считают, что подписка не так выгодна.*"
   ]
  },
  {
   "cell_type": "markdown",
   "metadata": {},
   "source": [
    "#### Возраст пользователей"
   ]
  },
  {
   "cell_type": "code",
   "execution_count": 25,
   "metadata": {},
   "outputs": [
    {
     "data": {
      "text/plain": [
       "count    1534.000000\n",
       "mean       24.903520\n",
       "std         4.572367\n",
       "min        12.000000\n",
       "25%        22.000000\n",
       "50%        25.000000\n",
       "75%        28.000000\n",
       "max        43.000000\n",
       "Name: age, dtype: float64"
      ]
     },
     "execution_count": 25,
     "metadata": {},
     "output_type": "execute_result"
    }
   ],
   "source": [
    "df_users['age'].describe()"
   ]
  },
  {
   "cell_type": "code",
   "execution_count": 26,
   "metadata": {},
   "outputs": [
    {
     "data": {
      "image/png": "[encoded data removed]",
      "text/plain": [
       "<Figure size 720x504 with 1 Axes>"
      ]
     },
     "metadata": {
      "needs_background": "light"
     },
     "output_type": "display_data"
    }
   ],
   "source": [
    "df_users.hist('age',bins=30, figsize=(10, 7), ec='black')\n",
    "\n",
    "plt.title('Возраст пользователей')\n",
    "plt.xlabel('Возраст(г.)')\n",
    "plt.ylabel('Количество пользователей')\n",
    "plt.show()"
   ]
  },
  {
   "cell_type": "markdown",
   "metadata": {},
   "source": [
    "*По графику видно, что чаще всего встречаются пользователи от 22 до 28 лет. Возраст ниже 15 можно принять как неверное обозначение даты рождения при регистрации*"
   ]
  },
  {
   "cell_type": "markdown",
   "metadata": {},
   "source": [
    "#### Расстояние, которое пользователь преодолел за одну поездку"
   ]
  },
  {
   "cell_type": "code",
   "execution_count": 27,
   "metadata": {},
   "outputs": [
    {
     "data": {
      "image/png": "[encoded data removed]",
      "text/plain": [
       "<Figure size 720x504 with 1 Axes>"
      ]
     },
     "metadata": {
      "needs_background": "light"
     },
     "output_type": "display_data"
    }
   ],
   "source": [
    "df_rides.hist('distance',bins=30, figsize=(10, 7), ec='black')\n",
    "\n",
    "plt.title('Расстояние, которое пользователь преодолел за одну поездку')\n",
    "plt.xlabel('Дистанция(м.)')\n",
    "plt.ylabel('Количество пользователей')\n",
    "plt.show()"
   ]
  },
  {
   "cell_type": "markdown",
   "metadata": {},
   "source": [
    "*Чаще всего совершаются поездки от 2500 до 4200 метров. Пиковые значения возможно связаны с тем, что пользователи берут самокаты чтобы доехать до нужной точки, которая расположена не так далеко. Это и дешевле чем такси и быстрее чем транспорт. Малый пик может означать что это поездки совершенные пользователями\"на пробу\" узнать что такое самокат и прочее.*"
   ]
  },
  {
   "cell_type": "markdown",
   "metadata": {},
   "source": [
    "#### Продолжительность поездок"
   ]
  },
  {
   "cell_type": "code",
   "execution_count": 28,
   "metadata": {},
   "outputs": [
    {
     "data": {
      "image/png": "[encoded data removed]",
      "text/plain": [
       "<Figure size 720x504 with 1 Axes>"
      ]
     },
     "metadata": {
      "needs_background": "light"
     },
     "output_type": "display_data"
    }
   ],
   "source": [
    "df_rides.hist('duration',bins=35, figsize=(10, 7), ec='black')\n",
    "\n",
    "plt.title('Продолжительность поездок')\n",
    "plt.xlabel('Время(мин.)')\n",
    "plt.ylabel('Количество пользователей')\n",
    "plt.show()"
   ]
  },
  {
   "cell_type": "markdown",
   "metadata": {},
   "source": [
    "*Чаще встречаются поездки от 10 до 25 минут, что в принципе совпадает с расстоянием поездок. Присутсвует пик у нуля, проверим на выбросы.*"
   ]
  },
  {
   "cell_type": "code",
   "execution_count": 29,
   "metadata": {},
   "outputs": [
    {
     "data": {
      "image/png": "[encoded data removed]",
      "text/plain": [
       "<Figure size 720x504 with 1 Axes>"
      ]
     },
     "metadata": {
      "needs_background": "light"
     },
     "output_type": "display_data"
    }
   ],
   "source": [
    "df_rides.boxplot(column='duration', figsize=(10, 7))\n",
    "plt.title('Размах продолжительности поездок')\n",
    "plt.ylim(1, 40)\n",
    "plt.ylabel('Время(мин.)')\n",
    "plt.xlabel('Поездки')\n",
    "plt.show()\n"
   ]
  },
  {
   "cell_type": "markdown",
   "metadata": {},
   "source": [
    "*Значения у нуля не являются выбросами. Либо это поездки завершенные по технической ошибке. Либо, что более вероятно, поездки с фиксированной стоимостью, где цена идет в целом за расстояние до точки, а не за минуты.*"
   ]
  },
  {
   "cell_type": "code",
   "execution_count": 46,
   "metadata": {},
   "outputs": [
    {
     "data": {
      "image/png": "[encoded data removed]",
      "text/plain": [
       "<Figure size 720x504 with 1 Axes>"
      ]
     },
     "metadata": {
      "needs_background": "light"
     },
     "output_type": "display_data"
    }
   ],
   "source": [
    "# код ревьюера\n",
    "df_rides.boxplot(column='duration', figsize=(10, 7))\n",
    "plt.title('Размах продолжительности поездок')\n",
    "# plt.ylim(1, 40)\n",
    "plt.ylabel('Время(мин.)')\n",
    "plt.xlabel('Поездки')\n",
    "plt.show()"
   ]
  },
  {
   "cell_type": "markdown",
   "metadata": {},
   "source": [
    "**Вывод:** \n",
    "\n",
    "Визуализирована и описана общая информация о пользователях и поездках. \n",
    "\n",
    "Чаще всего встречаются поездки из Пятигорска, расстоянием от 2500 до 4200 метров и продолжтельностью от 10 до 25 минут, совершенные пользователями от 22 до 28 лет, которые не имеют подписки на сервис."
   ]
  },
  {
   "cell_type": "markdown",
   "metadata": {},
   "source": [
    "### Объединение данных"
   ]
  },
  {
   "cell_type": "markdown",
   "metadata": {},
   "source": [
    "#### Объедините данные о пользователях, поездках и подписках в один датафрейм. Для этого воспользуйтесь методом merge()."
   ]
  },
  {
   "cell_type": "code",
   "execution_count": 30,
   "metadata": {},
   "outputs": [
    {
     "data": {
      "text/html": [
       "<div>\n",
       "<style scoped>\n",
       "    .dataframe tbody tr th:only-of-type {\n",
       "        vertical-align: middle;\n",
       "    }\n",
       "\n",
       "    .dataframe tbody tr th {\n",
       "        vertical-align: top;\n",
       "    }\n",
       "\n",
       "    .dataframe thead th {\n",
       "        text-align: right;\n",
       "    }\n",
       "</style>\n",
       "<table border=\"1\" class=\"dataframe\">\n",
       "  <thead>\n",
       "    <tr style=\"text-align: right;\">\n",
       "      <th></th>\n",
       "      <th>user_id</th>\n",
       "      <th>name</th>\n",
       "      <th>age</th>\n",
       "      <th>city</th>\n",
       "      <th>subscription_type</th>\n",
       "      <th>distance</th>\n",
       "      <th>duration</th>\n",
       "      <th>date</th>\n",
       "      <th>month</th>\n",
       "      <th>minute_price</th>\n",
       "      <th>start_ride_price</th>\n",
       "      <th>subscription_fee</th>\n",
       "    </tr>\n",
       "  </thead>\n",
       "  <tbody>\n",
       "    <tr>\n",
       "      <th>0</th>\n",
       "      <td>1</td>\n",
       "      <td>Кира</td>\n",
       "      <td>22</td>\n",
       "      <td>Тюмень</td>\n",
       "      <td>ultra</td>\n",
       "      <td>4409.919140</td>\n",
       "      <td>25.599769</td>\n",
       "      <td>2021-01-01</td>\n",
       "      <td>1</td>\n",
       "      <td>6</td>\n",
       "      <td>0</td>\n",
       "      <td>199</td>\n",
       "    </tr>\n",
       "    <tr>\n",
       "      <th>1</th>\n",
       "      <td>1</td>\n",
       "      <td>Кира</td>\n",
       "      <td>22</td>\n",
       "      <td>Тюмень</td>\n",
       "      <td>ultra</td>\n",
       "      <td>2617.592153</td>\n",
       "      <td>15.816871</td>\n",
       "      <td>2021-01-18</td>\n",
       "      <td>1</td>\n",
       "      <td>6</td>\n",
       "      <td>0</td>\n",
       "      <td>199</td>\n",
       "    </tr>\n",
       "    <tr>\n",
       "      <th>2</th>\n",
       "      <td>1</td>\n",
       "      <td>Кира</td>\n",
       "      <td>22</td>\n",
       "      <td>Тюмень</td>\n",
       "      <td>ultra</td>\n",
       "      <td>754.159807</td>\n",
       "      <td>6.232113</td>\n",
       "      <td>2021-04-20</td>\n",
       "      <td>4</td>\n",
       "      <td>6</td>\n",
       "      <td>0</td>\n",
       "      <td>199</td>\n",
       "    </tr>\n",
       "    <tr>\n",
       "      <th>3</th>\n",
       "      <td>1</td>\n",
       "      <td>Кира</td>\n",
       "      <td>22</td>\n",
       "      <td>Тюмень</td>\n",
       "      <td>ultra</td>\n",
       "      <td>2694.783254</td>\n",
       "      <td>18.511000</td>\n",
       "      <td>2021-08-11</td>\n",
       "      <td>8</td>\n",
       "      <td>6</td>\n",
       "      <td>0</td>\n",
       "      <td>199</td>\n",
       "    </tr>\n",
       "    <tr>\n",
       "      <th>4</th>\n",
       "      <td>1</td>\n",
       "      <td>Кира</td>\n",
       "      <td>22</td>\n",
       "      <td>Тюмень</td>\n",
       "      <td>ultra</td>\n",
       "      <td>4028.687306</td>\n",
       "      <td>26.265803</td>\n",
       "      <td>2021-08-28</td>\n",
       "      <td>8</td>\n",
       "      <td>6</td>\n",
       "      <td>0</td>\n",
       "      <td>199</td>\n",
       "    </tr>\n",
       "    <tr>\n",
       "      <th>...</th>\n",
       "      <td>...</td>\n",
       "      <td>...</td>\n",
       "      <td>...</td>\n",
       "      <td>...</td>\n",
       "      <td>...</td>\n",
       "      <td>...</td>\n",
       "      <td>...</td>\n",
       "      <td>...</td>\n",
       "      <td>...</td>\n",
       "      <td>...</td>\n",
       "      <td>...</td>\n",
       "      <td>...</td>\n",
       "    </tr>\n",
       "    <tr>\n",
       "      <th>18063</th>\n",
       "      <td>1534</td>\n",
       "      <td>Альберт</td>\n",
       "      <td>25</td>\n",
       "      <td>Краснодар</td>\n",
       "      <td>free</td>\n",
       "      <td>3781.098080</td>\n",
       "      <td>19.822962</td>\n",
       "      <td>2021-11-04</td>\n",
       "      <td>11</td>\n",
       "      <td>8</td>\n",
       "      <td>50</td>\n",
       "      <td>0</td>\n",
       "    </tr>\n",
       "    <tr>\n",
       "      <th>18064</th>\n",
       "      <td>1534</td>\n",
       "      <td>Альберт</td>\n",
       "      <td>25</td>\n",
       "      <td>Краснодар</td>\n",
       "      <td>free</td>\n",
       "      <td>2840.423057</td>\n",
       "      <td>21.409799</td>\n",
       "      <td>2021-11-16</td>\n",
       "      <td>11</td>\n",
       "      <td>8</td>\n",
       "      <td>50</td>\n",
       "      <td>0</td>\n",
       "    </tr>\n",
       "    <tr>\n",
       "      <th>18065</th>\n",
       "      <td>1534</td>\n",
       "      <td>Альберт</td>\n",
       "      <td>25</td>\n",
       "      <td>Краснодар</td>\n",
       "      <td>free</td>\n",
       "      <td>3826.185507</td>\n",
       "      <td>18.435051</td>\n",
       "      <td>2021-11-18</td>\n",
       "      <td>11</td>\n",
       "      <td>8</td>\n",
       "      <td>50</td>\n",
       "      <td>0</td>\n",
       "    </tr>\n",
       "    <tr>\n",
       "      <th>18066</th>\n",
       "      <td>1534</td>\n",
       "      <td>Альберт</td>\n",
       "      <td>25</td>\n",
       "      <td>Краснодар</td>\n",
       "      <td>free</td>\n",
       "      <td>2902.308661</td>\n",
       "      <td>16.674362</td>\n",
       "      <td>2021-11-27</td>\n",
       "      <td>11</td>\n",
       "      <td>8</td>\n",
       "      <td>50</td>\n",
       "      <td>0</td>\n",
       "    </tr>\n",
       "    <tr>\n",
       "      <th>18067</th>\n",
       "      <td>1534</td>\n",
       "      <td>Альберт</td>\n",
       "      <td>25</td>\n",
       "      <td>Краснодар</td>\n",
       "      <td>free</td>\n",
       "      <td>2371.711192</td>\n",
       "      <td>15.893917</td>\n",
       "      <td>2021-12-29</td>\n",
       "      <td>12</td>\n",
       "      <td>8</td>\n",
       "      <td>50</td>\n",
       "      <td>0</td>\n",
       "    </tr>\n",
       "  </tbody>\n",
       "</table>\n",
       "<p>18068 rows × 12 columns</p>\n",
       "</div>"
      ],
      "text/plain": [
       "       user_id     name  age       city subscription_type     distance  \\\n",
       "0            1     Кира   22     Тюмень             ultra  4409.919140   \n",
       "1            1     Кира   22     Тюмень             ultra  2617.592153   \n",
       "2            1     Кира   22     Тюмень             ultra   754.159807   \n",
       "3            1     Кира   22     Тюмень             ultra  2694.783254   \n",
       "4            1     Кира   22     Тюмень             ultra  4028.687306   \n",
       "...        ...      ...  ...        ...               ...          ...   \n",
       "18063     1534  Альберт   25  Краснодар              free  3781.098080   \n",
       "18064     1534  Альберт   25  Краснодар              free  2840.423057   \n",
       "18065     1534  Альберт   25  Краснодар              free  3826.185507   \n",
       "18066     1534  Альберт   25  Краснодар              free  2902.308661   \n",
       "18067     1534  Альберт   25  Краснодар              free  2371.711192   \n",
       "\n",
       "        duration       date  month  minute_price  start_ride_price  \\\n",
       "0      25.599769 2021-01-01      1             6                 0   \n",
       "1      15.816871 2021-01-18      1             6                 0   \n",
       "2       6.232113 2021-04-20      4             6                 0   \n",
       "3      18.511000 2021-08-11      8             6                 0   \n",
       "4      26.265803 2021-08-28      8             6                 0   \n",
       "...          ...        ...    ...           ...               ...   \n",
       "18063  19.822962 2021-11-04     11             8                50   \n",
       "18064  21.409799 2021-11-16     11             8                50   \n",
       "18065  18.435051 2021-11-18     11             8                50   \n",
       "18066  16.674362 2021-11-27     11             8                50   \n",
       "18067  15.893917 2021-12-29     12             8                50   \n",
       "\n",
       "       subscription_fee  \n",
       "0                   199  \n",
       "1                   199  \n",
       "2                   199  \n",
       "3                   199  \n",
       "4                   199  \n",
       "...                 ...  \n",
       "18063                 0  \n",
       "18064                 0  \n",
       "18065                 0  \n",
       "18066                 0  \n",
       "18067                 0  \n",
       "\n",
       "[18068 rows x 12 columns]"
      ]
     },
     "metadata": {},
     "output_type": "display_data"
    }
   ],
   "source": [
    "df = df_users.merge(df_rides, on='user_id')\n",
    "df_all = df.merge(df_subscriptions, on='subscription_type')\n",
    "display(df_all)"
   ]
  },
  {
   "cell_type": "code",
   "execution_count": 31,
   "metadata": {},
   "outputs": [
    {
     "data": {
      "text/plain": [
       "18068"
      ]
     },
     "execution_count": 31,
     "metadata": {},
     "output_type": "execute_result"
    }
   ],
   "source": [
    "len(df_all) #количество строк в полученном датафрейме"
   ]
  },
  {
   "cell_type": "code",
   "execution_count": 32,
   "metadata": {},
   "outputs": [
    {
     "data": {
      "text/plain": [
       "18068"
      ]
     },
     "execution_count": 32,
     "metadata": {},
     "output_type": "execute_result"
    }
   ],
   "source": [
    "len(df_rides) #количество строк в датафрейме поездок"
   ]
  },
  {
   "cell_type": "markdown",
   "metadata": {},
   "source": [
    "*Объединение прошло успешно, данные не потеряны*"
   ]
  },
  {
   "cell_type": "markdown",
   "metadata": {},
   "source": [
    "#### Создайте ещё два датафрейма из датафрейма, созданного на этапе 4.1"
   ]
  },
  {
   "cell_type": "markdown",
   "metadata": {},
   "source": [
    "*c данными о пользователях без подписки*"
   ]
  },
  {
   "cell_type": "code",
   "execution_count": 33,
   "metadata": {},
   "outputs": [
    {
     "data": {
      "text/html": [
       "<div>\n",
       "<style scoped>\n",
       "    .dataframe tbody tr th:only-of-type {\n",
       "        vertical-align: middle;\n",
       "    }\n",
       "\n",
       "    .dataframe tbody tr th {\n",
       "        vertical-align: top;\n",
       "    }\n",
       "\n",
       "    .dataframe thead th {\n",
       "        text-align: right;\n",
       "    }\n",
       "</style>\n",
       "<table border=\"1\" class=\"dataframe\">\n",
       "  <thead>\n",
       "    <tr style=\"text-align: right;\">\n",
       "      <th></th>\n",
       "      <th>user_id</th>\n",
       "      <th>name</th>\n",
       "      <th>age</th>\n",
       "      <th>city</th>\n",
       "      <th>subscription_type</th>\n",
       "      <th>distance</th>\n",
       "      <th>duration</th>\n",
       "      <th>date</th>\n",
       "      <th>month</th>\n",
       "      <th>minute_price</th>\n",
       "      <th>start_ride_price</th>\n",
       "      <th>subscription_fee</th>\n",
       "    </tr>\n",
       "  </thead>\n",
       "  <tbody>\n",
       "    <tr>\n",
       "      <th>6500</th>\n",
       "      <td>700</td>\n",
       "      <td>Айдар</td>\n",
       "      <td>22</td>\n",
       "      <td>Омск</td>\n",
       "      <td>free</td>\n",
       "      <td>2515.690719</td>\n",
       "      <td>14.944286</td>\n",
       "      <td>2021-01-02</td>\n",
       "      <td>1</td>\n",
       "      <td>8</td>\n",
       "      <td>50</td>\n",
       "      <td>0</td>\n",
       "    </tr>\n",
       "    <tr>\n",
       "      <th>6501</th>\n",
       "      <td>700</td>\n",
       "      <td>Айдар</td>\n",
       "      <td>22</td>\n",
       "      <td>Омск</td>\n",
       "      <td>free</td>\n",
       "      <td>846.932642</td>\n",
       "      <td>16.234663</td>\n",
       "      <td>2021-02-01</td>\n",
       "      <td>2</td>\n",
       "      <td>8</td>\n",
       "      <td>50</td>\n",
       "      <td>0</td>\n",
       "    </tr>\n",
       "    <tr>\n",
       "      <th>6502</th>\n",
       "      <td>700</td>\n",
       "      <td>Айдар</td>\n",
       "      <td>22</td>\n",
       "      <td>Омск</td>\n",
       "      <td>free</td>\n",
       "      <td>4004.434142</td>\n",
       "      <td>20.016628</td>\n",
       "      <td>2021-02-04</td>\n",
       "      <td>2</td>\n",
       "      <td>8</td>\n",
       "      <td>50</td>\n",
       "      <td>0</td>\n",
       "    </tr>\n",
       "    <tr>\n",
       "      <th>6503</th>\n",
       "      <td>700</td>\n",
       "      <td>Айдар</td>\n",
       "      <td>22</td>\n",
       "      <td>Омск</td>\n",
       "      <td>free</td>\n",
       "      <td>1205.911290</td>\n",
       "      <td>9.782872</td>\n",
       "      <td>2021-02-10</td>\n",
       "      <td>2</td>\n",
       "      <td>8</td>\n",
       "      <td>50</td>\n",
       "      <td>0</td>\n",
       "    </tr>\n",
       "    <tr>\n",
       "      <th>6504</th>\n",
       "      <td>700</td>\n",
       "      <td>Айдар</td>\n",
       "      <td>22</td>\n",
       "      <td>Омск</td>\n",
       "      <td>free</td>\n",
       "      <td>3047.379435</td>\n",
       "      <td>17.427673</td>\n",
       "      <td>2021-02-14</td>\n",
       "      <td>2</td>\n",
       "      <td>8</td>\n",
       "      <td>50</td>\n",
       "      <td>0</td>\n",
       "    </tr>\n",
       "    <tr>\n",
       "      <th>...</th>\n",
       "      <td>...</td>\n",
       "      <td>...</td>\n",
       "      <td>...</td>\n",
       "      <td>...</td>\n",
       "      <td>...</td>\n",
       "      <td>...</td>\n",
       "      <td>...</td>\n",
       "      <td>...</td>\n",
       "      <td>...</td>\n",
       "      <td>...</td>\n",
       "      <td>...</td>\n",
       "      <td>...</td>\n",
       "    </tr>\n",
       "    <tr>\n",
       "      <th>18063</th>\n",
       "      <td>1534</td>\n",
       "      <td>Альберт</td>\n",
       "      <td>25</td>\n",
       "      <td>Краснодар</td>\n",
       "      <td>free</td>\n",
       "      <td>3781.098080</td>\n",
       "      <td>19.822962</td>\n",
       "      <td>2021-11-04</td>\n",
       "      <td>11</td>\n",
       "      <td>8</td>\n",
       "      <td>50</td>\n",
       "      <td>0</td>\n",
       "    </tr>\n",
       "    <tr>\n",
       "      <th>18064</th>\n",
       "      <td>1534</td>\n",
       "      <td>Альберт</td>\n",
       "      <td>25</td>\n",
       "      <td>Краснодар</td>\n",
       "      <td>free</td>\n",
       "      <td>2840.423057</td>\n",
       "      <td>21.409799</td>\n",
       "      <td>2021-11-16</td>\n",
       "      <td>11</td>\n",
       "      <td>8</td>\n",
       "      <td>50</td>\n",
       "      <td>0</td>\n",
       "    </tr>\n",
       "    <tr>\n",
       "      <th>18065</th>\n",
       "      <td>1534</td>\n",
       "      <td>Альберт</td>\n",
       "      <td>25</td>\n",
       "      <td>Краснодар</td>\n",
       "      <td>free</td>\n",
       "      <td>3826.185507</td>\n",
       "      <td>18.435051</td>\n",
       "      <td>2021-11-18</td>\n",
       "      <td>11</td>\n",
       "      <td>8</td>\n",
       "      <td>50</td>\n",
       "      <td>0</td>\n",
       "    </tr>\n",
       "    <tr>\n",
       "      <th>18066</th>\n",
       "      <td>1534</td>\n",
       "      <td>Альберт</td>\n",
       "      <td>25</td>\n",
       "      <td>Краснодар</td>\n",
       "      <td>free</td>\n",
       "      <td>2902.308661</td>\n",
       "      <td>16.674362</td>\n",
       "      <td>2021-11-27</td>\n",
       "      <td>11</td>\n",
       "      <td>8</td>\n",
       "      <td>50</td>\n",
       "      <td>0</td>\n",
       "    </tr>\n",
       "    <tr>\n",
       "      <th>18067</th>\n",
       "      <td>1534</td>\n",
       "      <td>Альберт</td>\n",
       "      <td>25</td>\n",
       "      <td>Краснодар</td>\n",
       "      <td>free</td>\n",
       "      <td>2371.711192</td>\n",
       "      <td>15.893917</td>\n",
       "      <td>2021-12-29</td>\n",
       "      <td>12</td>\n",
       "      <td>8</td>\n",
       "      <td>50</td>\n",
       "      <td>0</td>\n",
       "    </tr>\n",
       "  </tbody>\n",
       "</table>\n",
       "<p>11568 rows × 12 columns</p>\n",
       "</div>"
      ],
      "text/plain": [
       "       user_id     name  age       city subscription_type     distance  \\\n",
       "6500       700    Айдар   22       Омск              free  2515.690719   \n",
       "6501       700    Айдар   22       Омск              free   846.932642   \n",
       "6502       700    Айдар   22       Омск              free  4004.434142   \n",
       "6503       700    Айдар   22       Омск              free  1205.911290   \n",
       "6504       700    Айдар   22       Омск              free  3047.379435   \n",
       "...        ...      ...  ...        ...               ...          ...   \n",
       "18063     1534  Альберт   25  Краснодар              free  3781.098080   \n",
       "18064     1534  Альберт   25  Краснодар              free  2840.423057   \n",
       "18065     1534  Альберт   25  Краснодар              free  3826.185507   \n",
       "18066     1534  Альберт   25  Краснодар              free  2902.308661   \n",
       "18067     1534  Альберт   25  Краснодар              free  2371.711192   \n",
       "\n",
       "        duration       date  month  minute_price  start_ride_price  \\\n",
       "6500   14.944286 2021-01-02      1             8                50   \n",
       "6501   16.234663 2021-02-01      2             8                50   \n",
       "6502   20.016628 2021-02-04      2             8                50   \n",
       "6503    9.782872 2021-02-10      2             8                50   \n",
       "6504   17.427673 2021-02-14      2             8                50   \n",
       "...          ...        ...    ...           ...               ...   \n",
       "18063  19.822962 2021-11-04     11             8                50   \n",
       "18064  21.409799 2021-11-16     11             8                50   \n",
       "18065  18.435051 2021-11-18     11             8                50   \n",
       "18066  16.674362 2021-11-27     11             8                50   \n",
       "18067  15.893917 2021-12-29     12             8                50   \n",
       "\n",
       "       subscription_fee  \n",
       "6500                  0  \n",
       "6501                  0  \n",
       "6502                  0  \n",
       "6503                  0  \n",
       "6504                  0  \n",
       "...                 ...  \n",
       "18063                 0  \n",
       "18064                 0  \n",
       "18065                 0  \n",
       "18066                 0  \n",
       "18067                 0  \n",
       "\n",
       "[11568 rows x 12 columns]"
      ]
     },
     "metadata": {},
     "output_type": "display_data"
    }
   ],
   "source": [
    "df_free = df_all.query('subscription_type == \"free\"')\n",
    "display(df_free)"
   ]
  },
  {
   "cell_type": "markdown",
   "metadata": {},
   "source": [
    "*с данными о пользователях с подпиской*"
   ]
  },
  {
   "cell_type": "code",
   "execution_count": 34,
   "metadata": {},
   "outputs": [
    {
     "data": {
      "text/html": [
       "<div>\n",
       "<style scoped>\n",
       "    .dataframe tbody tr th:only-of-type {\n",
       "        vertical-align: middle;\n",
       "    }\n",
       "\n",
       "    .dataframe tbody tr th {\n",
       "        vertical-align: top;\n",
       "    }\n",
       "\n",
       "    .dataframe thead th {\n",
       "        text-align: right;\n",
       "    }\n",
       "</style>\n",
       "<table border=\"1\" class=\"dataframe\">\n",
       "  <thead>\n",
       "    <tr style=\"text-align: right;\">\n",
       "      <th></th>\n",
       "      <th>user_id</th>\n",
       "      <th>name</th>\n",
       "      <th>age</th>\n",
       "      <th>city</th>\n",
       "      <th>subscription_type</th>\n",
       "      <th>distance</th>\n",
       "      <th>duration</th>\n",
       "      <th>date</th>\n",
       "      <th>month</th>\n",
       "      <th>minute_price</th>\n",
       "      <th>start_ride_price</th>\n",
       "      <th>subscription_fee</th>\n",
       "    </tr>\n",
       "  </thead>\n",
       "  <tbody>\n",
       "    <tr>\n",
       "      <th>0</th>\n",
       "      <td>1</td>\n",
       "      <td>Кира</td>\n",
       "      <td>22</td>\n",
       "      <td>Тюмень</td>\n",
       "      <td>ultra</td>\n",
       "      <td>4409.919140</td>\n",
       "      <td>25.599769</td>\n",
       "      <td>2021-01-01</td>\n",
       "      <td>1</td>\n",
       "      <td>6</td>\n",
       "      <td>0</td>\n",
       "      <td>199</td>\n",
       "    </tr>\n",
       "    <tr>\n",
       "      <th>1</th>\n",
       "      <td>1</td>\n",
       "      <td>Кира</td>\n",
       "      <td>22</td>\n",
       "      <td>Тюмень</td>\n",
       "      <td>ultra</td>\n",
       "      <td>2617.592153</td>\n",
       "      <td>15.816871</td>\n",
       "      <td>2021-01-18</td>\n",
       "      <td>1</td>\n",
       "      <td>6</td>\n",
       "      <td>0</td>\n",
       "      <td>199</td>\n",
       "    </tr>\n",
       "    <tr>\n",
       "      <th>2</th>\n",
       "      <td>1</td>\n",
       "      <td>Кира</td>\n",
       "      <td>22</td>\n",
       "      <td>Тюмень</td>\n",
       "      <td>ultra</td>\n",
       "      <td>754.159807</td>\n",
       "      <td>6.232113</td>\n",
       "      <td>2021-04-20</td>\n",
       "      <td>4</td>\n",
       "      <td>6</td>\n",
       "      <td>0</td>\n",
       "      <td>199</td>\n",
       "    </tr>\n",
       "    <tr>\n",
       "      <th>3</th>\n",
       "      <td>1</td>\n",
       "      <td>Кира</td>\n",
       "      <td>22</td>\n",
       "      <td>Тюмень</td>\n",
       "      <td>ultra</td>\n",
       "      <td>2694.783254</td>\n",
       "      <td>18.511000</td>\n",
       "      <td>2021-08-11</td>\n",
       "      <td>8</td>\n",
       "      <td>6</td>\n",
       "      <td>0</td>\n",
       "      <td>199</td>\n",
       "    </tr>\n",
       "    <tr>\n",
       "      <th>4</th>\n",
       "      <td>1</td>\n",
       "      <td>Кира</td>\n",
       "      <td>22</td>\n",
       "      <td>Тюмень</td>\n",
       "      <td>ultra</td>\n",
       "      <td>4028.687306</td>\n",
       "      <td>26.265803</td>\n",
       "      <td>2021-08-28</td>\n",
       "      <td>8</td>\n",
       "      <td>6</td>\n",
       "      <td>0</td>\n",
       "      <td>199</td>\n",
       "    </tr>\n",
       "    <tr>\n",
       "      <th>...</th>\n",
       "      <td>...</td>\n",
       "      <td>...</td>\n",
       "      <td>...</td>\n",
       "      <td>...</td>\n",
       "      <td>...</td>\n",
       "      <td>...</td>\n",
       "      <td>...</td>\n",
       "      <td>...</td>\n",
       "      <td>...</td>\n",
       "      <td>...</td>\n",
       "      <td>...</td>\n",
       "      <td>...</td>\n",
       "    </tr>\n",
       "    <tr>\n",
       "      <th>6495</th>\n",
       "      <td>699</td>\n",
       "      <td>Оксана</td>\n",
       "      <td>22</td>\n",
       "      <td>Москва</td>\n",
       "      <td>ultra</td>\n",
       "      <td>3973.046497</td>\n",
       "      <td>24.671163</td>\n",
       "      <td>2021-08-29</td>\n",
       "      <td>8</td>\n",
       "      <td>6</td>\n",
       "      <td>0</td>\n",
       "      <td>199</td>\n",
       "    </tr>\n",
       "    <tr>\n",
       "      <th>6496</th>\n",
       "      <td>699</td>\n",
       "      <td>Оксана</td>\n",
       "      <td>22</td>\n",
       "      <td>Москва</td>\n",
       "      <td>ultra</td>\n",
       "      <td>3288.702563</td>\n",
       "      <td>15.892886</td>\n",
       "      <td>2021-09-12</td>\n",
       "      <td>9</td>\n",
       "      <td>6</td>\n",
       "      <td>0</td>\n",
       "      <td>199</td>\n",
       "    </tr>\n",
       "    <tr>\n",
       "      <th>6497</th>\n",
       "      <td>699</td>\n",
       "      <td>Оксана</td>\n",
       "      <td>22</td>\n",
       "      <td>Москва</td>\n",
       "      <td>ultra</td>\n",
       "      <td>3076.159348</td>\n",
       "      <td>14.389525</td>\n",
       "      <td>2021-09-26</td>\n",
       "      <td>9</td>\n",
       "      <td>6</td>\n",
       "      <td>0</td>\n",
       "      <td>199</td>\n",
       "    </tr>\n",
       "    <tr>\n",
       "      <th>6498</th>\n",
       "      <td>699</td>\n",
       "      <td>Оксана</td>\n",
       "      <td>22</td>\n",
       "      <td>Москва</td>\n",
       "      <td>ultra</td>\n",
       "      <td>4707.845501</td>\n",
       "      <td>15.839579</td>\n",
       "      <td>2021-10-17</td>\n",
       "      <td>10</td>\n",
       "      <td>6</td>\n",
       "      <td>0</td>\n",
       "      <td>199</td>\n",
       "    </tr>\n",
       "    <tr>\n",
       "      <th>6499</th>\n",
       "      <td>699</td>\n",
       "      <td>Оксана</td>\n",
       "      <td>22</td>\n",
       "      <td>Москва</td>\n",
       "      <td>ultra</td>\n",
       "      <td>3202.890770</td>\n",
       "      <td>25.217345</td>\n",
       "      <td>2021-12-03</td>\n",
       "      <td>12</td>\n",
       "      <td>6</td>\n",
       "      <td>0</td>\n",
       "      <td>199</td>\n",
       "    </tr>\n",
       "  </tbody>\n",
       "</table>\n",
       "<p>6500 rows × 12 columns</p>\n",
       "</div>"
      ],
      "text/plain": [
       "      user_id    name  age    city subscription_type     distance   duration  \\\n",
       "0           1    Кира   22  Тюмень             ultra  4409.919140  25.599769   \n",
       "1           1    Кира   22  Тюмень             ultra  2617.592153  15.816871   \n",
       "2           1    Кира   22  Тюмень             ultra   754.159807   6.232113   \n",
       "3           1    Кира   22  Тюмень             ultra  2694.783254  18.511000   \n",
       "4           1    Кира   22  Тюмень             ultra  4028.687306  26.265803   \n",
       "...       ...     ...  ...     ...               ...          ...        ...   \n",
       "6495      699  Оксана   22  Москва             ultra  3973.046497  24.671163   \n",
       "6496      699  Оксана   22  Москва             ultra  3288.702563  15.892886   \n",
       "6497      699  Оксана   22  Москва             ultra  3076.159348  14.389525   \n",
       "6498      699  Оксана   22  Москва             ultra  4707.845501  15.839579   \n",
       "6499      699  Оксана   22  Москва             ultra  3202.890770  25.217345   \n",
       "\n",
       "           date  month  minute_price  start_ride_price  subscription_fee  \n",
       "0    2021-01-01      1             6                 0               199  \n",
       "1    2021-01-18      1             6                 0               199  \n",
       "2    2021-04-20      4             6                 0               199  \n",
       "3    2021-08-11      8             6                 0               199  \n",
       "4    2021-08-28      8             6                 0               199  \n",
       "...         ...    ...           ...               ...               ...  \n",
       "6495 2021-08-29      8             6                 0               199  \n",
       "6496 2021-09-12      9             6                 0               199  \n",
       "6497 2021-09-26      9             6                 0               199  \n",
       "6498 2021-10-17     10             6                 0               199  \n",
       "6499 2021-12-03     12             6                 0               199  \n",
       "\n",
       "[6500 rows x 12 columns]"
      ]
     },
     "metadata": {},
     "output_type": "display_data"
    }
   ],
   "source": [
    "df_ultra = df_all.query('subscription_type == \"ultra\"')\n",
    "display(df_ultra)"
   ]
  },
  {
   "cell_type": "markdown",
   "metadata": {},
   "source": [
    "#### 4.3 Визуализируйте информацию о расстоянии и времени поездок для пользователей обеих категорий."
   ]
  },
  {
   "cell_type": "code",
   "execution_count": 35,
   "metadata": {},
   "outputs": [
    {
     "data": {
      "image/png": "[encoded data removed]",
      "text/plain": [
       "<Figure size 432x288 with 1 Axes>"
      ]
     },
     "metadata": {
      "needs_background": "light"
     },
     "output_type": "display_data"
    }
   ],
   "source": [
    "plt.hist(df_ultra['duration'], label='Время с подпиской', bins=14, alpha=.7, edgecolor='red')\n",
    " \n",
    "plt.hist(df_free['duration'], label=\"Время без подписки\", bins=14, alpha=.7, edgecolor='yellow')\n",
    "\n",
    "plt.legend()\n",
    "\n",
    "plt.title('Продолжительность поездок')\n",
    "plt.xlabel('Время(мин.)')\n",
    "plt.show()"
   ]
  },
  {
   "cell_type": "code",
   "execution_count": 36,
   "metadata": {},
   "outputs": [
    {
     "data": {
      "image/png": "[encoded data removed]",
      "text/plain": [
       "<Figure size 432x288 with 1 Axes>"
      ]
     },
     "metadata": {
      "needs_background": "light"
     },
     "output_type": "display_data"
    }
   ],
   "source": [
    "plt.hist(df_ultra['distance'], label='Расстояние с подпиской', bins=25, alpha=.7, edgecolor='red')\n",
    " \n",
    "plt.hist(df_free['distance'], label=\"Расстояние без подписки\", bins=25, alpha=.7, edgecolor='yellow')\n",
    "\n",
    "plt.legend()\n",
    "plt.title('Расстояние, которое пользователь преодолел за одну поездку')\n",
    "plt.xlabel('Дистанция(м.)')\n",
    "plt.show()"
   ]
  },
  {
   "cell_type": "markdown",
   "metadata": {},
   "source": [
    "*Можно заметить, что пользователи с подпиской и без совершают поездки с примерно похожим расстоянием и временем, только в разных количествах.*"
   ]
  },
  {
   "cell_type": "markdown",
   "metadata": {},
   "source": [
    "**Вывод:**\n",
    "\n",
    "Объединены данные о пользователях, поездках и подписках в один датафрейм df_all. Так же на основе этого датафрейма созданы два отдельных датафрейма с данными о пользователях без подписки df_free и с данными о пользоватеях с подпиской df_ultra.\n",
    "\n",
    "Так же визуализирована информация о расстоянии и времени поездок обеих категорий пользователей."
   ]
  },
  {
   "cell_type": "markdown",
   "metadata": {},
   "source": [
    "### Подсчёт выручки"
   ]
  },
  {
   "cell_type": "markdown",
   "metadata": {},
   "source": [
    "#### Создайте датафрейм с агрегированными данными о поездках на основе датафрейма с объединёнными данными из шага 4: найдите суммарное расстояние, количество поездок и суммарное время для каждого пользователя за каждый месяц."
   ]
  },
  {
   "cell_type": "code",
   "execution_count": 37,
   "metadata": {},
   "outputs": [
    {
     "data": {
      "text/html": [
       "<div>\n",
       "<style scoped>\n",
       "    .dataframe tbody tr th:only-of-type {\n",
       "        vertical-align: middle;\n",
       "    }\n",
       "\n",
       "    .dataframe tbody tr th {\n",
       "        vertical-align: top;\n",
       "    }\n",
       "\n",
       "    .dataframe thead th {\n",
       "        text-align: right;\n",
       "    }\n",
       "</style>\n",
       "<table border=\"1\" class=\"dataframe\">\n",
       "  <thead>\n",
       "    <tr style=\"text-align: right;\">\n",
       "      <th></th>\n",
       "      <th>user_id</th>\n",
       "      <th>month</th>\n",
       "      <th>minute_price</th>\n",
       "      <th>start_ride_price</th>\n",
       "      <th>subscription_fee</th>\n",
       "      <th>total_distance</th>\n",
       "      <th>total_duration</th>\n",
       "      <th>trip_count</th>\n",
       "      <th>subscription_type</th>\n",
       "    </tr>\n",
       "  </thead>\n",
       "  <tbody>\n",
       "    <tr>\n",
       "      <th>0</th>\n",
       "      <td>1</td>\n",
       "      <td>1</td>\n",
       "      <td>6</td>\n",
       "      <td>0</td>\n",
       "      <td>199</td>\n",
       "      <td>7027.511294</td>\n",
       "      <td>42.0</td>\n",
       "      <td>2</td>\n",
       "      <td>ultra</td>\n",
       "    </tr>\n",
       "    <tr>\n",
       "      <th>1</th>\n",
       "      <td>1</td>\n",
       "      <td>4</td>\n",
       "      <td>6</td>\n",
       "      <td>0</td>\n",
       "      <td>199</td>\n",
       "      <td>754.159807</td>\n",
       "      <td>7.0</td>\n",
       "      <td>1</td>\n",
       "      <td>ultra</td>\n",
       "    </tr>\n",
       "    <tr>\n",
       "      <th>2</th>\n",
       "      <td>1</td>\n",
       "      <td>8</td>\n",
       "      <td>6</td>\n",
       "      <td>0</td>\n",
       "      <td>199</td>\n",
       "      <td>6723.470560</td>\n",
       "      <td>46.0</td>\n",
       "      <td>2</td>\n",
       "      <td>ultra</td>\n",
       "    </tr>\n",
       "    <tr>\n",
       "      <th>3</th>\n",
       "      <td>1</td>\n",
       "      <td>10</td>\n",
       "      <td>6</td>\n",
       "      <td>0</td>\n",
       "      <td>199</td>\n",
       "      <td>5809.911100</td>\n",
       "      <td>32.0</td>\n",
       "      <td>2</td>\n",
       "      <td>ultra</td>\n",
       "    </tr>\n",
       "    <tr>\n",
       "      <th>4</th>\n",
       "      <td>1</td>\n",
       "      <td>11</td>\n",
       "      <td>6</td>\n",
       "      <td>0</td>\n",
       "      <td>199</td>\n",
       "      <td>7003.499363</td>\n",
       "      <td>56.0</td>\n",
       "      <td>3</td>\n",
       "      <td>ultra</td>\n",
       "    </tr>\n",
       "    <tr>\n",
       "      <th>...</th>\n",
       "      <td>...</td>\n",
       "      <td>...</td>\n",
       "      <td>...</td>\n",
       "      <td>...</td>\n",
       "      <td>...</td>\n",
       "      <td>...</td>\n",
       "      <td>...</td>\n",
       "      <td>...</td>\n",
       "      <td>...</td>\n",
       "    </tr>\n",
       "    <tr>\n",
       "      <th>11326</th>\n",
       "      <td>1534</td>\n",
       "      <td>6</td>\n",
       "      <td>8</td>\n",
       "      <td>50</td>\n",
       "      <td>0</td>\n",
       "      <td>3409.468534</td>\n",
       "      <td>26.0</td>\n",
       "      <td>2</td>\n",
       "      <td>free</td>\n",
       "    </tr>\n",
       "    <tr>\n",
       "      <th>11327</th>\n",
       "      <td>1534</td>\n",
       "      <td>8</td>\n",
       "      <td>8</td>\n",
       "      <td>50</td>\n",
       "      <td>0</td>\n",
       "      <td>7622.453034</td>\n",
       "      <td>48.0</td>\n",
       "      <td>2</td>\n",
       "      <td>free</td>\n",
       "    </tr>\n",
       "    <tr>\n",
       "      <th>11328</th>\n",
       "      <td>1534</td>\n",
       "      <td>9</td>\n",
       "      <td>8</td>\n",
       "      <td>50</td>\n",
       "      <td>0</td>\n",
       "      <td>4928.173852</td>\n",
       "      <td>23.0</td>\n",
       "      <td>1</td>\n",
       "      <td>free</td>\n",
       "    </tr>\n",
       "    <tr>\n",
       "      <th>11329</th>\n",
       "      <td>1534</td>\n",
       "      <td>11</td>\n",
       "      <td>8</td>\n",
       "      <td>50</td>\n",
       "      <td>0</td>\n",
       "      <td>13350.015305</td>\n",
       "      <td>78.0</td>\n",
       "      <td>4</td>\n",
       "      <td>free</td>\n",
       "    </tr>\n",
       "    <tr>\n",
       "      <th>11330</th>\n",
       "      <td>1534</td>\n",
       "      <td>12</td>\n",
       "      <td>8</td>\n",
       "      <td>50</td>\n",
       "      <td>0</td>\n",
       "      <td>2371.711192</td>\n",
       "      <td>16.0</td>\n",
       "      <td>1</td>\n",
       "      <td>free</td>\n",
       "    </tr>\n",
       "  </tbody>\n",
       "</table>\n",
       "<p>11331 rows × 9 columns</p>\n",
       "</div>"
      ],
      "text/plain": [
       "       user_id  month  minute_price  start_ride_price  subscription_fee  \\\n",
       "0            1      1             6                 0               199   \n",
       "1            1      4             6                 0               199   \n",
       "2            1      8             6                 0               199   \n",
       "3            1     10             6                 0               199   \n",
       "4            1     11             6                 0               199   \n",
       "...        ...    ...           ...               ...               ...   \n",
       "11326     1534      6             8                50                 0   \n",
       "11327     1534      8             8                50                 0   \n",
       "11328     1534      9             8                50                 0   \n",
       "11329     1534     11             8                50                 0   \n",
       "11330     1534     12             8                50                 0   \n",
       "\n",
       "       total_distance  total_duration  trip_count subscription_type  \n",
       "0         7027.511294            42.0           2             ultra  \n",
       "1          754.159807             7.0           1             ultra  \n",
       "2         6723.470560            46.0           2             ultra  \n",
       "3         5809.911100            32.0           2             ultra  \n",
       "4         7003.499363            56.0           3             ultra  \n",
       "...               ...             ...         ...               ...  \n",
       "11326     3409.468534            26.0           2              free  \n",
       "11327     7622.453034            48.0           2              free  \n",
       "11328     4928.173852            23.0           1              free  \n",
       "11329    13350.015305            78.0           4              free  \n",
       "11330     2371.711192            16.0           1              free  \n",
       "\n",
       "[11331 rows x 9 columns]"
      ]
     },
     "metadata": {},
     "output_type": "display_data"
    }
   ],
   "source": [
    "df_all['duration'] = np.ceil(df_all['duration']) \n",
    "\n",
    "agg_df = df_all.pivot_table(index=['user_id', 'month','minute_price','start_ride_price','subscription_fee'], values = ['distance', 'duration', 'name', 'subscription_type'], aggfunc={'distance':'sum', 'duration':'sum', 'name':'count', 'subscription_type': 'min',})\n",
    "agg_df.columns = ['total_distance', 'total_duration', 'trip_count', 'subscription_type']\n",
    "agg_df = agg_df.reset_index() \n",
    "\n",
    "display(agg_df)"
   ]
  },
  {
   "cell_type": "markdown",
   "metadata": {},
   "source": [
    "#### В этот же датафрейм добавьте столбец с помесячной выручкой, которую принёс каждый пользователь. Для этого обратитесь к информации об условиях оплаты для подписчиков и тех, у кого нет подписки. Продолжительность каждой поездки в каждой строке исходного датафрейма для подсчёта стоимости округляется до следующего целого числа: например, значения 25.3, 25.5 и 26.0 должны быть преобразованы к 26."
   ]
  },
  {
   "cell_type": "code",
   "execution_count": 38,
   "metadata": {},
   "outputs": [
    {
     "data": {
      "text/html": [
       "<div>\n",
       "<style scoped>\n",
       "    .dataframe tbody tr th:only-of-type {\n",
       "        vertical-align: middle;\n",
       "    }\n",
       "\n",
       "    .dataframe tbody tr th {\n",
       "        vertical-align: top;\n",
       "    }\n",
       "\n",
       "    .dataframe thead th {\n",
       "        text-align: right;\n",
       "    }\n",
       "</style>\n",
       "<table border=\"1\" class=\"dataframe\">\n",
       "  <thead>\n",
       "    <tr style=\"text-align: right;\">\n",
       "      <th></th>\n",
       "      <th>user_id</th>\n",
       "      <th>month</th>\n",
       "      <th>minute_price</th>\n",
       "      <th>start_ride_price</th>\n",
       "      <th>subscription_fee</th>\n",
       "      <th>total_distance</th>\n",
       "      <th>total_duration</th>\n",
       "      <th>trip_count</th>\n",
       "      <th>subscription_type</th>\n",
       "      <th>total_income</th>\n",
       "    </tr>\n",
       "  </thead>\n",
       "  <tbody>\n",
       "    <tr>\n",
       "      <th>0</th>\n",
       "      <td>1</td>\n",
       "      <td>1</td>\n",
       "      <td>6</td>\n",
       "      <td>0</td>\n",
       "      <td>199</td>\n",
       "      <td>7027.511294</td>\n",
       "      <td>42.0</td>\n",
       "      <td>2</td>\n",
       "      <td>ultra</td>\n",
       "      <td>451.0</td>\n",
       "    </tr>\n",
       "    <tr>\n",
       "      <th>1</th>\n",
       "      <td>1</td>\n",
       "      <td>4</td>\n",
       "      <td>6</td>\n",
       "      <td>0</td>\n",
       "      <td>199</td>\n",
       "      <td>754.159807</td>\n",
       "      <td>7.0</td>\n",
       "      <td>1</td>\n",
       "      <td>ultra</td>\n",
       "      <td>241.0</td>\n",
       "    </tr>\n",
       "    <tr>\n",
       "      <th>2</th>\n",
       "      <td>1</td>\n",
       "      <td>8</td>\n",
       "      <td>6</td>\n",
       "      <td>0</td>\n",
       "      <td>199</td>\n",
       "      <td>6723.470560</td>\n",
       "      <td>46.0</td>\n",
       "      <td>2</td>\n",
       "      <td>ultra</td>\n",
       "      <td>475.0</td>\n",
       "    </tr>\n",
       "    <tr>\n",
       "      <th>3</th>\n",
       "      <td>1</td>\n",
       "      <td>10</td>\n",
       "      <td>6</td>\n",
       "      <td>0</td>\n",
       "      <td>199</td>\n",
       "      <td>5809.911100</td>\n",
       "      <td>32.0</td>\n",
       "      <td>2</td>\n",
       "      <td>ultra</td>\n",
       "      <td>391.0</td>\n",
       "    </tr>\n",
       "    <tr>\n",
       "      <th>4</th>\n",
       "      <td>1</td>\n",
       "      <td>11</td>\n",
       "      <td>6</td>\n",
       "      <td>0</td>\n",
       "      <td>199</td>\n",
       "      <td>7003.499363</td>\n",
       "      <td>56.0</td>\n",
       "      <td>3</td>\n",
       "      <td>ultra</td>\n",
       "      <td>535.0</td>\n",
       "    </tr>\n",
       "    <tr>\n",
       "      <th>...</th>\n",
       "      <td>...</td>\n",
       "      <td>...</td>\n",
       "      <td>...</td>\n",
       "      <td>...</td>\n",
       "      <td>...</td>\n",
       "      <td>...</td>\n",
       "      <td>...</td>\n",
       "      <td>...</td>\n",
       "      <td>...</td>\n",
       "      <td>...</td>\n",
       "    </tr>\n",
       "    <tr>\n",
       "      <th>11326</th>\n",
       "      <td>1534</td>\n",
       "      <td>6</td>\n",
       "      <td>8</td>\n",
       "      <td>50</td>\n",
       "      <td>0</td>\n",
       "      <td>3409.468534</td>\n",
       "      <td>26.0</td>\n",
       "      <td>2</td>\n",
       "      <td>free</td>\n",
       "      <td>308.0</td>\n",
       "    </tr>\n",
       "    <tr>\n",
       "      <th>11327</th>\n",
       "      <td>1534</td>\n",
       "      <td>8</td>\n",
       "      <td>8</td>\n",
       "      <td>50</td>\n",
       "      <td>0</td>\n",
       "      <td>7622.453034</td>\n",
       "      <td>48.0</td>\n",
       "      <td>2</td>\n",
       "      <td>free</td>\n",
       "      <td>484.0</td>\n",
       "    </tr>\n",
       "    <tr>\n",
       "      <th>11328</th>\n",
       "      <td>1534</td>\n",
       "      <td>9</td>\n",
       "      <td>8</td>\n",
       "      <td>50</td>\n",
       "      <td>0</td>\n",
       "      <td>4928.173852</td>\n",
       "      <td>23.0</td>\n",
       "      <td>1</td>\n",
       "      <td>free</td>\n",
       "      <td>234.0</td>\n",
       "    </tr>\n",
       "    <tr>\n",
       "      <th>11329</th>\n",
       "      <td>1534</td>\n",
       "      <td>11</td>\n",
       "      <td>8</td>\n",
       "      <td>50</td>\n",
       "      <td>0</td>\n",
       "      <td>13350.015305</td>\n",
       "      <td>78.0</td>\n",
       "      <td>4</td>\n",
       "      <td>free</td>\n",
       "      <td>824.0</td>\n",
       "    </tr>\n",
       "    <tr>\n",
       "      <th>11330</th>\n",
       "      <td>1534</td>\n",
       "      <td>12</td>\n",
       "      <td>8</td>\n",
       "      <td>50</td>\n",
       "      <td>0</td>\n",
       "      <td>2371.711192</td>\n",
       "      <td>16.0</td>\n",
       "      <td>1</td>\n",
       "      <td>free</td>\n",
       "      <td>178.0</td>\n",
       "    </tr>\n",
       "  </tbody>\n",
       "</table>\n",
       "<p>11331 rows × 10 columns</p>\n",
       "</div>"
      ],
      "text/plain": [
       "       user_id  month  minute_price  start_ride_price  subscription_fee  \\\n",
       "0            1      1             6                 0               199   \n",
       "1            1      4             6                 0               199   \n",
       "2            1      8             6                 0               199   \n",
       "3            1     10             6                 0               199   \n",
       "4            1     11             6                 0               199   \n",
       "...        ...    ...           ...               ...               ...   \n",
       "11326     1534      6             8                50                 0   \n",
       "11327     1534      8             8                50                 0   \n",
       "11328     1534      9             8                50                 0   \n",
       "11329     1534     11             8                50                 0   \n",
       "11330     1534     12             8                50                 0   \n",
       "\n",
       "       total_distance  total_duration  trip_count subscription_type  \\\n",
       "0         7027.511294            42.0           2             ultra   \n",
       "1          754.159807             7.0           1             ultra   \n",
       "2         6723.470560            46.0           2             ultra   \n",
       "3         5809.911100            32.0           2             ultra   \n",
       "4         7003.499363            56.0           3             ultra   \n",
       "...               ...             ...         ...               ...   \n",
       "11326     3409.468534            26.0           2              free   \n",
       "11327     7622.453034            48.0           2              free   \n",
       "11328     4928.173852            23.0           1              free   \n",
       "11329    13350.015305            78.0           4              free   \n",
       "11330     2371.711192            16.0           1              free   \n",
       "\n",
       "       total_income  \n",
       "0             451.0  \n",
       "1             241.0  \n",
       "2             475.0  \n",
       "3             391.0  \n",
       "4             535.0  \n",
       "...             ...  \n",
       "11326         308.0  \n",
       "11327         484.0  \n",
       "11328         234.0  \n",
       "11329         824.0  \n",
       "11330         178.0  \n",
       "\n",
       "[11331 rows x 10 columns]"
      ]
     },
     "metadata": {},
     "output_type": "display_data"
    }
   ],
   "source": [
    "agg_df['total_income']=agg_df['minute_price']*agg_df['total_duration']+ agg_df['start_ride_price']*agg_df['trip_count']+agg_df['subscription_fee']\n",
    "display(agg_df)"
   ]
  },
  {
   "cell_type": "code",
   "execution_count": 39,
   "metadata": {},
   "outputs": [],
   "source": [
    "#def get(row):\n",
    "    #subscription_type = row['subscription_type']\n",
    "    #total_duration = row['total_duration']\n",
    "    #trip_count=row['trip_count']\n",
    "    \n",
    "    #if subscription_type == 'ultra':\n",
    "        #return 6*total_duration+199\n",
    "    #elif subscription_type == 'free':\n",
    "        #return 8*total_duration+ 50*trip_count\n",
    "    \n",
    "#agg_df['total_income'] = agg_df.apply(get, axis=1)"
   ]
  },
  {
   "cell_type": "markdown",
   "metadata": {},
   "source": [
    "**Вывод:**\n",
    "\n",
    "Создан датафрейм agg_df с объдинёнными данными о поездках на основе датафрема df_all. Найдено общее расстояние, количество поездок и время для каждого пользователя. Добавлен в этот датафрейм новый столбец с помесячной выручкой за каждого ползователя."
   ]
  },
  {
   "cell_type": "markdown",
   "metadata": {},
   "source": [
    "### Проверка гипотез"
   ]
  },
  {
   "cell_type": "markdown",
   "metadata": {},
   "source": [
    "#### Важно понять, тратят ли пользователи с подпиской больше времени на поездки? Если да, то пользователи с подпиской могут быть «выгоднее» для компании. Проверьте гипотезу. Используйте исходные данные о продолжительности каждой сессии — отдельно для подписчиков и тех, у кого нет подписки."
   ]
  },
  {
   "cell_type": "markdown",
   "metadata": {},
   "source": [
    "**Нулевая гипотеза:** Время поездок пользователей с подпиской \"Ultra\" такое же как и пользователей без подписки.\n",
    "**Альтернативная гипотеза:** Время пооездок пользователей с подпиской \"Ultra\" больше чем у пользователей без подписки."
   ]
  },
  {
   "cell_type": "code",
   "execution_count": 40,
   "metadata": {},
   "outputs": [
    {
     "name": "stdout",
     "output_type": "stream",
     "text": [
      "1.2804098316645618e-34\n",
      "Отвергаем нулевую гипотезу\n"
     ]
    }
   ],
   "source": [
    "ultra1= df_ultra['duration']\n",
    "free1= df_free['duration']\n",
    "\n",
    "alpha = 0.05 \n",
    "\n",
    "results = st.ttest_ind(ultra1, free1, alternative='greater')\n",
    "\n",
    "print(results.pvalue)\n",
    " \n",
    "if (results.pvalue < alpha):\n",
    "    print('Отвергаем нулевую гипотезу')\n",
    "else:\n",
    "    print('Не отвергаем нулевую гипотезу') "
   ]
  },
  {
   "cell_type": "code",
   "execution_count": 41,
   "metadata": {},
   "outputs": [
    {
     "name": "stdout",
     "output_type": "stream",
     "text": [
      "Средняя продолжительность для пользователей без подписки: 17.39090929866399\n",
      "Средняя продолжительность для пользователей с подпиской: 18.54198516280583\n"
     ]
    }
   ],
   "source": [
    "print(\"Средняя продолжительность для пользователей без подписки:\", free1.mean())\n",
    "print(\"Средняя продолжительность для пользователей с подпиской:\", ultra1.mean())"
   ]
  },
  {
   "cell_type": "markdown",
   "metadata": {},
   "source": [
    "*Нулевая гипотеза  отвергнута, а это значит, что пользователи с подпиской тратят больше времени на поездки, чем пользователи без подписки. Можно сделать вывод, что пользователи с подпиской \"выгоднее\" для сервиса.*"
   ]
  },
  {
   "cell_type": "markdown",
   "metadata": {},
   "source": [
    "#### Расстояние одной поездки в 3130 метров — оптимальное с точки зрения износа самоката. Можно ли сказать, что расстояние, которое проезжают пользователи с подпиской за одну поездку, не превышает 3130 метров? Проверьте гипотезу и сделайте выводы."
   ]
  },
  {
   "cell_type": "markdown",
   "metadata": {},
   "source": [
    "**Нулевая гипотеза:** Расстояние за одну поездку пользователей с подпиской \"Ultra\" не привышает 3130 метров.\n",
    "\n",
    "**Альтернативная гипотеза:**  Расстояние за одну поездку пользователей с подпиской \"Ultra\" привышает 3130 метров."
   ]
  },
  {
   "cell_type": "code",
   "execution_count": 42,
   "metadata": {},
   "outputs": [
    {
     "name": "stdout",
     "output_type": "stream",
     "text": [
      "0.9195368847849785\n",
      "Не получилось отвергнуть нулевую гипотезу\n"
     ]
    }
   ],
   "source": [
    "dis = df_ultra['distance']\n",
    "trip_distance = 3130\n",
    "\n",
    "alpha = 0.5\n",
    "\n",
    "results = st.ttest_1samp(dis, trip_distance, alternative='greater')\n",
    "\n",
    "print(results.pvalue)\n",
    "\n",
    "if results.pvalue < alpha:\n",
    "    print('Отвергаем нулевую гипотезу')\n",
    "else:\n",
    "    print('Не получилось отвергнуть нулевую гипотезу')"
   ]
  },
  {
   "cell_type": "markdown",
   "metadata": {},
   "source": [
    "*Нулевая гипотеза отвергнута, а это означает, что пользователии с подпиской превышают оптимальное расстояние с точки зрения износа самоката в 3130м.*"
   ]
  },
  {
   "cell_type": "markdown",
   "metadata": {},
   "source": [
    "#### Проверьте гипотезу о том, будет ли помесячная выручка от пользователей с подпиской по месяцам выше, чем выручка от пользователей без подписки. Сделайте вывод."
   ]
  },
  {
   "cell_type": "markdown",
   "metadata": {},
   "source": [
    "**Нулевая гипотеза:** Помесячная выручка от пользователей с подпиской \"Ultra\" такая же как от пользователей без подписки.\n",
    "\n",
    "**Альтернативная гипотеза:** Помесячная выручка от пользователей с подпиской \"Ultra\" больше чем от пользователей без подписки."
   ]
  },
  {
   "cell_type": "code",
   "execution_count": 43,
   "metadata": {},
   "outputs": [
    {
     "name": "stdout",
     "output_type": "stream",
     "text": [
      "1.8850394384715216e-31\n",
      "Отвергаем нулевую гипотезу\n"
     ]
    }
   ],
   "source": [
    "ultra2=agg_df.loc[agg_df['subscription_type'] =='ultra']['total_income']\n",
    "free2= agg_df.loc[agg_df['subscription_type'] =='free']['total_income']\n",
    "\n",
    "alpha = 0.05\n",
    "\n",
    "results = st.ttest_ind(ultra2, free2,alternative='greater')\n",
    "\n",
    "print(results.pvalue)\n",
    "\n",
    "if results.pvalue < alpha:\n",
    "    print('Отвергаем нулевую гипотезу')\n",
    "else:\n",
    "    print('Не получилось отвергнуть нулевую гипотезу') "
   ]
  },
  {
   "cell_type": "code",
   "execution_count": 44,
   "metadata": {},
   "outputs": [
    {
     "name": "stdout",
     "output_type": "stream",
     "text": [
      "Средняя выручка за пользователей с подпиской: 362.7921906022502\n",
      "Средняя выручка за пользователей без подписки: 328.6413651073845\n"
     ]
    }
   ],
   "source": [
    "print(\"Средняя выручка за пользователей с подпиской:\", ultra2.mean())\n",
    "print(\"Средняя выручка за пользователей без подписки:\", free2.mean())"
   ]
  },
  {
   "cell_type": "markdown",
   "metadata": {},
   "source": [
    "*Нулевая гипотеза отвернута, это означает, что помесячная выручка от пользователей с подпиской намного выше, чем от пользователей без подписки.*"
   ]
  },
  {
   "cell_type": "markdown",
   "metadata": {},
   "source": [
    "#### Представьте такую ситуацию: техническая команда сервиса обновила сервера, с которыми взаимодействует мобильное приложение. Она надеется, что из-за этого количество обращений в техподдержку значимо снизилось. Некоторый файл содержит для каждого пользователя данные о количестве обращений до обновления и после него. Какой тест вам понадобился бы для проверки этой гипотезы?"
   ]
  },
  {
   "cell_type": "markdown",
   "metadata": {},
   "source": [
    "*Стоит ставить гипотезу о равенстве средних для парных выборок. При такой гипотезе применяется метод scipy.stats.ttest_rel(). Такому методу достаточно передать два параметра: наборы данных до обновления и после. Ниже приведен пример кода.*"
   ]
  },
  {
   "cell_type": "code",
   "execution_count": 45,
   "metadata": {},
   "outputs": [],
   "source": [
    "#Нулевая гипотеза:Количество обращений осталось прежним\n",
    "#Альтернативная гипотеза: Количество стало меньше\n",
    "\n",
    "#before=набор данных с обращениями до обновления\n",
    "#after=набор данных с обращениями после обновления \n",
    "\n",
    "#alpha = 0.05 \n",
    "\n",
    "#results = st.ttest_rel(before, after, alternative='less')\n",
    "\n",
    "#print('p-значение:', results.pvalue)\n",
    "\n",
    "#if results.pvalue < alpha:\n",
    "    #print('Отвергаем нулевую гипотезу')\n",
    "#else:\n",
    "    #print('Не получилось отвергнуть нулевую гипотезу')\n",
    "    \n",
    "  "
   ]
  },
  {
   "cell_type": "markdown",
   "metadata": {},
   "source": [
    "### Общий вывод"
   ]
  },
  {
   "cell_type": "markdown",
   "metadata": {},
   "source": [
    "В ходе исследвания были выполнены и написаны выводы по следующим пунктам:\n",
    "1. Загружены и описаны полученные файлы.\n",
    "2. Была проведена предобработка данных:\n",
    "    * добавлен столбец с номером месяца \n",
    "    * столбец \"date\" приведён к типу даты pandas \n",
    "    * обработаны пропущенные значения и дубликаты \n",
    "    * удалены дубликаты из датафреймов\n",
    "\n",
    "3. Проведён исследовательский анализ данных:\n",
    "    * созданы гистограммы и диаграммы, визуализирована и описана информация о пользователях и подписках(частота встречаемости городов, возраст пользователей, соотношение пользователей с подпиской и без, расстояние и продолжительность одной поездки)\n",
    "    * обработаны аномальные значения\n",
    "    * получена информация о самых часто встречаемых поездках(Чаще всего встречаются поездки из Пятигорска, расстоянием от 2500 до 4200 метров и продолжтельностью от 10 до 25 минут, совершенные пользователями от 22 до 28 лет, которые не имеют подписки на сервис).\n",
    "4. Проведено объединение данных:\n",
    "    * все три датафрейма были объединины в один\n",
    "    * добавлено 2 датафрейма с отдельными данными о пользователях с подпиской и без.\n",
    "    * созданы гистограммы, визуализирована информация о расстоянии и времени поездок для пользователей обеих категорий.\n",
    "5. Произведен расчёт выручки:\n",
    "    * создан датафрейм с объединенными данными о расстоянии, количестве поездок и времени \n",
    "    * в этот датафрейм был добавлен столбец с помесячной выручкой за каждого пользователя \n",
    "\n",
    "6. Проведена проверка гипотез для продакт-менеджеров сервиса. По каждой из гипотез написаны нулевые и альтернативыне гипотезы, выбран верный способ проверки и выводы.\n"
   ]
  },
  {
   "cell_type": "code",
   "execution_count": null,
   "metadata": {},
   "outputs": [],
   "source": []
  }
 ],
 "metadata": {
  "ExecuteTimeLog": [
   {
    "duration": 3306,
    "start_time": "2023-05-04T18:56:03.446Z"
   },
   {
    "duration": 233,
    "start_time": "2023-05-04T18:58:47.091Z"
   },
   {
    "duration": 24,
    "start_time": "2023-05-04T19:08:06.701Z"
   },
   {
    "duration": 217,
    "start_time": "2023-05-04T19:08:27.618Z"
   },
   {
    "duration": 251,
    "start_time": "2023-05-04T19:08:31.118Z"
   },
   {
    "duration": 557,
    "start_time": "2023-05-04T19:08:53.130Z"
   },
   {
    "duration": 542,
    "start_time": "2023-05-04T19:08:59.819Z"
   },
   {
    "duration": 152,
    "start_time": "2023-05-04T19:09:32.460Z"
   },
   {
    "duration": 5,
    "start_time": "2023-05-04T19:51:22.793Z"
   },
   {
    "duration": 14,
    "start_time": "2023-05-04T19:51:38.046Z"
   },
   {
    "duration": 15,
    "start_time": "2023-05-04T19:51:51.936Z"
   },
   {
    "duration": 14,
    "start_time": "2023-05-04T19:52:05.217Z"
   },
   {
    "duration": 121,
    "start_time": "2023-05-04T19:55:41.608Z"
   },
   {
    "duration": 443,
    "start_time": "2023-05-05T20:31:34.900Z"
   },
   {
    "duration": 32,
    "start_time": "2023-05-05T20:31:35.959Z"
   },
   {
    "duration": 16,
    "start_time": "2023-05-05T20:31:36.432Z"
   },
   {
    "duration": 2165,
    "start_time": "2023-05-05T20:31:37.988Z"
   },
   {
    "duration": 663,
    "start_time": "2023-05-05T20:38:45.702Z"
   },
   {
    "duration": 110,
    "start_time": "2023-05-05T20:40:44.792Z"
   },
   {
    "duration": 28,
    "start_time": "2023-05-05T20:40:57.957Z"
   },
   {
    "duration": 2,
    "start_time": "2023-05-06T00:59:44.144Z"
   },
   {
    "duration": 93,
    "start_time": "2023-05-06T00:59:45.406Z"
   },
   {
    "duration": 30,
    "start_time": "2023-05-06T00:59:46.506Z"
   },
   {
    "duration": 4,
    "start_time": "2023-05-06T00:59:51.412Z"
   },
   {
    "duration": 15,
    "start_time": "2023-05-06T00:59:52.518Z"
   },
   {
    "duration": 74,
    "start_time": "2023-05-06T00:59:56.368Z"
   },
   {
    "duration": 24,
    "start_time": "2023-05-06T01:00:00.992Z"
   },
   {
    "duration": 9,
    "start_time": "2023-05-06T01:00:03.604Z"
   },
   {
    "duration": 53,
    "start_time": "2023-05-06T01:00:06.044Z"
   },
   {
    "duration": 1817,
    "start_time": "2023-05-06T01:00:14.268Z"
   },
   {
    "duration": 5,
    "start_time": "2023-05-06T01:00:44.071Z"
   },
   {
    "duration": 25,
    "start_time": "2023-05-06T01:00:47.568Z"
   },
   {
    "duration": 9,
    "start_time": "2023-05-06T01:00:53.078Z"
   },
   {
    "duration": 8,
    "start_time": "2023-05-06T01:00:58.115Z"
   },
   {
    "duration": 6,
    "start_time": "2023-05-06T01:00:59.744Z"
   },
   {
    "duration": 1549,
    "start_time": "2023-05-06T01:01:04.058Z"
   },
   {
    "duration": 1510,
    "start_time": "2023-05-06T01:02:00.874Z"
   },
   {
    "duration": 11,
    "start_time": "2023-05-06T01:02:24.234Z"
   },
   {
    "duration": 10,
    "start_time": "2023-05-06T01:03:42.792Z"
   },
   {
    "duration": 6,
    "start_time": "2023-05-06T01:03:45.599Z"
   },
   {
    "duration": 5,
    "start_time": "2023-05-06T01:03:46.457Z"
   },
   {
    "duration": 20,
    "start_time": "2023-05-06T01:03:49.538Z"
   },
   {
    "duration": 20,
    "start_time": "2023-05-06T01:03:54.822Z"
   },
   {
    "duration": 16,
    "start_time": "2023-05-06T01:04:00.161Z"
   },
   {
    "duration": 20,
    "start_time": "2023-05-06T01:04:01.942Z"
   },
   {
    "duration": 14,
    "start_time": "2023-05-06T01:04:08.391Z"
   },
   {
    "duration": 18,
    "start_time": "2023-05-06T01:04:09.501Z"
   },
   {
    "duration": 9,
    "start_time": "2023-05-06T01:04:12.950Z"
   },
   {
    "duration": 9,
    "start_time": "2023-05-06T01:04:20.617Z"
   },
   {
    "duration": 78,
    "start_time": "2023-05-06T01:04:21.267Z"
   },
   {
    "duration": 5,
    "start_time": "2023-05-06T01:04:27.838Z"
   },
   {
    "duration": 5,
    "start_time": "2023-05-06T01:04:31.357Z"
   },
   {
    "duration": 4,
    "start_time": "2023-05-06T01:04:32.332Z"
   },
   {
    "duration": 5,
    "start_time": "2023-05-06T01:04:37.804Z"
   },
   {
    "duration": 8,
    "start_time": "2023-05-06T01:04:38.654Z"
   },
   {
    "duration": 140,
    "start_time": "2023-05-06T01:04:41.023Z"
   },
   {
    "duration": 125,
    "start_time": "2023-05-06T01:04:44.190Z"
   },
   {
    "duration": 9,
    "start_time": "2023-05-06T01:04:46.885Z"
   },
   {
    "duration": 9,
    "start_time": "2023-05-06T01:04:48.968Z"
   },
   {
    "duration": 5,
    "start_time": "2023-05-06T01:04:50.362Z"
   },
   {
    "duration": 5,
    "start_time": "2023-05-06T01:04:55.389Z"
   },
   {
    "duration": 26,
    "start_time": "2023-05-06T01:04:56.390Z"
   },
   {
    "duration": 16,
    "start_time": "2023-05-06T01:04:59.571Z"
   },
   {
    "duration": 23,
    "start_time": "2023-05-06T01:05:01.397Z"
   },
   {
    "duration": 3,
    "start_time": "2023-05-06T01:05:11.871Z"
   },
   {
    "duration": 276,
    "start_time": "2023-05-06T01:05:14.678Z"
   },
   {
    "duration": 23,
    "start_time": "2023-05-06T01:05:16.521Z"
   },
   {
    "duration": 5,
    "start_time": "2023-05-06T01:05:27.837Z"
   },
   {
    "duration": 25,
    "start_time": "2023-05-06T01:05:28.631Z"
   },
   {
    "duration": 9,
    "start_time": "2023-05-06T01:05:32.127Z"
   },
   {
    "duration": 199,
    "start_time": "2023-05-06T01:05:36.707Z"
   },
   {
    "duration": 9,
    "start_time": "2023-05-06T01:05:40.183Z"
   },
   {
    "duration": 202,
    "start_time": "2023-05-06T01:05:42.551Z"
   },
   {
    "duration": 10,
    "start_time": "2023-05-06T01:05:45.996Z"
   },
   {
    "duration": 200,
    "start_time": "2023-05-06T01:05:48.608Z"
   },
   {
    "duration": 9,
    "start_time": "2023-05-06T01:05:54.616Z"
   },
   {
    "duration": 211,
    "start_time": "2023-05-06T01:05:56.936Z"
   },
   {
    "duration": 10,
    "start_time": "2023-05-06T01:07:20.778Z"
   },
   {
    "duration": 169,
    "start_time": "2023-05-06T01:07:22.113Z"
   },
   {
    "duration": 10,
    "start_time": "2023-05-06T01:07:25.188Z"
   },
   {
    "duration": 181,
    "start_time": "2023-05-06T01:07:25.979Z"
   },
   {
    "duration": 9,
    "start_time": "2023-05-06T01:07:29.688Z"
   },
   {
    "duration": 259,
    "start_time": "2023-05-06T01:07:35.437Z"
   },
   {
    "duration": 25,
    "start_time": "2023-05-06T01:07:38.815Z"
   },
   {
    "duration": 9,
    "start_time": "2023-05-06T01:07:41.251Z"
   },
   {
    "duration": 7,
    "start_time": "2023-05-06T01:07:42.124Z"
   },
   {
    "duration": 117,
    "start_time": "2023-05-06T01:07:44.013Z"
   },
   {
    "duration": 11,
    "start_time": "2023-05-06T01:07:47.002Z"
   },
   {
    "duration": 176,
    "start_time": "2023-05-06T01:07:47.768Z"
   },
   {
    "duration": 8,
    "start_time": "2023-05-06T01:07:54.046Z"
   },
   {
    "duration": 217,
    "start_time": "2023-05-06T01:07:56.231Z"
   },
   {
    "duration": 9,
    "start_time": "2023-05-06T01:08:00.360Z"
   },
   {
    "duration": 10,
    "start_time": "2023-05-06T01:08:01.152Z"
   },
   {
    "duration": 192,
    "start_time": "2023-05-06T01:08:01.889Z"
   },
   {
    "duration": 23,
    "start_time": "2023-05-06T01:08:05.388Z"
   },
   {
    "duration": 9,
    "start_time": "2023-05-06T01:08:07.654Z"
   },
   {
    "duration": 177,
    "start_time": "2023-05-06T01:08:10.231Z"
   },
   {
    "duration": 8,
    "start_time": "2023-05-06T01:08:13.644Z"
   },
   {
    "duration": 5,
    "start_time": "2023-05-06T01:08:16.288Z"
   },
   {
    "duration": 138,
    "start_time": "2023-05-06T01:08:17.369Z"
   },
   {
    "duration": 8,
    "start_time": "2023-05-06T01:08:28.978Z"
   },
   {
    "duration": 9,
    "start_time": "2023-05-06T01:08:33.350Z"
   },
   {
    "duration": 6,
    "start_time": "2023-05-06T01:08:34.285Z"
   },
   {
    "duration": 163,
    "start_time": "2023-05-06T01:08:36.459Z"
   },
   {
    "duration": 292,
    "start_time": "2023-05-06T01:08:39.854Z"
   },
   {
    "duration": 363,
    "start_time": "2023-05-06T01:08:43.179Z"
   },
   {
    "duration": 9,
    "start_time": "2023-05-06T01:08:48.455Z"
   },
   {
    "duration": 132,
    "start_time": "2023-05-06T01:08:51.526Z"
   },
   {
    "duration": 3,
    "start_time": "2023-05-06T01:08:54.388Z"
   },
   {
    "duration": 3,
    "start_time": "2023-05-06T01:08:55.254Z"
   },
   {
    "duration": 9,
    "start_time": "2023-05-06T01:08:58.485Z"
   },
   {
    "duration": 4,
    "start_time": "2023-05-06T01:09:01.244Z"
   },
   {
    "duration": 4,
    "start_time": "2023-05-06T01:09:11.159Z"
   },
   {
    "duration": 2,
    "start_time": "2023-05-06T01:09:13.936Z"
   },
   {
    "duration": 16,
    "start_time": "2023-05-06T01:09:14.955Z"
   },
   {
    "duration": 596,
    "start_time": "2023-05-06T01:09:17.284Z"
   },
   {
    "duration": 172,
    "start_time": "2023-05-06T01:09:21.595Z"
   },
   {
    "duration": 196,
    "start_time": "2023-05-06T01:09:53.754Z"
   },
   {
    "duration": 183,
    "start_time": "2023-05-06T01:09:57.254Z"
   },
   {
    "duration": 219,
    "start_time": "2023-05-06T01:10:00.027Z"
   },
   {
    "duration": 773,
    "start_time": "2023-05-06T01:10:03.287Z"
   },
   {
    "duration": 232,
    "start_time": "2023-05-06T01:10:07.503Z"
   },
   {
    "duration": 7,
    "start_time": "2023-05-06T01:10:11.140Z"
   },
   {
    "duration": 21,
    "start_time": "2023-05-06T01:10:13.727Z"
   },
   {
    "duration": 177,
    "start_time": "2023-05-06T01:10:16.868Z"
   },
   {
    "duration": 7,
    "start_time": "2023-05-06T01:10:23.384Z"
   },
   {
    "duration": 25,
    "start_time": "2023-05-06T01:10:25.057Z"
   },
   {
    "duration": 4,
    "start_time": "2023-05-06T01:10:27.418Z"
   },
   {
    "duration": 153,
    "start_time": "2023-05-06T01:10:30.009Z"
   },
   {
    "duration": 4,
    "start_time": "2023-05-06T01:16:43.445Z"
   },
   {
    "duration": 3,
    "start_time": "2023-05-06T01:19:40.281Z"
   },
   {
    "duration": 90,
    "start_time": "2023-05-06T01:19:41.154Z"
   },
   {
    "duration": 1903,
    "start_time": "2023-05-06T01:21:48.268Z"
   },
   {
    "duration": 21,
    "start_time": "2023-05-06T01:53:26.300Z"
   },
   {
    "duration": 7,
    "start_time": "2023-05-06T01:55:35.554Z"
   },
   {
    "duration": 10,
    "start_time": "2023-05-06T01:55:38.085Z"
   },
   {
    "duration": 5,
    "start_time": "2023-05-06T01:55:38.897Z"
   },
   {
    "duration": 3,
    "start_time": "2023-05-06T02:15:11.688Z"
   },
   {
    "duration": 83,
    "start_time": "2023-05-06T02:15:12.729Z"
   },
   {
    "duration": 42,
    "start_time": "2023-05-06T02:15:14.730Z"
   },
   {
    "duration": 3,
    "start_time": "2023-05-06T02:15:28.092Z"
   },
   {
    "duration": 14,
    "start_time": "2023-05-06T02:15:29.231Z"
   },
   {
    "duration": 72,
    "start_time": "2023-05-06T02:15:34.550Z"
   },
   {
    "duration": 22,
    "start_time": "2023-05-06T02:18:31.090Z"
   },
   {
    "duration": 9,
    "start_time": "2023-05-06T02:18:32.515Z"
   },
   {
    "duration": 18,
    "start_time": "2023-05-06T02:18:34.134Z"
   },
   {
    "duration": 1870,
    "start_time": "2023-05-06T02:18:37.031Z"
   },
   {
    "duration": 4,
    "start_time": "2023-05-06T02:18:47.351Z"
   },
   {
    "duration": 26,
    "start_time": "2023-05-06T02:18:48.624Z"
   },
   {
    "duration": 10,
    "start_time": "2023-05-06T02:18:53.840Z"
   },
   {
    "duration": 8,
    "start_time": "2023-05-06T02:20:11.954Z"
   },
   {
    "duration": 5,
    "start_time": "2023-05-06T02:20:12.741Z"
   },
   {
    "duration": 1495,
    "start_time": "2023-05-06T02:20:15.817Z"
   },
   {
    "duration": 1471,
    "start_time": "2023-05-06T02:20:17.314Z"
   },
   {
    "duration": 12,
    "start_time": "2023-05-06T02:20:30.284Z"
   },
   {
    "duration": 11,
    "start_time": "2023-05-06T02:20:31.301Z"
   },
   {
    "duration": 5,
    "start_time": "2023-05-06T02:20:34.504Z"
   },
   {
    "duration": 6,
    "start_time": "2023-05-06T02:20:35.457Z"
   },
   {
    "duration": 24,
    "start_time": "2023-05-06T02:20:39.644Z"
   },
   {
    "duration": 21,
    "start_time": "2023-05-06T02:20:42.242Z"
   },
   {
    "duration": 16,
    "start_time": "2023-05-06T02:20:48.429Z"
   },
   {
    "duration": 15,
    "start_time": "2023-05-06T02:21:02.522Z"
   },
   {
    "duration": 16,
    "start_time": "2023-05-06T02:21:15.758Z"
   },
   {
    "duration": 17,
    "start_time": "2023-05-06T02:21:16.481Z"
   },
   {
    "duration": 14,
    "start_time": "2023-05-06T02:21:45.802Z"
   },
   {
    "duration": 19,
    "start_time": "2023-05-06T02:21:47.283Z"
   },
   {
    "duration": 9,
    "start_time": "2023-05-06T02:21:48.203Z"
   },
   {
    "duration": 6,
    "start_time": "2023-05-06T02:21:49.086Z"
   },
   {
    "duration": 6,
    "start_time": "2023-05-06T02:21:50.823Z"
   },
   {
    "duration": 4,
    "start_time": "2023-05-06T02:21:56.711Z"
   },
   {
    "duration": 5,
    "start_time": "2023-05-06T02:21:57.855Z"
   },
   {
    "duration": 9,
    "start_time": "2023-05-06T02:22:00.619Z"
   },
   {
    "duration": 139,
    "start_time": "2023-05-06T02:22:02.951Z"
   },
   {
    "duration": 314,
    "start_time": "2023-05-06T02:22:04.452Z"
   },
   {
    "duration": 8,
    "start_time": "2023-05-06T02:22:25.058Z"
   },
   {
    "duration": 10,
    "start_time": "2023-05-06T02:22:26.311Z"
   },
   {
    "duration": 5,
    "start_time": "2023-05-06T02:22:27.062Z"
   },
   {
    "duration": 6,
    "start_time": "2023-05-06T02:22:32.967Z"
   },
   {
    "duration": 26,
    "start_time": "2023-05-06T02:22:34.699Z"
   },
   {
    "duration": 12,
    "start_time": "2023-05-06T02:22:38.304Z"
   },
   {
    "duration": 24,
    "start_time": "2023-05-06T02:22:38.881Z"
   },
   {
    "duration": 3,
    "start_time": "2023-05-06T02:22:42.666Z"
   },
   {
    "duration": 250,
    "start_time": "2023-05-06T02:22:43.403Z"
   },
   {
    "duration": 22,
    "start_time": "2023-05-06T02:22:46.736Z"
   },
   {
    "duration": 5,
    "start_time": "2023-05-06T02:22:50.164Z"
   },
   {
    "duration": 25,
    "start_time": "2023-05-06T02:22:51.085Z"
   },
   {
    "duration": 9,
    "start_time": "2023-05-06T02:22:58.938Z"
   },
   {
    "duration": 214,
    "start_time": "2023-05-06T02:23:00.175Z"
   },
   {
    "duration": 10,
    "start_time": "2023-05-06T02:23:35.718Z"
   },
   {
    "duration": 210,
    "start_time": "2023-05-06T02:23:38.251Z"
   },
   {
    "duration": 9,
    "start_time": "2023-05-06T02:24:02.782Z"
   },
   {
    "duration": 208,
    "start_time": "2023-05-06T02:24:03.699Z"
   },
   {
    "duration": 9,
    "start_time": "2023-05-06T02:24:09.012Z"
   },
   {
    "duration": 218,
    "start_time": "2023-05-06T02:24:10.141Z"
   },
   {
    "duration": 9,
    "start_time": "2023-05-06T02:24:33.998Z"
   },
   {
    "duration": 169,
    "start_time": "2023-05-06T02:24:37.970Z"
   },
   {
    "duration": 9,
    "start_time": "2023-05-06T02:24:57.811Z"
   },
   {
    "duration": 177,
    "start_time": "2023-05-06T02:24:58.482Z"
   },
   {
    "duration": 8,
    "start_time": "2023-05-06T02:25:12.909Z"
   },
   {
    "duration": 176,
    "start_time": "2023-05-06T02:25:13.874Z"
   },
   {
    "duration": 24,
    "start_time": "2023-05-06T02:25:27.517Z"
   },
   {
    "duration": 10,
    "start_time": "2023-05-06T02:25:30.238Z"
   },
   {
    "duration": 7,
    "start_time": "2023-05-06T02:25:30.810Z"
   },
   {
    "duration": 203,
    "start_time": "2023-05-06T02:25:31.419Z"
   },
   {
    "duration": 9,
    "start_time": "2023-05-06T02:25:38.641Z"
   },
   {
    "duration": 179,
    "start_time": "2023-05-06T02:25:39.413Z"
   },
   {
    "duration": 8,
    "start_time": "2023-05-06T02:25:57.965Z"
   },
   {
    "duration": 195,
    "start_time": "2023-05-06T02:25:59.010Z"
   },
   {
    "duration": 10,
    "start_time": "2023-05-06T02:26:16.654Z"
   },
   {
    "duration": 10,
    "start_time": "2023-05-06T02:26:17.245Z"
   },
   {
    "duration": 178,
    "start_time": "2023-05-06T02:26:18.118Z"
   },
   {
    "duration": 24,
    "start_time": "2023-05-06T02:26:29.764Z"
   },
   {
    "duration": 10,
    "start_time": "2023-05-06T02:26:31.282Z"
   },
   {
    "duration": 177,
    "start_time": "2023-05-06T02:26:40.470Z"
   },
   {
    "duration": 9,
    "start_time": "2023-05-06T02:26:45.081Z"
   },
   {
    "duration": 7,
    "start_time": "2023-05-06T02:26:48.109Z"
   },
   {
    "duration": 148,
    "start_time": "2023-05-06T02:26:49.161Z"
   },
   {
    "duration": 9,
    "start_time": "2023-05-06T02:27:00.670Z"
   },
   {
    "duration": 6,
    "start_time": "2023-05-06T02:27:01.096Z"
   },
   {
    "duration": 148,
    "start_time": "2023-05-06T02:27:03.998Z"
   },
   {
    "duration": 280,
    "start_time": "2023-05-06T02:27:09.901Z"
   },
   {
    "duration": 278,
    "start_time": "2023-05-06T02:27:17.843Z"
   },
   {
    "duration": 10,
    "start_time": "2023-05-06T02:27:20.556Z"
   },
   {
    "duration": 216,
    "start_time": "2023-05-06T02:27:26.303Z"
   },
   {
    "duration": 3,
    "start_time": "2023-05-06T02:27:26.974Z"
   },
   {
    "duration": 3,
    "start_time": "2023-05-06T02:27:27.655Z"
   },
   {
    "duration": 10,
    "start_time": "2023-05-06T02:27:36.517Z"
   },
   {
    "duration": 3,
    "start_time": "2023-05-06T02:27:36.866Z"
   },
   {
    "duration": 4,
    "start_time": "2023-05-06T02:27:41.301Z"
   },
   {
    "duration": 2,
    "start_time": "2023-05-06T02:27:43.918Z"
   },
   {
    "duration": 17,
    "start_time": "2023-05-06T02:27:46.389Z"
   },
   {
    "duration": 613,
    "start_time": "2023-05-06T02:27:50.441Z"
   },
   {
    "duration": 176,
    "start_time": "2023-05-06T02:27:56.255Z"
   },
   {
    "duration": 204,
    "start_time": "2023-05-06T02:28:01.405Z"
   },
   {
    "duration": 175,
    "start_time": "2023-05-06T02:28:06.542Z"
   },
   {
    "duration": 200,
    "start_time": "2023-05-06T02:28:17.819Z"
   },
   {
    "duration": 760,
    "start_time": "2023-05-06T02:28:23.082Z"
   },
   {
    "duration": 144,
    "start_time": "2023-05-06T02:28:28.064Z"
   },
   {
    "duration": 7,
    "start_time": "2023-05-06T02:28:37.608Z"
   },
   {
    "duration": 19,
    "start_time": "2023-05-06T02:28:42.897Z"
   },
   {
    "duration": 177,
    "start_time": "2023-05-06T02:28:58.764Z"
   },
   {
    "duration": 7,
    "start_time": "2023-05-06T02:29:05.305Z"
   },
   {
    "duration": 1439,
    "start_time": "2023-05-06T04:27:28.089Z"
   },
   {
    "duration": 143,
    "start_time": "2023-05-06T04:27:29.530Z"
   },
   {
    "duration": 34,
    "start_time": "2023-05-06T04:27:29.675Z"
   },
   {
    "duration": 4,
    "start_time": "2023-05-06T04:27:29.711Z"
   },
   {
    "duration": 36,
    "start_time": "2023-05-06T04:27:29.717Z"
   },
   {
    "duration": 72,
    "start_time": "2023-05-06T04:27:29.755Z"
   },
   {
    "duration": 22,
    "start_time": "2023-05-06T04:27:29.829Z"
   },
   {
    "duration": 9,
    "start_time": "2023-05-06T04:27:29.853Z"
   },
   {
    "duration": 75,
    "start_time": "2023-05-06T04:27:29.863Z"
   },
   {
    "duration": 2072,
    "start_time": "2023-05-06T04:27:29.941Z"
   },
   {
    "duration": 6,
    "start_time": "2023-05-06T04:27:32.015Z"
   },
   {
    "duration": 35,
    "start_time": "2023-05-06T04:27:32.023Z"
   },
   {
    "duration": 20,
    "start_time": "2023-05-06T04:27:32.060Z"
   },
   {
    "duration": 14,
    "start_time": "2023-05-06T04:27:32.084Z"
   },
   {
    "duration": 10,
    "start_time": "2023-05-06T04:27:32.100Z"
   },
   {
    "duration": 1468,
    "start_time": "2023-05-06T04:27:32.111Z"
   },
   {
    "duration": 17,
    "start_time": "2023-05-06T04:27:33.581Z"
   },
   {
    "duration": 10,
    "start_time": "2023-05-06T04:27:33.600Z"
   },
   {
    "duration": 6,
    "start_time": "2023-05-06T04:27:33.612Z"
   },
   {
    "duration": 5,
    "start_time": "2023-05-06T04:27:33.620Z"
   },
   {
    "duration": 24,
    "start_time": "2023-05-06T04:27:33.627Z"
   },
   {
    "duration": 54,
    "start_time": "2023-05-06T04:27:33.653Z"
   },
   {
    "duration": 16,
    "start_time": "2023-05-06T04:27:33.708Z"
   },
   {
    "duration": 18,
    "start_time": "2023-05-06T04:27:33.726Z"
   },
   {
    "duration": 13,
    "start_time": "2023-05-06T04:27:33.746Z"
   },
   {
    "duration": 47,
    "start_time": "2023-05-06T04:27:33.761Z"
   },
   {
    "duration": 8,
    "start_time": "2023-05-06T04:27:33.810Z"
   },
   {
    "duration": 17,
    "start_time": "2023-05-06T04:27:33.820Z"
   },
   {
    "duration": 19,
    "start_time": "2023-05-06T04:27:33.838Z"
   },
   {
    "duration": 6,
    "start_time": "2023-05-06T04:27:33.859Z"
   },
   {
    "duration": 9,
    "start_time": "2023-05-06T04:27:33.867Z"
   },
   {
    "duration": 21,
    "start_time": "2023-05-06T04:27:33.877Z"
   },
   {
    "duration": 139,
    "start_time": "2023-05-06T04:27:33.900Z"
   },
   {
    "duration": 127,
    "start_time": "2023-05-06T04:27:34.040Z"
   },
   {
    "duration": 8,
    "start_time": "2023-05-06T04:27:34.169Z"
   },
   {
    "duration": 17,
    "start_time": "2023-05-06T04:27:34.179Z"
   },
   {
    "duration": 6,
    "start_time": "2023-05-06T04:27:34.197Z"
   },
   {
    "duration": 6,
    "start_time": "2023-05-06T04:27:34.204Z"
   },
   {
    "duration": 26,
    "start_time": "2023-05-06T04:27:34.211Z"
   },
   {
    "duration": 9,
    "start_time": "2023-05-06T04:27:34.239Z"
   },
   {
    "duration": 55,
    "start_time": "2023-05-06T04:27:34.253Z"
   },
   {
    "duration": 3,
    "start_time": "2023-05-06T04:27:34.310Z"
   },
   {
    "duration": 192,
    "start_time": "2023-05-06T04:27:34.315Z"
   },
   {
    "duration": 31,
    "start_time": "2023-05-06T04:27:34.508Z"
   },
   {
    "duration": 5,
    "start_time": "2023-05-06T04:27:34.541Z"
   },
   {
    "duration": 31,
    "start_time": "2023-05-06T04:27:34.548Z"
   },
   {
    "duration": 16,
    "start_time": "2023-05-06T04:27:34.581Z"
   },
   {
    "duration": 228,
    "start_time": "2023-05-06T04:27:34.599Z"
   },
   {
    "duration": 8,
    "start_time": "2023-05-06T04:27:34.828Z"
   },
   {
    "duration": 204,
    "start_time": "2023-05-06T04:27:34.837Z"
   },
   {
    "duration": 8,
    "start_time": "2023-05-06T04:27:35.043Z"
   },
   {
    "duration": 222,
    "start_time": "2023-05-06T04:27:35.053Z"
   },
   {
    "duration": 17,
    "start_time": "2023-05-06T04:27:35.276Z"
   },
   {
    "duration": 210,
    "start_time": "2023-05-06T04:27:35.295Z"
   },
   {
    "duration": 9,
    "start_time": "2023-05-06T04:27:35.506Z"
   },
   {
    "duration": 171,
    "start_time": "2023-05-06T04:27:35.516Z"
   },
   {
    "duration": 8,
    "start_time": "2023-05-06T04:27:35.691Z"
   },
   {
    "duration": 318,
    "start_time": "2023-05-06T04:27:35.700Z"
   },
   {
    "duration": 8,
    "start_time": "2023-05-06T04:27:36.019Z"
   },
   {
    "duration": 200,
    "start_time": "2023-05-06T04:27:36.028Z"
   },
   {
    "duration": 24,
    "start_time": "2023-05-06T04:27:36.230Z"
   },
   {
    "duration": 11,
    "start_time": "2023-05-06T04:27:36.256Z"
   },
   {
    "duration": 22,
    "start_time": "2023-05-06T04:27:36.269Z"
   },
   {
    "duration": 125,
    "start_time": "2023-05-06T04:27:36.293Z"
   },
   {
    "duration": 9,
    "start_time": "2023-05-06T04:27:36.420Z"
   },
   {
    "duration": 191,
    "start_time": "2023-05-06T04:27:36.431Z"
   },
   {
    "duration": 9,
    "start_time": "2023-05-06T04:27:36.623Z"
   },
   {
    "duration": 214,
    "start_time": "2023-05-06T04:27:36.634Z"
   },
   {
    "duration": 8,
    "start_time": "2023-05-06T04:27:36.849Z"
   },
   {
    "duration": 8,
    "start_time": "2023-05-06T04:27:36.858Z"
   },
   {
    "duration": 216,
    "start_time": "2023-05-06T04:27:36.868Z"
   },
   {
    "duration": 24,
    "start_time": "2023-05-06T04:27:37.091Z"
   },
   {
    "duration": 9,
    "start_time": "2023-05-06T04:27:37.117Z"
   },
   {
    "duration": 218,
    "start_time": "2023-05-06T04:27:37.128Z"
   },
   {
    "duration": 12,
    "start_time": "2023-05-06T04:27:37.348Z"
   },
   {
    "duration": 7,
    "start_time": "2023-05-06T04:27:37.361Z"
   },
   {
    "duration": 165,
    "start_time": "2023-05-06T04:27:37.370Z"
   },
   {
    "duration": 8,
    "start_time": "2023-05-06T04:27:37.537Z"
   },
   {
    "duration": 8,
    "start_time": "2023-05-06T04:27:37.547Z"
   },
   {
    "duration": 187,
    "start_time": "2023-05-06T04:27:37.557Z"
   },
   {
    "duration": 305,
    "start_time": "2023-05-06T04:27:37.745Z"
   },
   {
    "duration": 416,
    "start_time": "2023-05-06T04:27:38.052Z"
   },
   {
    "duration": 10,
    "start_time": "2023-05-06T04:27:38.469Z"
   },
   {
    "duration": 132,
    "start_time": "2023-05-06T04:27:38.492Z"
   },
   {
    "duration": 3,
    "start_time": "2023-05-06T04:27:38.626Z"
   },
   {
    "duration": 6,
    "start_time": "2023-05-06T04:27:38.631Z"
   },
   {
    "duration": 11,
    "start_time": "2023-05-06T04:27:38.638Z"
   },
   {
    "duration": 5,
    "start_time": "2023-05-06T04:27:38.651Z"
   },
   {
    "duration": 7,
    "start_time": "2023-05-06T04:27:38.657Z"
   },
   {
    "duration": 3,
    "start_time": "2023-05-06T04:27:38.692Z"
   },
   {
    "duration": 17,
    "start_time": "2023-05-06T04:27:38.697Z"
   },
   {
    "duration": 631,
    "start_time": "2023-05-06T04:27:38.716Z"
   },
   {
    "duration": 168,
    "start_time": "2023-05-06T04:27:39.349Z"
   },
   {
    "duration": 180,
    "start_time": "2023-05-06T04:27:39.518Z"
   },
   {
    "duration": 172,
    "start_time": "2023-05-06T04:27:39.700Z"
   },
   {
    "duration": 198,
    "start_time": "2023-05-06T04:27:39.874Z"
   },
   {
    "duration": 731,
    "start_time": "2023-05-06T04:27:40.074Z"
   },
   {
    "duration": 155,
    "start_time": "2023-05-06T04:27:40.807Z"
   },
   {
    "duration": 6,
    "start_time": "2023-05-06T04:27:40.964Z"
   },
   {
    "duration": 29,
    "start_time": "2023-05-06T04:27:40.972Z"
   },
   {
    "duration": 176,
    "start_time": "2023-05-06T04:27:41.003Z"
   },
   {
    "duration": 12,
    "start_time": "2023-05-06T04:27:41.181Z"
   },
   {
    "duration": 23,
    "start_time": "2023-05-06T04:27:41.195Z"
   },
   {
    "duration": 4,
    "start_time": "2023-05-06T04:27:41.220Z"
   },
   {
    "duration": 176,
    "start_time": "2023-05-06T04:27:41.225Z"
   },
   {
    "duration": 5,
    "start_time": "2023-05-06T04:34:26.627Z"
   },
   {
    "duration": 5,
    "start_time": "2023-05-06T04:35:20.521Z"
   },
   {
    "duration": 82,
    "start_time": "2023-05-06T04:38:32.806Z"
   },
   {
    "duration": 77,
    "start_time": "2023-05-06T04:38:50.601Z"
   },
   {
    "duration": 4,
    "start_time": "2023-05-06T04:39:29.722Z"
   },
   {
    "duration": 1193,
    "start_time": "2023-05-06T04:39:34.592Z"
   },
   {
    "duration": 89,
    "start_time": "2023-05-06T04:39:35.787Z"
   },
   {
    "duration": 33,
    "start_time": "2023-05-06T04:39:35.878Z"
   },
   {
    "duration": 3,
    "start_time": "2023-05-06T04:39:35.914Z"
   },
   {
    "duration": 18,
    "start_time": "2023-05-06T04:39:35.919Z"
   },
   {
    "duration": 86,
    "start_time": "2023-05-06T04:39:35.938Z"
   },
   {
    "duration": 21,
    "start_time": "2023-05-06T04:39:36.026Z"
   },
   {
    "duration": 9,
    "start_time": "2023-05-06T04:39:36.049Z"
   },
   {
    "duration": 77,
    "start_time": "2023-05-06T04:39:36.059Z"
   },
   {
    "duration": 2107,
    "start_time": "2023-05-06T04:39:36.138Z"
   },
   {
    "duration": 7,
    "start_time": "2023-05-06T04:39:38.246Z"
   },
   {
    "duration": 27,
    "start_time": "2023-05-06T04:39:38.255Z"
   },
   {
    "duration": 16,
    "start_time": "2023-05-06T04:39:38.284Z"
   },
   {
    "duration": 8,
    "start_time": "2023-05-06T04:39:38.302Z"
   },
   {
    "duration": 10,
    "start_time": "2023-05-06T04:39:38.312Z"
   },
   {
    "duration": 1444,
    "start_time": "2023-05-06T04:39:38.323Z"
   },
   {
    "duration": 28,
    "start_time": "2023-05-06T04:39:39.768Z"
   },
   {
    "duration": 5,
    "start_time": "2023-05-06T04:39:39.798Z"
   },
   {
    "duration": 22,
    "start_time": "2023-05-06T04:39:39.804Z"
   },
   {
    "duration": 6,
    "start_time": "2023-05-06T04:39:39.828Z"
   },
   {
    "duration": 6,
    "start_time": "2023-05-06T04:39:39.835Z"
   },
   {
    "duration": 34,
    "start_time": "2023-05-06T04:39:39.842Z"
   },
   {
    "duration": 25,
    "start_time": "2023-05-06T04:39:39.878Z"
   },
   {
    "duration": 15,
    "start_time": "2023-05-06T04:39:39.905Z"
   },
   {
    "duration": 17,
    "start_time": "2023-05-06T04:39:39.922Z"
   },
   {
    "duration": 13,
    "start_time": "2023-05-06T04:39:39.940Z"
   },
   {
    "duration": 46,
    "start_time": "2023-05-06T04:39:39.955Z"
   },
   {
    "duration": 9,
    "start_time": "2023-05-06T04:39:40.005Z"
   },
   {
    "duration": 10,
    "start_time": "2023-05-06T04:39:40.015Z"
   },
   {
    "duration": 16,
    "start_time": "2023-05-06T04:39:40.027Z"
   },
   {
    "duration": 7,
    "start_time": "2023-05-06T04:39:40.044Z"
   },
   {
    "duration": 22,
    "start_time": "2023-05-06T04:39:40.052Z"
   },
   {
    "duration": 16,
    "start_time": "2023-05-06T04:39:40.076Z"
   },
   {
    "duration": 147,
    "start_time": "2023-05-06T04:39:40.093Z"
   },
   {
    "duration": 117,
    "start_time": "2023-05-06T04:39:40.242Z"
   },
   {
    "duration": 9,
    "start_time": "2023-05-06T04:39:40.360Z"
   },
   {
    "duration": 7,
    "start_time": "2023-05-06T04:39:40.370Z"
   },
   {
    "duration": 9,
    "start_time": "2023-05-06T04:39:40.392Z"
   },
   {
    "duration": 6,
    "start_time": "2023-05-06T04:39:40.403Z"
   },
   {
    "duration": 83,
    "start_time": "2023-05-06T04:39:40.410Z"
   },
   {
    "duration": 5,
    "start_time": "2023-05-06T04:39:40.495Z"
   },
   {
    "duration": 28,
    "start_time": "2023-05-06T04:39:40.501Z"
   },
   {
    "duration": 10,
    "start_time": "2023-05-06T04:39:40.530Z"
   },
   {
    "duration": 25,
    "start_time": "2023-05-06T04:39:40.541Z"
   },
   {
    "duration": 29,
    "start_time": "2023-05-06T04:39:40.567Z"
   },
   {
    "duration": 186,
    "start_time": "2023-05-06T04:39:40.598Z"
   },
   {
    "duration": 25,
    "start_time": "2023-05-06T04:39:40.786Z"
   },
   {
    "duration": 7,
    "start_time": "2023-05-06T04:39:40.813Z"
   },
   {
    "duration": 31,
    "start_time": "2023-05-06T04:39:40.822Z"
   },
   {
    "duration": 10,
    "start_time": "2023-05-06T04:39:40.855Z"
   },
   {
    "duration": 249,
    "start_time": "2023-05-06T04:39:40.867Z"
   },
   {
    "duration": 9,
    "start_time": "2023-05-06T04:39:41.118Z"
   },
   {
    "duration": 207,
    "start_time": "2023-05-06T04:39:41.128Z"
   },
   {
    "duration": 10,
    "start_time": "2023-05-06T04:39:41.337Z"
   },
   {
    "duration": 245,
    "start_time": "2023-05-06T04:39:41.349Z"
   },
   {
    "duration": 9,
    "start_time": "2023-05-06T04:39:41.596Z"
   },
   {
    "duration": 217,
    "start_time": "2023-05-06T04:39:41.607Z"
   },
   {
    "duration": 8,
    "start_time": "2023-05-06T04:39:41.827Z"
   },
   {
    "duration": 170,
    "start_time": "2023-05-06T04:39:41.837Z"
   },
   {
    "duration": 10,
    "start_time": "2023-05-06T04:39:42.009Z"
   },
   {
    "duration": 329,
    "start_time": "2023-05-06T04:39:42.021Z"
   },
   {
    "duration": 10,
    "start_time": "2023-05-06T04:39:42.352Z"
   },
   {
    "duration": 217,
    "start_time": "2023-05-06T04:39:42.363Z"
   },
   {
    "duration": 30,
    "start_time": "2023-05-06T04:39:42.581Z"
   },
   {
    "duration": 8,
    "start_time": "2023-05-06T04:39:42.613Z"
   },
   {
    "duration": 10,
    "start_time": "2023-05-06T04:39:42.623Z"
   },
   {
    "duration": 139,
    "start_time": "2023-05-06T04:39:42.635Z"
   },
   {
    "duration": 22,
    "start_time": "2023-05-06T04:39:42.775Z"
   },
   {
    "duration": 183,
    "start_time": "2023-05-06T04:39:42.799Z"
   },
   {
    "duration": 14,
    "start_time": "2023-05-06T04:39:42.984Z"
   },
   {
    "duration": 230,
    "start_time": "2023-05-06T04:39:43.000Z"
   },
   {
    "duration": 8,
    "start_time": "2023-05-06T04:39:43.232Z"
   },
   {
    "duration": 10,
    "start_time": "2023-05-06T04:39:43.242Z"
   },
   {
    "duration": 234,
    "start_time": "2023-05-06T04:39:43.253Z"
   },
   {
    "duration": 23,
    "start_time": "2023-05-06T04:39:43.492Z"
   },
   {
    "duration": 21,
    "start_time": "2023-05-06T04:39:43.517Z"
   },
   {
    "duration": 208,
    "start_time": "2023-05-06T04:39:43.540Z"
   },
   {
    "duration": 8,
    "start_time": "2023-05-06T04:39:43.750Z"
   },
   {
    "duration": 5,
    "start_time": "2023-05-06T04:39:43.760Z"
   },
   {
    "duration": 156,
    "start_time": "2023-05-06T04:39:43.767Z"
   },
   {
    "duration": 8,
    "start_time": "2023-05-06T04:39:43.925Z"
   },
   {
    "duration": 5,
    "start_time": "2023-05-06T04:39:43.939Z"
   },
   {
    "duration": 183,
    "start_time": "2023-05-06T04:39:43.946Z"
   },
   {
    "duration": 309,
    "start_time": "2023-05-06T04:39:44.131Z"
   },
   {
    "duration": 440,
    "start_time": "2023-05-06T04:39:44.441Z"
   },
   {
    "duration": 16,
    "start_time": "2023-05-06T04:39:44.883Z"
   },
   {
    "duration": 126,
    "start_time": "2023-05-06T04:39:44.901Z"
   },
   {
    "duration": 3,
    "start_time": "2023-05-06T04:39:45.030Z"
   },
   {
    "duration": 23,
    "start_time": "2023-05-06T04:39:45.035Z"
   },
   {
    "duration": 10,
    "start_time": "2023-05-06T04:39:45.060Z"
   },
   {
    "duration": 4,
    "start_time": "2023-05-06T04:39:45.072Z"
   },
   {
    "duration": 15,
    "start_time": "2023-05-06T04:39:45.077Z"
   },
   {
    "duration": 12,
    "start_time": "2023-05-06T04:39:45.093Z"
   },
   {
    "duration": 20,
    "start_time": "2023-05-06T04:39:45.106Z"
   },
   {
    "duration": 592,
    "start_time": "2023-05-06T04:39:45.128Z"
   },
   {
    "duration": 179,
    "start_time": "2023-05-06T04:39:45.722Z"
   },
   {
    "duration": 192,
    "start_time": "2023-05-06T04:39:45.904Z"
   },
   {
    "duration": 183,
    "start_time": "2023-05-06T04:39:46.098Z"
   },
   {
    "duration": 209,
    "start_time": "2023-05-06T04:39:46.283Z"
   },
   {
    "duration": 755,
    "start_time": "2023-05-06T04:39:46.494Z"
   },
   {
    "duration": 163,
    "start_time": "2023-05-06T04:39:47.251Z"
   },
   {
    "duration": 9,
    "start_time": "2023-05-06T04:39:47.416Z"
   },
   {
    "duration": 24,
    "start_time": "2023-05-06T04:39:47.427Z"
   },
   {
    "duration": 214,
    "start_time": "2023-05-06T04:39:47.453Z"
   },
   {
    "duration": 8,
    "start_time": "2023-05-06T04:39:47.668Z"
   },
   {
    "duration": 42,
    "start_time": "2023-05-06T04:39:47.677Z"
   },
   {
    "duration": 6,
    "start_time": "2023-05-06T04:39:47.721Z"
   },
   {
    "duration": 166,
    "start_time": "2023-05-06T04:39:47.728Z"
   },
   {
    "duration": 764,
    "start_time": "2023-05-13T14:17:56.128Z"
   },
   {
    "duration": 0,
    "start_time": "2023-05-13T14:17:56.904Z"
   },
   {
    "duration": 0,
    "start_time": "2023-05-13T14:17:56.906Z"
   },
   {
    "duration": 0,
    "start_time": "2023-05-13T14:17:56.906Z"
   },
   {
    "duration": 0,
    "start_time": "2023-05-13T14:17:56.907Z"
   },
   {
    "duration": 0,
    "start_time": "2023-05-13T14:17:56.907Z"
   },
   {
    "duration": 0,
    "start_time": "2023-05-13T14:17:56.908Z"
   },
   {
    "duration": 0,
    "start_time": "2023-05-13T14:17:56.908Z"
   },
   {
    "duration": 0,
    "start_time": "2023-05-13T14:17:56.909Z"
   },
   {
    "duration": 0,
    "start_time": "2023-05-13T14:17:56.910Z"
   },
   {
    "duration": 0,
    "start_time": "2023-05-13T14:17:56.910Z"
   },
   {
    "duration": 0,
    "start_time": "2023-05-13T14:17:56.913Z"
   },
   {
    "duration": 0,
    "start_time": "2023-05-13T14:17:56.914Z"
   },
   {
    "duration": 0,
    "start_time": "2023-05-13T14:17:56.915Z"
   },
   {
    "duration": 0,
    "start_time": "2023-05-13T14:17:56.917Z"
   },
   {
    "duration": 0,
    "start_time": "2023-05-13T14:17:56.918Z"
   },
   {
    "duration": 0,
    "start_time": "2023-05-13T14:17:56.920Z"
   },
   {
    "duration": 0,
    "start_time": "2023-05-13T14:17:56.921Z"
   },
   {
    "duration": 0,
    "start_time": "2023-05-13T14:17:56.922Z"
   },
   {
    "duration": 0,
    "start_time": "2023-05-13T14:17:56.925Z"
   },
   {
    "duration": 0,
    "start_time": "2023-05-13T14:17:56.926Z"
   },
   {
    "duration": 0,
    "start_time": "2023-05-13T14:17:56.927Z"
   },
   {
    "duration": 0,
    "start_time": "2023-05-13T14:17:56.927Z"
   },
   {
    "duration": 0,
    "start_time": "2023-05-13T14:17:56.928Z"
   },
   {
    "duration": 0,
    "start_time": "2023-05-13T14:17:56.929Z"
   },
   {
    "duration": 0,
    "start_time": "2023-05-13T14:17:56.929Z"
   },
   {
    "duration": 0,
    "start_time": "2023-05-13T14:17:56.930Z"
   },
   {
    "duration": 0,
    "start_time": "2023-05-13T14:17:56.932Z"
   },
   {
    "duration": 0,
    "start_time": "2023-05-13T14:17:56.934Z"
   },
   {
    "duration": 0,
    "start_time": "2023-05-13T14:17:56.935Z"
   },
   {
    "duration": 0,
    "start_time": "2023-05-13T14:17:56.936Z"
   },
   {
    "duration": 0,
    "start_time": "2023-05-13T14:17:56.937Z"
   },
   {
    "duration": 0,
    "start_time": "2023-05-13T14:17:56.938Z"
   },
   {
    "duration": 0,
    "start_time": "2023-05-13T14:17:56.939Z"
   },
   {
    "duration": 0,
    "start_time": "2023-05-13T14:17:56.940Z"
   },
   {
    "duration": 0,
    "start_time": "2023-05-13T14:17:56.942Z"
   },
   {
    "duration": 0,
    "start_time": "2023-05-13T14:17:56.943Z"
   },
   {
    "duration": 0,
    "start_time": "2023-05-13T14:17:56.944Z"
   },
   {
    "duration": 0,
    "start_time": "2023-05-13T14:17:56.946Z"
   },
   {
    "duration": 0,
    "start_time": "2023-05-13T14:17:56.947Z"
   },
   {
    "duration": 0,
    "start_time": "2023-05-13T14:17:56.949Z"
   },
   {
    "duration": 0,
    "start_time": "2023-05-13T14:17:56.950Z"
   },
   {
    "duration": 0,
    "start_time": "2023-05-13T14:17:56.951Z"
   },
   {
    "duration": 0,
    "start_time": "2023-05-13T14:17:56.953Z"
   },
   {
    "duration": 0,
    "start_time": "2023-05-13T14:17:56.954Z"
   },
   {
    "duration": 0,
    "start_time": "2023-05-13T14:17:57.002Z"
   },
   {
    "duration": 0,
    "start_time": "2023-05-13T14:17:57.003Z"
   },
   {
    "duration": 0,
    "start_time": "2023-05-13T14:17:57.004Z"
   },
   {
    "duration": 0,
    "start_time": "2023-05-13T14:17:57.005Z"
   },
   {
    "duration": 0,
    "start_time": "2023-05-13T14:17:57.006Z"
   },
   {
    "duration": 0,
    "start_time": "2023-05-13T14:17:57.008Z"
   },
   {
    "duration": 0,
    "start_time": "2023-05-13T14:17:57.010Z"
   },
   {
    "duration": 0,
    "start_time": "2023-05-13T14:17:57.011Z"
   },
   {
    "duration": 0,
    "start_time": "2023-05-13T14:17:57.012Z"
   },
   {
    "duration": 0,
    "start_time": "2023-05-13T14:17:57.014Z"
   },
   {
    "duration": 0,
    "start_time": "2023-05-13T14:17:57.016Z"
   },
   {
    "duration": 0,
    "start_time": "2023-05-13T14:17:57.017Z"
   },
   {
    "duration": 0,
    "start_time": "2023-05-13T14:17:57.018Z"
   },
   {
    "duration": 0,
    "start_time": "2023-05-13T14:17:57.019Z"
   },
   {
    "duration": 0,
    "start_time": "2023-05-13T14:17:57.020Z"
   },
   {
    "duration": 0,
    "start_time": "2023-05-13T14:17:57.021Z"
   },
   {
    "duration": 0,
    "start_time": "2023-05-13T14:17:57.022Z"
   },
   {
    "duration": 0,
    "start_time": "2023-05-13T14:17:57.023Z"
   },
   {
    "duration": 0,
    "start_time": "2023-05-13T14:17:57.024Z"
   },
   {
    "duration": 0,
    "start_time": "2023-05-13T14:17:57.025Z"
   },
   {
    "duration": 0,
    "start_time": "2023-05-13T14:17:57.025Z"
   },
   {
    "duration": 0,
    "start_time": "2023-05-13T14:17:57.026Z"
   },
   {
    "duration": 0,
    "start_time": "2023-05-13T14:17:57.027Z"
   },
   {
    "duration": 0,
    "start_time": "2023-05-13T14:17:57.028Z"
   },
   {
    "duration": 0,
    "start_time": "2023-05-13T14:17:57.029Z"
   },
   {
    "duration": 0,
    "start_time": "2023-05-13T14:17:57.030Z"
   },
   {
    "duration": 0,
    "start_time": "2023-05-13T14:17:57.031Z"
   },
   {
    "duration": 0,
    "start_time": "2023-05-13T14:17:57.032Z"
   },
   {
    "duration": 0,
    "start_time": "2023-05-13T14:17:57.033Z"
   },
   {
    "duration": 0,
    "start_time": "2023-05-13T14:17:57.033Z"
   },
   {
    "duration": 0,
    "start_time": "2023-05-13T14:17:57.034Z"
   },
   {
    "duration": 0,
    "start_time": "2023-05-13T14:17:57.035Z"
   },
   {
    "duration": 0,
    "start_time": "2023-05-13T14:17:57.036Z"
   },
   {
    "duration": 0,
    "start_time": "2023-05-13T14:17:57.037Z"
   },
   {
    "duration": 0,
    "start_time": "2023-05-13T14:17:57.038Z"
   },
   {
    "duration": 0,
    "start_time": "2023-05-13T14:17:57.039Z"
   },
   {
    "duration": 0,
    "start_time": "2023-05-13T14:17:57.041Z"
   },
   {
    "duration": 0,
    "start_time": "2023-05-13T14:17:57.042Z"
   },
   {
    "duration": 0,
    "start_time": "2023-05-13T14:17:57.096Z"
   },
   {
    "duration": 0,
    "start_time": "2023-05-13T14:17:57.097Z"
   },
   {
    "duration": 0,
    "start_time": "2023-05-13T14:17:57.098Z"
   },
   {
    "duration": 0,
    "start_time": "2023-05-13T14:17:57.099Z"
   },
   {
    "duration": 0,
    "start_time": "2023-05-13T14:17:57.100Z"
   },
   {
    "duration": 0,
    "start_time": "2023-05-13T14:17:57.100Z"
   },
   {
    "duration": 0,
    "start_time": "2023-05-13T14:17:57.101Z"
   },
   {
    "duration": 0,
    "start_time": "2023-05-13T14:17:57.102Z"
   },
   {
    "duration": 0,
    "start_time": "2023-05-13T14:17:57.105Z"
   },
   {
    "duration": 0,
    "start_time": "2023-05-13T14:17:57.106Z"
   },
   {
    "duration": 4,
    "start_time": "2023-05-13T14:19:47.213Z"
   },
   {
    "duration": 442,
    "start_time": "2023-05-13T14:20:11.726Z"
   },
   {
    "duration": 649,
    "start_time": "2023-05-13T14:20:18.920Z"
   },
   {
    "duration": 166,
    "start_time": "2023-05-13T14:20:19.572Z"
   },
   {
    "duration": 43,
    "start_time": "2023-05-13T14:20:19.740Z"
   },
   {
    "duration": 29,
    "start_time": "2023-05-13T14:20:19.785Z"
   },
   {
    "duration": 2160,
    "start_time": "2023-05-13T14:20:19.816Z"
   },
   {
    "duration": 4,
    "start_time": "2023-05-13T14:20:21.978Z"
   },
   {
    "duration": 93,
    "start_time": "2023-05-13T14:20:21.984Z"
   },
   {
    "duration": 13,
    "start_time": "2023-05-13T14:20:22.079Z"
   },
   {
    "duration": 47,
    "start_time": "2023-05-13T14:20:22.095Z"
   },
   {
    "duration": 12,
    "start_time": "2023-05-13T14:20:22.145Z"
   },
   {
    "duration": 16,
    "start_time": "2023-05-13T14:20:22.158Z"
   },
   {
    "duration": 12,
    "start_time": "2023-05-13T14:20:22.176Z"
   },
   {
    "duration": 26,
    "start_time": "2023-05-13T14:20:22.189Z"
   },
   {
    "duration": 32,
    "start_time": "2023-05-13T14:20:22.217Z"
   },
   {
    "duration": 9,
    "start_time": "2023-05-13T14:20:22.251Z"
   },
   {
    "duration": 13,
    "start_time": "2023-05-13T14:20:22.261Z"
   },
   {
    "duration": 9,
    "start_time": "2023-05-13T14:20:22.275Z"
   },
   {
    "duration": 7,
    "start_time": "2023-05-13T14:20:22.286Z"
   },
   {
    "duration": 40,
    "start_time": "2023-05-13T14:20:22.299Z"
   },
   {
    "duration": 17,
    "start_time": "2023-05-13T14:20:22.341Z"
   },
   {
    "duration": 30,
    "start_time": "2023-05-13T14:20:22.360Z"
   },
   {
    "duration": 40,
    "start_time": "2023-05-13T14:20:22.392Z"
   },
   {
    "duration": 42,
    "start_time": "2023-05-13T14:20:22.437Z"
   },
   {
    "duration": 40,
    "start_time": "2023-05-13T14:20:22.481Z"
   },
   {
    "duration": 68,
    "start_time": "2023-05-13T14:20:22.522Z"
   },
   {
    "duration": 153,
    "start_time": "2023-05-13T14:20:22.592Z"
   },
   {
    "duration": 5,
    "start_time": "2023-05-13T14:20:22.746Z"
   },
   {
    "duration": 16,
    "start_time": "2023-05-13T14:20:22.755Z"
   },
   {
    "duration": 181,
    "start_time": "2023-05-13T14:20:22.773Z"
   },
   {
    "duration": 7,
    "start_time": "2023-05-13T14:20:22.956Z"
   },
   {
    "duration": 13,
    "start_time": "2023-05-13T14:20:22.964Z"
   },
   {
    "duration": 171,
    "start_time": "2023-05-13T14:20:22.979Z"
   },
   {
    "duration": 6,
    "start_time": "2023-05-13T14:20:23.152Z"
   },
   {
    "duration": 32,
    "start_time": "2023-05-13T14:20:23.160Z"
   },
   {
    "duration": 191,
    "start_time": "2023-05-13T14:20:23.194Z"
   },
   {
    "duration": 27,
    "start_time": "2023-05-13T14:20:23.387Z"
   },
   {
    "duration": 19,
    "start_time": "2023-05-13T14:20:23.416Z"
   },
   {
    "duration": 10,
    "start_time": "2023-05-13T14:20:23.439Z"
   },
   {
    "duration": 9,
    "start_time": "2023-05-13T14:20:23.451Z"
   },
   {
    "duration": 11,
    "start_time": "2023-05-13T14:20:23.461Z"
   },
   {
    "duration": 163,
    "start_time": "2023-05-13T14:20:23.473Z"
   },
   {
    "duration": 7,
    "start_time": "2023-05-13T14:20:23.638Z"
   },
   {
    "duration": 15,
    "start_time": "2023-05-13T14:20:23.647Z"
   },
   {
    "duration": 166,
    "start_time": "2023-05-13T14:20:23.664Z"
   },
   {
    "duration": 6,
    "start_time": "2023-05-13T14:20:23.833Z"
   },
   {
    "duration": 21,
    "start_time": "2023-05-13T14:20:23.840Z"
   },
   {
    "duration": 6,
    "start_time": "2023-05-13T14:20:23.862Z"
   },
   {
    "duration": 10,
    "start_time": "2023-05-13T14:20:23.870Z"
   },
   {
    "duration": 284,
    "start_time": "2023-05-13T14:20:23.882Z"
   },
   {
    "duration": 5,
    "start_time": "2023-05-13T14:20:24.167Z"
   },
   {
    "duration": 28,
    "start_time": "2023-05-13T14:20:24.174Z"
   },
   {
    "duration": 8,
    "start_time": "2023-05-13T14:20:24.208Z"
   },
   {
    "duration": 36,
    "start_time": "2023-05-13T14:20:24.217Z"
   },
   {
    "duration": 14,
    "start_time": "2023-05-13T14:20:24.255Z"
   },
   {
    "duration": 5,
    "start_time": "2023-05-13T14:20:24.271Z"
   },
   {
    "duration": 13,
    "start_time": "2023-05-13T14:20:24.277Z"
   },
   {
    "duration": 39,
    "start_time": "2023-05-13T14:20:24.292Z"
   },
   {
    "duration": 346,
    "start_time": "2023-05-13T14:20:24.333Z"
   },
   {
    "duration": 5,
    "start_time": "2023-05-13T14:20:24.683Z"
   },
   {
    "duration": 74,
    "start_time": "2023-05-13T14:20:24.689Z"
   },
   {
    "duration": 219,
    "start_time": "2023-05-13T14:20:24.765Z"
   },
   {
    "duration": 197,
    "start_time": "2023-05-13T14:20:24.985Z"
   },
   {
    "duration": 186,
    "start_time": "2023-05-13T14:20:25.184Z"
   },
   {
    "duration": 325,
    "start_time": "2023-05-13T14:20:25.372Z"
   },
   {
    "duration": 319,
    "start_time": "2023-05-13T14:20:25.711Z"
   },
   {
    "duration": 310,
    "start_time": "2023-05-13T14:20:26.032Z"
   },
   {
    "duration": 229,
    "start_time": "2023-05-13T14:20:26.345Z"
   },
   {
    "duration": 195,
    "start_time": "2023-05-13T14:20:26.576Z"
   },
   {
    "duration": 164,
    "start_time": "2023-05-13T14:20:26.773Z"
   },
   {
    "duration": 201,
    "start_time": "2023-05-13T14:20:26.939Z"
   },
   {
    "duration": 186,
    "start_time": "2023-05-13T14:20:27.141Z"
   },
   {
    "duration": 220,
    "start_time": "2023-05-13T14:20:27.328Z"
   },
   {
    "duration": 201,
    "start_time": "2023-05-13T14:20:27.550Z"
   },
   {
    "duration": 185,
    "start_time": "2023-05-13T14:20:27.752Z"
   },
   {
    "duration": 191,
    "start_time": "2023-05-13T14:20:27.939Z"
   },
   {
    "duration": 199,
    "start_time": "2023-05-13T14:20:28.132Z"
   },
   {
    "duration": 9,
    "start_time": "2023-05-13T14:20:28.333Z"
   },
   {
    "duration": 6,
    "start_time": "2023-05-13T14:20:28.344Z"
   },
   {
    "duration": 300,
    "start_time": "2023-05-13T14:20:28.351Z"
   },
   {
    "duration": 181,
    "start_time": "2023-05-13T14:20:28.653Z"
   },
   {
    "duration": 161,
    "start_time": "2023-05-13T14:20:28.836Z"
   },
   {
    "duration": 179,
    "start_time": "2023-05-13T14:20:29.004Z"
   },
   {
    "duration": 187,
    "start_time": "2023-05-13T14:20:29.185Z"
   },
   {
    "duration": 192,
    "start_time": "2023-05-13T14:20:29.374Z"
   },
   {
    "duration": 188,
    "start_time": "2023-05-13T14:20:29.568Z"
   },
   {
    "duration": 194,
    "start_time": "2023-05-13T14:20:29.758Z"
   },
   {
    "duration": 188,
    "start_time": "2023-05-13T14:20:29.954Z"
   },
   {
    "duration": 22,
    "start_time": "2023-05-13T14:20:30.144Z"
   },
   {
    "duration": 270,
    "start_time": "2023-05-13T14:20:30.167Z"
   },
   {
    "duration": 10,
    "start_time": "2023-05-13T14:20:30.439Z"
   },
   {
    "duration": 92,
    "start_time": "2023-05-13T14:20:30.450Z"
   },
   {
    "duration": 63,
    "start_time": "2023-05-13T14:20:30.544Z"
   },
   {
    "duration": 66,
    "start_time": "2023-05-13T14:20:30.609Z"
   },
   {
    "duration": 233,
    "start_time": "2023-05-13T14:20:30.677Z"
   },
   {
    "duration": 8,
    "start_time": "2023-05-13T14:34:51.147Z"
   },
   {
    "duration": 792,
    "start_time": "2023-05-13T14:35:14.320Z"
   },
   {
    "duration": 200,
    "start_time": "2023-05-13T14:35:15.118Z"
   },
   {
    "duration": 50,
    "start_time": "2023-05-13T14:35:15.324Z"
   },
   {
    "duration": 39,
    "start_time": "2023-05-13T14:35:15.377Z"
   },
   {
    "duration": 2486,
    "start_time": "2023-05-13T14:35:15.424Z"
   },
   {
    "duration": 5,
    "start_time": "2023-05-13T14:35:17.911Z"
   },
   {
    "duration": 51,
    "start_time": "2023-05-13T14:35:17.922Z"
   },
   {
    "duration": 30,
    "start_time": "2023-05-13T14:35:17.975Z"
   },
   {
    "duration": 20,
    "start_time": "2023-05-13T14:35:18.007Z"
   },
   {
    "duration": 33,
    "start_time": "2023-05-13T14:35:18.030Z"
   },
   {
    "duration": 18,
    "start_time": "2023-05-13T14:35:18.065Z"
   },
   {
    "duration": 21,
    "start_time": "2023-05-13T14:35:18.085Z"
   },
   {
    "duration": 59,
    "start_time": "2023-05-13T14:35:18.107Z"
   },
   {
    "duration": 12,
    "start_time": "2023-05-13T14:35:18.168Z"
   },
   {
    "duration": 12,
    "start_time": "2023-05-13T14:35:18.181Z"
   },
   {
    "duration": 70,
    "start_time": "2023-05-13T14:35:18.194Z"
   },
   {
    "duration": 22,
    "start_time": "2023-05-13T14:35:18.266Z"
   },
   {
    "duration": 46,
    "start_time": "2023-05-13T14:35:18.290Z"
   },
   {
    "duration": 27,
    "start_time": "2023-05-13T14:35:18.337Z"
   },
   {
    "duration": 24,
    "start_time": "2023-05-13T14:35:18.366Z"
   },
   {
    "duration": 80,
    "start_time": "2023-05-13T14:35:18.392Z"
   },
   {
    "duration": 49,
    "start_time": "2023-05-13T14:35:18.474Z"
   },
   {
    "duration": 57,
    "start_time": "2023-05-13T14:35:18.524Z"
   },
   {
    "duration": 36,
    "start_time": "2023-05-13T14:35:18.583Z"
   },
   {
    "duration": 96,
    "start_time": "2023-05-13T14:35:18.624Z"
   },
   {
    "duration": 199,
    "start_time": "2023-05-13T14:35:18.724Z"
   },
   {
    "duration": 8,
    "start_time": "2023-05-13T14:35:18.929Z"
   },
   {
    "duration": 35,
    "start_time": "2023-05-13T14:35:18.947Z"
   },
   {
    "duration": 279,
    "start_time": "2023-05-13T14:35:18.987Z"
   },
   {
    "duration": 9,
    "start_time": "2023-05-13T14:35:19.269Z"
   },
   {
    "duration": 31,
    "start_time": "2023-05-13T14:35:19.280Z"
   },
   {
    "duration": 249,
    "start_time": "2023-05-13T14:35:19.313Z"
   },
   {
    "duration": 7,
    "start_time": "2023-05-13T14:35:19.563Z"
   },
   {
    "duration": 48,
    "start_time": "2023-05-13T14:35:19.572Z"
   },
   {
    "duration": 225,
    "start_time": "2023-05-13T14:35:19.623Z"
   },
   {
    "duration": 16,
    "start_time": "2023-05-13T14:35:19.851Z"
   },
   {
    "duration": 19,
    "start_time": "2023-05-13T14:35:19.869Z"
   },
   {
    "duration": 46,
    "start_time": "2023-05-13T14:35:19.890Z"
   },
   {
    "duration": 34,
    "start_time": "2023-05-13T14:35:19.941Z"
   },
   {
    "duration": 12,
    "start_time": "2023-05-13T14:35:19.977Z"
   },
   {
    "duration": 104,
    "start_time": "2023-05-13T14:35:19.992Z"
   },
   {
    "duration": 244,
    "start_time": "2023-05-13T14:35:20.098Z"
   },
   {
    "duration": 12,
    "start_time": "2023-05-13T14:35:20.344Z"
   },
   {
    "duration": 51,
    "start_time": "2023-05-13T14:35:20.359Z"
   },
   {
    "duration": 329,
    "start_time": "2023-05-13T14:35:20.417Z"
   },
   {
    "duration": 9,
    "start_time": "2023-05-13T14:35:20.752Z"
   },
   {
    "duration": 58,
    "start_time": "2023-05-13T14:35:20.763Z"
   },
   {
    "duration": 38,
    "start_time": "2023-05-13T14:35:20.837Z"
   },
   {
    "duration": 50,
    "start_time": "2023-05-13T14:35:20.877Z"
   },
   {
    "duration": 347,
    "start_time": "2023-05-13T14:35:20.933Z"
   },
   {
    "duration": 5,
    "start_time": "2023-05-13T14:35:21.284Z"
   },
   {
    "duration": 63,
    "start_time": "2023-05-13T14:35:21.290Z"
   },
   {
    "duration": 14,
    "start_time": "2023-05-13T14:35:21.356Z"
   },
   {
    "duration": 12,
    "start_time": "2023-05-13T14:35:21.372Z"
   },
   {
    "duration": 28,
    "start_time": "2023-05-13T14:35:21.386Z"
   },
   {
    "duration": 48,
    "start_time": "2023-05-13T14:35:21.416Z"
   },
   {
    "duration": 11,
    "start_time": "2023-05-13T14:35:21.468Z"
   },
   {
    "duration": 7,
    "start_time": "2023-05-13T14:35:21.481Z"
   },
   {
    "duration": 407,
    "start_time": "2023-05-13T14:35:21.490Z"
   },
   {
    "duration": 13,
    "start_time": "2023-05-13T14:35:21.901Z"
   },
   {
    "duration": 104,
    "start_time": "2023-05-13T14:35:21.924Z"
   },
   {
    "duration": 305,
    "start_time": "2023-05-13T14:35:22.036Z"
   },
   {
    "duration": 236,
    "start_time": "2023-05-13T14:35:22.345Z"
   },
   {
    "duration": 234,
    "start_time": "2023-05-13T14:35:22.583Z"
   },
   {
    "duration": 310,
    "start_time": "2023-05-13T14:35:22.821Z"
   },
   {
    "duration": 308,
    "start_time": "2023-05-13T14:35:23.136Z"
   },
   {
    "duration": 291,
    "start_time": "2023-05-13T14:35:23.449Z"
   },
   {
    "duration": 266,
    "start_time": "2023-05-13T14:35:23.745Z"
   },
   {
    "duration": 219,
    "start_time": "2023-05-13T14:35:24.016Z"
   },
   {
    "duration": 150,
    "start_time": "2023-05-13T14:35:24.240Z"
   },
   {
    "duration": 259,
    "start_time": "2023-05-13T14:35:24.392Z"
   },
   {
    "duration": 240,
    "start_time": "2023-05-13T14:35:24.663Z"
   },
   {
    "duration": 328,
    "start_time": "2023-05-13T14:35:24.909Z"
   },
   {
    "duration": 268,
    "start_time": "2023-05-13T14:35:25.247Z"
   },
   {
    "duration": 192,
    "start_time": "2023-05-13T14:35:25.523Z"
   },
   {
    "duration": 197,
    "start_time": "2023-05-13T14:35:25.716Z"
   },
   {
    "duration": 237,
    "start_time": "2023-05-13T14:35:25.915Z"
   },
   {
    "duration": 10,
    "start_time": "2023-05-13T14:35:26.155Z"
   },
   {
    "duration": 14,
    "start_time": "2023-05-13T14:35:26.167Z"
   },
   {
    "duration": 302,
    "start_time": "2023-05-13T14:35:26.183Z"
   },
   {
    "duration": 277,
    "start_time": "2023-05-13T14:35:26.494Z"
   },
   {
    "duration": 201,
    "start_time": "2023-05-13T14:35:26.776Z"
   },
   {
    "duration": 193,
    "start_time": "2023-05-13T14:35:26.979Z"
   },
   {
    "duration": 245,
    "start_time": "2023-05-13T14:35:27.174Z"
   },
   {
    "duration": 204,
    "start_time": "2023-05-13T14:35:27.420Z"
   },
   {
    "duration": 217,
    "start_time": "2023-05-13T14:35:27.629Z"
   },
   {
    "duration": 210,
    "start_time": "2023-05-13T14:35:27.848Z"
   },
   {
    "duration": 201,
    "start_time": "2023-05-13T14:35:28.060Z"
   },
   {
    "duration": 46,
    "start_time": "2023-05-13T14:35:28.263Z"
   },
   {
    "duration": 193,
    "start_time": "2023-05-13T14:35:28.310Z"
   },
   {
    "duration": 8,
    "start_time": "2023-05-13T14:35:28.505Z"
   },
   {
    "duration": 36,
    "start_time": "2023-05-13T14:35:28.517Z"
   },
   {
    "duration": 18,
    "start_time": "2023-05-13T14:35:28.555Z"
   },
   {
    "duration": 38,
    "start_time": "2023-05-13T14:35:28.575Z"
   },
   {
    "duration": 231,
    "start_time": "2023-05-13T14:35:28.614Z"
   },
   {
    "duration": 8,
    "start_time": "2023-05-13T14:35:42.164Z"
   },
   {
    "duration": 730,
    "start_time": "2023-05-13T14:35:47.425Z"
   },
   {
    "duration": 178,
    "start_time": "2023-05-13T14:35:48.160Z"
   },
   {
    "duration": 33,
    "start_time": "2023-05-13T14:35:48.340Z"
   },
   {
    "duration": 37,
    "start_time": "2023-05-13T14:35:48.375Z"
   },
   {
    "duration": 2284,
    "start_time": "2023-05-13T14:35:48.419Z"
   },
   {
    "duration": 6,
    "start_time": "2023-05-13T14:35:50.709Z"
   },
   {
    "duration": 65,
    "start_time": "2023-05-13T14:35:50.717Z"
   },
   {
    "duration": 15,
    "start_time": "2023-05-13T14:35:50.784Z"
   },
   {
    "duration": 56,
    "start_time": "2023-05-13T14:35:50.801Z"
   },
   {
    "duration": 24,
    "start_time": "2023-05-13T14:35:50.859Z"
   },
   {
    "duration": 25,
    "start_time": "2023-05-13T14:35:50.885Z"
   },
   {
    "duration": 45,
    "start_time": "2023-05-13T14:35:50.912Z"
   },
   {
    "duration": 19,
    "start_time": "2023-05-13T14:35:50.959Z"
   },
   {
    "duration": 5,
    "start_time": "2023-05-13T14:35:50.982Z"
   },
   {
    "duration": 45,
    "start_time": "2023-05-13T14:35:50.988Z"
   },
   {
    "duration": 20,
    "start_time": "2023-05-13T14:35:51.041Z"
   },
   {
    "duration": 15,
    "start_time": "2023-05-13T14:35:51.063Z"
   },
   {
    "duration": 52,
    "start_time": "2023-05-13T14:35:51.080Z"
   },
   {
    "duration": 10,
    "start_time": "2023-05-13T14:35:51.135Z"
   },
   {
    "duration": 28,
    "start_time": "2023-05-13T14:35:51.147Z"
   },
   {
    "duration": 59,
    "start_time": "2023-05-13T14:35:51.177Z"
   },
   {
    "duration": 64,
    "start_time": "2023-05-13T14:35:51.243Z"
   },
   {
    "duration": 46,
    "start_time": "2023-05-13T14:35:51.309Z"
   },
   {
    "duration": 55,
    "start_time": "2023-05-13T14:35:51.357Z"
   },
   {
    "duration": 106,
    "start_time": "2023-05-13T14:35:51.417Z"
   },
   {
    "duration": 149,
    "start_time": "2023-05-13T14:35:51.524Z"
   },
   {
    "duration": 7,
    "start_time": "2023-05-13T14:35:51.675Z"
   },
   {
    "duration": 17,
    "start_time": "2023-05-13T14:35:51.699Z"
   },
   {
    "duration": 149,
    "start_time": "2023-05-13T14:35:51.717Z"
   },
   {
    "duration": 6,
    "start_time": "2023-05-13T14:35:51.867Z"
   },
   {
    "duration": 26,
    "start_time": "2023-05-13T14:35:51.875Z"
   },
   {
    "duration": 202,
    "start_time": "2023-05-13T14:35:51.902Z"
   },
   {
    "duration": 8,
    "start_time": "2023-05-13T14:35:52.105Z"
   },
   {
    "duration": 72,
    "start_time": "2023-05-13T14:35:52.114Z"
   },
   {
    "duration": 251,
    "start_time": "2023-05-13T14:35:52.188Z"
   },
   {
    "duration": 19,
    "start_time": "2023-05-13T14:35:52.445Z"
   },
   {
    "duration": 7,
    "start_time": "2023-05-13T14:35:52.465Z"
   },
   {
    "duration": 57,
    "start_time": "2023-05-13T14:35:52.473Z"
   },
   {
    "duration": 46,
    "start_time": "2023-05-13T14:35:52.532Z"
   },
   {
    "duration": 8,
    "start_time": "2023-05-13T14:35:52.581Z"
   },
   {
    "duration": 69,
    "start_time": "2023-05-13T14:35:52.594Z"
   },
   {
    "duration": 207,
    "start_time": "2023-05-13T14:35:52.666Z"
   },
   {
    "duration": 6,
    "start_time": "2023-05-13T14:35:52.875Z"
   },
   {
    "duration": 45,
    "start_time": "2023-05-13T14:35:52.883Z"
   },
   {
    "duration": 181,
    "start_time": "2023-05-13T14:35:52.938Z"
   },
   {
    "duration": 9,
    "start_time": "2023-05-13T14:35:53.120Z"
   },
   {
    "duration": 29,
    "start_time": "2023-05-13T14:35:53.130Z"
   },
   {
    "duration": 6,
    "start_time": "2023-05-13T14:35:53.161Z"
   },
   {
    "duration": 24,
    "start_time": "2023-05-13T14:35:53.169Z"
   },
   {
    "duration": 355,
    "start_time": "2023-05-13T14:35:53.199Z"
   },
   {
    "duration": 6,
    "start_time": "2023-05-13T14:35:53.556Z"
   },
   {
    "duration": 24,
    "start_time": "2023-05-13T14:35:53.563Z"
   },
   {
    "duration": 8,
    "start_time": "2023-05-13T14:35:53.588Z"
   },
   {
    "duration": 44,
    "start_time": "2023-05-13T14:35:53.602Z"
   },
   {
    "duration": 33,
    "start_time": "2023-05-13T14:35:53.648Z"
   },
   {
    "duration": 9,
    "start_time": "2023-05-13T14:35:53.683Z"
   },
   {
    "duration": 5,
    "start_time": "2023-05-13T14:35:53.695Z"
   },
   {
    "duration": 52,
    "start_time": "2023-05-13T14:35:53.702Z"
   },
   {
    "duration": 409,
    "start_time": "2023-05-13T14:35:53.756Z"
   },
   {
    "duration": 7,
    "start_time": "2023-05-13T14:35:54.175Z"
   },
   {
    "duration": 120,
    "start_time": "2023-05-13T14:35:54.185Z"
   },
   {
    "duration": 272,
    "start_time": "2023-05-13T14:35:54.313Z"
   },
   {
    "duration": 265,
    "start_time": "2023-05-13T14:35:54.587Z"
   },
   {
    "duration": 268,
    "start_time": "2023-05-13T14:35:54.854Z"
   },
   {
    "duration": 352,
    "start_time": "2023-05-13T14:35:55.123Z"
   },
   {
    "duration": 294,
    "start_time": "2023-05-13T14:35:55.477Z"
   },
   {
    "duration": 337,
    "start_time": "2023-05-13T14:35:55.773Z"
   },
   {
    "duration": 277,
    "start_time": "2023-05-13T14:35:56.111Z"
   },
   {
    "duration": 280,
    "start_time": "2023-05-13T14:35:56.390Z"
   },
   {
    "duration": 184,
    "start_time": "2023-05-13T14:35:56.672Z"
   },
   {
    "duration": 209,
    "start_time": "2023-05-13T14:35:56.858Z"
   },
   {
    "duration": 200,
    "start_time": "2023-05-13T14:35:57.069Z"
   },
   {
    "duration": 268,
    "start_time": "2023-05-13T14:35:57.270Z"
   },
   {
    "duration": 219,
    "start_time": "2023-05-13T14:35:57.547Z"
   },
   {
    "duration": 238,
    "start_time": "2023-05-13T14:35:57.768Z"
   },
   {
    "duration": 239,
    "start_time": "2023-05-13T14:35:58.008Z"
   },
   {
    "duration": 271,
    "start_time": "2023-05-13T14:35:58.249Z"
   },
   {
    "duration": 14,
    "start_time": "2023-05-13T14:35:58.521Z"
   },
   {
    "duration": 18,
    "start_time": "2023-05-13T14:35:58.537Z"
   },
   {
    "duration": 301,
    "start_time": "2023-05-13T14:35:58.556Z"
   },
   {
    "duration": 207,
    "start_time": "2023-05-13T14:35:58.860Z"
   },
   {
    "duration": 193,
    "start_time": "2023-05-13T14:35:59.069Z"
   },
   {
    "duration": 194,
    "start_time": "2023-05-13T14:35:59.264Z"
   },
   {
    "duration": 195,
    "start_time": "2023-05-13T14:35:59.460Z"
   },
   {
    "duration": 246,
    "start_time": "2023-05-13T14:35:59.657Z"
   },
   {
    "duration": 258,
    "start_time": "2023-05-13T14:35:59.911Z"
   },
   {
    "duration": 193,
    "start_time": "2023-05-13T14:36:00.171Z"
   },
   {
    "duration": 196,
    "start_time": "2023-05-13T14:36:00.366Z"
   },
   {
    "duration": 34,
    "start_time": "2023-05-13T14:36:00.564Z"
   },
   {
    "duration": 250,
    "start_time": "2023-05-13T14:36:00.604Z"
   },
   {
    "duration": 10,
    "start_time": "2023-05-13T14:36:00.856Z"
   },
   {
    "duration": 69,
    "start_time": "2023-05-13T14:36:00.869Z"
   },
   {
    "duration": 56,
    "start_time": "2023-05-13T14:36:00.940Z"
   },
   {
    "duration": 93,
    "start_time": "2023-05-13T14:36:00.998Z"
   },
   {
    "duration": 294,
    "start_time": "2023-05-13T14:36:01.098Z"
   },
   {
    "duration": 36,
    "start_time": "2023-05-13T14:38:42.052Z"
   },
   {
    "duration": 451,
    "start_time": "2023-05-13T14:40:43.423Z"
   },
   {
    "duration": 375,
    "start_time": "2023-05-13T14:40:49.487Z"
   },
   {
    "duration": 453,
    "start_time": "2023-05-13T14:41:07.688Z"
   },
   {
    "duration": 208,
    "start_time": "2023-05-13T14:49:25.059Z"
   },
   {
    "duration": 739,
    "start_time": "2023-05-13T14:56:38.490Z"
   },
   {
    "duration": 197,
    "start_time": "2023-05-13T14:56:39.235Z"
   },
   {
    "duration": 36,
    "start_time": "2023-05-13T14:56:39.437Z"
   },
   {
    "duration": 35,
    "start_time": "2023-05-13T14:56:39.475Z"
   },
   {
    "duration": 2463,
    "start_time": "2023-05-13T14:56:39.513Z"
   },
   {
    "duration": 6,
    "start_time": "2023-05-13T14:56:41.977Z"
   },
   {
    "duration": 63,
    "start_time": "2023-05-13T14:56:41.985Z"
   },
   {
    "duration": 14,
    "start_time": "2023-05-13T14:56:42.051Z"
   },
   {
    "duration": 34,
    "start_time": "2023-05-13T14:56:42.066Z"
   },
   {
    "duration": 67,
    "start_time": "2023-05-13T14:56:42.103Z"
   },
   {
    "duration": 36,
    "start_time": "2023-05-13T14:56:42.171Z"
   },
   {
    "duration": 48,
    "start_time": "2023-05-13T14:56:42.211Z"
   },
   {
    "duration": 18,
    "start_time": "2023-05-13T14:56:42.260Z"
   },
   {
    "duration": 3,
    "start_time": "2023-05-13T14:56:42.280Z"
   },
   {
    "duration": 59,
    "start_time": "2023-05-13T14:56:42.284Z"
   },
   {
    "duration": 34,
    "start_time": "2023-05-13T14:56:42.345Z"
   },
   {
    "duration": 7,
    "start_time": "2023-05-13T14:56:42.381Z"
   },
   {
    "duration": 55,
    "start_time": "2023-05-13T14:56:42.390Z"
   },
   {
    "duration": 15,
    "start_time": "2023-05-13T14:56:42.447Z"
   },
   {
    "duration": 41,
    "start_time": "2023-05-13T14:56:42.465Z"
   },
   {
    "duration": 49,
    "start_time": "2023-05-13T14:56:42.516Z"
   },
   {
    "duration": 44,
    "start_time": "2023-05-13T14:56:42.567Z"
   },
   {
    "duration": 44,
    "start_time": "2023-05-13T14:56:42.617Z"
   },
   {
    "duration": 55,
    "start_time": "2023-05-13T14:56:42.663Z"
   },
   {
    "duration": 107,
    "start_time": "2023-05-13T14:56:42.720Z"
   },
   {
    "duration": 183,
    "start_time": "2023-05-13T14:56:42.835Z"
   },
   {
    "duration": 10,
    "start_time": "2023-05-13T14:56:43.021Z"
   },
   {
    "duration": 54,
    "start_time": "2023-05-13T14:56:43.037Z"
   },
   {
    "duration": 210,
    "start_time": "2023-05-13T14:56:43.093Z"
   },
   {
    "duration": 14,
    "start_time": "2023-05-13T14:56:43.307Z"
   },
   {
    "duration": 54,
    "start_time": "2023-05-13T14:56:43.322Z"
   },
   {
    "duration": 177,
    "start_time": "2023-05-13T14:56:43.378Z"
   },
   {
    "duration": 7,
    "start_time": "2023-05-13T14:56:43.556Z"
   },
   {
    "duration": 28,
    "start_time": "2023-05-13T14:56:43.565Z"
   },
   {
    "duration": 194,
    "start_time": "2023-05-13T14:56:43.595Z"
   },
   {
    "duration": 22,
    "start_time": "2023-05-13T14:56:43.791Z"
   },
   {
    "duration": 41,
    "start_time": "2023-05-13T14:56:43.814Z"
   },
   {
    "duration": 37,
    "start_time": "2023-05-13T14:56:43.857Z"
   },
   {
    "duration": 54,
    "start_time": "2023-05-13T14:56:43.896Z"
   },
   {
    "duration": 20,
    "start_time": "2023-05-13T14:56:43.951Z"
   },
   {
    "duration": 71,
    "start_time": "2023-05-13T14:56:43.973Z"
   },
   {
    "duration": 216,
    "start_time": "2023-05-13T14:56:44.046Z"
   },
   {
    "duration": 7,
    "start_time": "2023-05-13T14:56:44.264Z"
   },
   {
    "duration": 58,
    "start_time": "2023-05-13T14:56:44.272Z"
   },
   {
    "duration": 154,
    "start_time": "2023-05-13T14:56:44.333Z"
   },
   {
    "duration": 10,
    "start_time": "2023-05-13T14:56:44.489Z"
   },
   {
    "duration": 76,
    "start_time": "2023-05-13T14:56:44.501Z"
   },
   {
    "duration": 13,
    "start_time": "2023-05-13T14:56:44.579Z"
   },
   {
    "duration": 85,
    "start_time": "2023-05-13T14:56:44.593Z"
   },
   {
    "duration": 367,
    "start_time": "2023-05-13T14:56:44.686Z"
   },
   {
    "duration": 7,
    "start_time": "2023-05-13T14:56:45.055Z"
   },
   {
    "duration": 34,
    "start_time": "2023-05-13T14:56:45.063Z"
   },
   {
    "duration": 50,
    "start_time": "2023-05-13T14:56:45.099Z"
   },
   {
    "duration": 52,
    "start_time": "2023-05-13T14:56:45.151Z"
   },
   {
    "duration": 60,
    "start_time": "2023-05-13T14:56:45.207Z"
   },
   {
    "duration": 14,
    "start_time": "2023-05-13T14:56:45.269Z"
   },
   {
    "duration": 72,
    "start_time": "2023-05-13T14:56:45.285Z"
   },
   {
    "duration": 26,
    "start_time": "2023-05-13T14:56:45.359Z"
   },
   {
    "duration": 331,
    "start_time": "2023-05-13T14:56:45.388Z"
   },
   {
    "duration": 5,
    "start_time": "2023-05-13T14:56:45.721Z"
   },
   {
    "duration": 69,
    "start_time": "2023-05-13T14:56:45.727Z"
   },
   {
    "duration": 206,
    "start_time": "2023-05-13T14:56:45.802Z"
   },
   {
    "duration": 393,
    "start_time": "2023-05-13T14:56:46.009Z"
   },
   {
    "duration": 208,
    "start_time": "2023-05-13T14:56:46.405Z"
   },
   {
    "duration": 262,
    "start_time": "2023-05-13T14:56:46.617Z"
   },
   {
    "duration": 397,
    "start_time": "2023-05-13T14:56:46.881Z"
   },
   {
    "duration": 295,
    "start_time": "2023-05-13T14:56:47.280Z"
   },
   {
    "duration": 232,
    "start_time": "2023-05-13T14:56:47.576Z"
   },
   {
    "duration": 214,
    "start_time": "2023-05-13T14:56:47.813Z"
   },
   {
    "duration": 223,
    "start_time": "2023-05-13T14:56:48.032Z"
   },
   {
    "duration": 160,
    "start_time": "2023-05-13T14:56:48.256Z"
   },
   {
    "duration": 213,
    "start_time": "2023-05-13T14:56:48.428Z"
   },
   {
    "duration": 199,
    "start_time": "2023-05-13T14:56:48.643Z"
   },
   {
    "duration": 237,
    "start_time": "2023-05-13T14:56:48.844Z"
   },
   {
    "duration": 244,
    "start_time": "2023-05-13T14:56:49.083Z"
   },
   {
    "duration": 317,
    "start_time": "2023-05-13T14:56:49.335Z"
   },
   {
    "duration": 236,
    "start_time": "2023-05-13T14:56:49.660Z"
   },
   {
    "duration": 224,
    "start_time": "2023-05-13T14:56:49.902Z"
   },
   {
    "duration": 11,
    "start_time": "2023-05-13T14:56:50.128Z"
   },
   {
    "duration": 6,
    "start_time": "2023-05-13T14:56:50.140Z"
   },
   {
    "duration": 198,
    "start_time": "2023-05-13T14:56:50.147Z"
   },
   {
    "duration": 186,
    "start_time": "2023-05-13T14:56:50.350Z"
   },
   {
    "duration": 201,
    "start_time": "2023-05-13T14:56:50.538Z"
   },
   {
    "duration": 193,
    "start_time": "2023-05-13T14:56:50.741Z"
   },
   {
    "duration": 199,
    "start_time": "2023-05-13T14:56:50.936Z"
   },
   {
    "duration": 170,
    "start_time": "2023-05-13T14:56:51.136Z"
   },
   {
    "duration": 141,
    "start_time": "2023-05-13T14:56:51.315Z"
   },
   {
    "duration": 196,
    "start_time": "2023-05-13T14:56:51.457Z"
   },
   {
    "duration": 288,
    "start_time": "2023-05-13T14:56:51.654Z"
   },
   {
    "duration": 197,
    "start_time": "2023-05-13T14:56:51.944Z"
   },
   {
    "duration": 28,
    "start_time": "2023-05-13T14:56:52.143Z"
   },
   {
    "duration": 259,
    "start_time": "2023-05-13T14:56:52.173Z"
   },
   {
    "duration": 13,
    "start_time": "2023-05-13T14:56:52.435Z"
   },
   {
    "duration": 30,
    "start_time": "2023-05-13T14:56:52.450Z"
   },
   {
    "duration": 31,
    "start_time": "2023-05-13T14:56:52.481Z"
   },
   {
    "duration": 56,
    "start_time": "2023-05-13T14:56:52.518Z"
   },
   {
    "duration": 192,
    "start_time": "2023-05-13T14:56:52.575Z"
   },
   {
    "duration": 1064,
    "start_time": "2023-06-04T06:20:57.708Z"
   },
   {
    "duration": 105,
    "start_time": "2023-06-04T06:20:58.774Z"
   },
   {
    "duration": 12,
    "start_time": "2023-06-04T06:20:58.880Z"
   },
   {
    "duration": 19,
    "start_time": "2023-06-04T06:20:58.894Z"
   },
   {
    "duration": 18,
    "start_time": "2023-06-04T06:20:58.915Z"
   },
   {
    "duration": 24,
    "start_time": "2023-06-04T06:20:58.934Z"
   },
   {
    "duration": 34,
    "start_time": "2023-06-04T06:20:58.959Z"
   },
   {
    "duration": 27,
    "start_time": "2023-06-04T06:20:58.995Z"
   },
   {
    "duration": 20,
    "start_time": "2023-06-04T06:20:59.024Z"
   },
   {
    "duration": 11,
    "start_time": "2023-06-04T06:20:59.047Z"
   },
   {
    "duration": 5,
    "start_time": "2023-06-04T06:20:59.060Z"
   },
   {
    "duration": 9,
    "start_time": "2023-06-04T06:20:59.067Z"
   },
   {
    "duration": 16,
    "start_time": "2023-06-04T06:20:59.078Z"
   },
   {
    "duration": 19,
    "start_time": "2023-06-04T06:20:59.095Z"
   },
   {
    "duration": 5,
    "start_time": "2023-06-04T06:20:59.115Z"
   },
   {
    "duration": 10,
    "start_time": "2023-06-04T06:20:59.122Z"
   },
   {
    "duration": 7,
    "start_time": "2023-06-04T06:20:59.133Z"
   },
   {
    "duration": 7,
    "start_time": "2023-06-04T06:20:59.141Z"
   },
   {
    "duration": 7,
    "start_time": "2023-06-04T06:20:59.149Z"
   },
   {
    "duration": 169,
    "start_time": "2023-06-04T06:20:59.158Z"
   },
   {
    "duration": 144,
    "start_time": "2023-06-04T06:20:59.328Z"
   },
   {
    "duration": 184,
    "start_time": "2023-06-04T06:20:59.477Z"
   },
   {
    "duration": 210,
    "start_time": "2023-06-04T06:20:59.662Z"
   },
   {
    "duration": 200,
    "start_time": "2023-06-04T06:20:59.876Z"
   },
   {
    "duration": 28,
    "start_time": "2023-06-04T06:21:00.078Z"
   },
   {
    "duration": 32,
    "start_time": "2023-06-04T06:21:00.108Z"
   },
   {
    "duration": 35,
    "start_time": "2023-06-04T06:21:00.141Z"
   },
   {
    "duration": 203,
    "start_time": "2023-06-04T06:21:00.179Z"
   },
   {
    "duration": 205,
    "start_time": "2023-06-04T06:21:00.383Z"
   },
   {
    "duration": 843,
    "start_time": "2023-06-04T06:21:00.590Z"
   },
   {
    "duration": 146,
    "start_time": "2023-06-04T06:21:01.434Z"
   },
   {
    "duration": 17,
    "start_time": "2023-06-04T06:21:01.582Z"
   },
   {
    "duration": 41,
    "start_time": "2023-06-04T06:21:01.601Z"
   },
   {
    "duration": 49,
    "start_time": "2023-06-04T06:21:01.644Z"
   },
   {
    "duration": 33,
    "start_time": "2023-06-04T06:21:01.695Z"
   },
   {
    "duration": 52,
    "start_time": "2023-06-04T06:21:01.730Z"
   },
   {
    "duration": 214,
    "start_time": "2023-06-04T06:27:31.192Z"
   },
   {
    "duration": 279,
    "start_time": "2023-06-04T06:27:37.024Z"
   },
   {
    "duration": 6,
    "start_time": "2023-06-04T06:28:55.820Z"
   },
   {
    "duration": 209,
    "start_time": "2023-06-04T06:31:44.521Z"
   },
   {
    "duration": 192,
    "start_time": "2023-06-04T06:31:54.145Z"
   },
   {
    "duration": 7,
    "start_time": "2023-06-04T06:34:33.554Z"
   },
   {
    "duration": 1048,
    "start_time": "2023-06-04T06:44:32.136Z"
   },
   {
    "duration": 103,
    "start_time": "2023-06-04T06:44:33.185Z"
   },
   {
    "duration": 13,
    "start_time": "2023-06-04T06:44:33.289Z"
   },
   {
    "duration": 11,
    "start_time": "2023-06-04T06:44:33.303Z"
   },
   {
    "duration": 12,
    "start_time": "2023-06-04T06:44:33.316Z"
   },
   {
    "duration": 11,
    "start_time": "2023-06-04T06:44:33.329Z"
   },
   {
    "duration": 6,
    "start_time": "2023-06-04T06:44:33.341Z"
   },
   {
    "duration": 10,
    "start_time": "2023-06-04T06:44:33.349Z"
   },
   {
    "duration": 27,
    "start_time": "2023-06-04T06:44:33.361Z"
   },
   {
    "duration": 11,
    "start_time": "2023-06-04T06:44:33.389Z"
   },
   {
    "duration": 6,
    "start_time": "2023-06-04T06:44:33.401Z"
   },
   {
    "duration": 8,
    "start_time": "2023-06-04T06:44:33.408Z"
   },
   {
    "duration": 7,
    "start_time": "2023-06-04T06:44:33.417Z"
   },
   {
    "duration": 13,
    "start_time": "2023-06-04T06:44:33.426Z"
   },
   {
    "duration": 41,
    "start_time": "2023-06-04T06:44:33.440Z"
   },
   {
    "duration": 7,
    "start_time": "2023-06-04T06:44:33.482Z"
   },
   {
    "duration": 7,
    "start_time": "2023-06-04T06:44:33.491Z"
   },
   {
    "duration": 5,
    "start_time": "2023-06-04T06:44:33.500Z"
   },
   {
    "duration": 8,
    "start_time": "2023-06-04T06:44:33.506Z"
   },
   {
    "duration": 182,
    "start_time": "2023-06-04T06:44:33.515Z"
   },
   {
    "duration": 135,
    "start_time": "2023-06-04T06:44:33.698Z"
   },
   {
    "duration": 192,
    "start_time": "2023-06-04T06:44:33.834Z"
   },
   {
    "duration": 210,
    "start_time": "2023-06-04T06:44:34.028Z"
   },
   {
    "duration": 202,
    "start_time": "2023-06-04T06:44:34.239Z"
   },
   {
    "duration": 36,
    "start_time": "2023-06-04T06:44:34.443Z"
   },
   {
    "duration": 21,
    "start_time": "2023-06-04T06:44:34.480Z"
   },
   {
    "duration": 18,
    "start_time": "2023-06-04T06:44:34.502Z"
   },
   {
    "duration": 203,
    "start_time": "2023-06-04T06:44:34.521Z"
   },
   {
    "duration": 199,
    "start_time": "2023-06-04T06:44:34.726Z"
   },
   {
    "duration": 796,
    "start_time": "2023-06-04T06:44:34.926Z"
   },
   {
    "duration": 137,
    "start_time": "2023-06-04T06:44:35.724Z"
   },
   {
    "duration": 21,
    "start_time": "2023-06-04T06:44:35.862Z"
   },
   {
    "duration": 6,
    "start_time": "2023-06-04T06:44:35.884Z"
   },
   {
    "duration": 8,
    "start_time": "2023-06-04T06:44:35.892Z"
   },
   {
    "duration": 9,
    "start_time": "2023-06-04T06:44:35.902Z"
   },
   {
    "duration": 14,
    "start_time": "2023-06-04T06:44:35.912Z"
   },
   {
    "duration": 45,
    "start_time": "2023-06-04T07:07:08.127Z"
   },
   {
    "duration": 1487,
    "start_time": "2023-06-04T07:07:17.304Z"
   },
   {
    "duration": 471,
    "start_time": "2023-06-04T07:07:18.795Z"
   },
   {
    "duration": 16,
    "start_time": "2023-06-04T07:07:19.268Z"
   },
   {
    "duration": 25,
    "start_time": "2023-06-04T07:07:19.286Z"
   },
   {
    "duration": 22,
    "start_time": "2023-06-04T07:07:19.313Z"
   },
   {
    "duration": 11,
    "start_time": "2023-06-04T07:07:19.337Z"
   },
   {
    "duration": 8,
    "start_time": "2023-06-04T07:07:19.526Z"
   },
   {
    "duration": 9,
    "start_time": "2023-06-04T07:07:19.754Z"
   },
   {
    "duration": 15,
    "start_time": "2023-06-04T07:07:21.143Z"
   },
   {
    "duration": 41,
    "start_time": "2023-06-04T07:07:21.594Z"
   },
   {
    "duration": 91,
    "start_time": "2023-06-04T07:12:09.575Z"
   },
   {
    "duration": 1393,
    "start_time": "2023-06-04T07:12:29.571Z"
   },
   {
    "duration": 197,
    "start_time": "2023-06-04T07:12:30.966Z"
   },
   {
    "duration": 29,
    "start_time": "2023-06-04T07:12:31.164Z"
   },
   {
    "duration": 30,
    "start_time": "2023-06-04T07:12:31.195Z"
   },
   {
    "duration": 10,
    "start_time": "2023-06-04T07:12:31.227Z"
   },
   {
    "duration": 14,
    "start_time": "2023-06-04T07:12:31.239Z"
   },
   {
    "duration": 18,
    "start_time": "2023-06-04T07:12:31.255Z"
   },
   {
    "duration": 20,
    "start_time": "2023-06-04T07:12:31.280Z"
   },
   {
    "duration": 36,
    "start_time": "2023-06-04T07:12:31.305Z"
   },
   {
    "duration": 26,
    "start_time": "2023-06-04T07:12:31.344Z"
   },
   {
    "duration": 49,
    "start_time": "2023-06-04T07:12:31.371Z"
   },
   {
    "duration": 11,
    "start_time": "2023-06-04T07:12:31.422Z"
   },
   {
    "duration": 11,
    "start_time": "2023-06-04T07:12:31.435Z"
   },
   {
    "duration": 20,
    "start_time": "2023-06-04T07:12:31.447Z"
   },
   {
    "duration": 7,
    "start_time": "2023-06-04T07:12:31.468Z"
   },
   {
    "duration": 14,
    "start_time": "2023-06-04T07:12:31.479Z"
   },
   {
    "duration": 38,
    "start_time": "2023-06-04T07:12:31.494Z"
   },
   {
    "duration": 6,
    "start_time": "2023-06-04T07:12:31.534Z"
   },
   {
    "duration": 11,
    "start_time": "2023-06-04T07:12:31.542Z"
   },
   {
    "duration": 212,
    "start_time": "2023-06-04T07:12:31.555Z"
   },
   {
    "duration": 187,
    "start_time": "2023-06-04T07:12:31.769Z"
   },
   {
    "duration": 293,
    "start_time": "2023-06-04T07:12:31.959Z"
   },
   {
    "duration": 305,
    "start_time": "2023-06-04T07:12:32.254Z"
   },
   {
    "duration": 256,
    "start_time": "2023-06-04T07:12:32.561Z"
   },
   {
    "duration": 35,
    "start_time": "2023-06-04T07:12:32.818Z"
   },
   {
    "duration": 38,
    "start_time": "2023-06-04T07:12:32.855Z"
   },
   {
    "duration": 28,
    "start_time": "2023-06-04T07:12:32.894Z"
   },
   {
    "duration": 254,
    "start_time": "2023-06-04T07:12:32.925Z"
   },
   {
    "duration": 198,
    "start_time": "2023-06-04T07:12:33.184Z"
   },
   {
    "duration": 1009,
    "start_time": "2023-06-04T07:12:33.388Z"
   },
   {
    "duration": 167,
    "start_time": "2023-06-04T07:12:34.399Z"
   },
   {
    "duration": 39,
    "start_time": "2023-06-04T07:12:34.569Z"
   },
   {
    "duration": 9,
    "start_time": "2023-06-04T07:12:34.610Z"
   },
   {
    "duration": 37,
    "start_time": "2023-06-04T07:12:34.621Z"
   },
   {
    "duration": 25,
    "start_time": "2023-06-04T07:12:34.660Z"
   },
   {
    "duration": 10,
    "start_time": "2023-06-04T07:12:34.687Z"
   },
   {
    "duration": 118,
    "start_time": "2023-06-04T07:13:10.931Z"
   },
   {
    "duration": 18,
    "start_time": "2023-06-04T07:13:44.825Z"
   },
   {
    "duration": 209,
    "start_time": "2023-06-04T07:14:54.423Z"
   },
   {
    "duration": 315,
    "start_time": "2023-06-04T07:15:16.329Z"
   },
   {
    "duration": 220,
    "start_time": "2023-06-04T07:15:37.552Z"
   },
   {
    "duration": 20,
    "start_time": "2023-06-04T07:19:52.889Z"
   },
   {
    "duration": 146,
    "start_time": "2023-06-04T07:23:05.401Z"
   },
   {
    "duration": 17,
    "start_time": "2023-06-04T07:23:14.509Z"
   },
   {
    "duration": 14,
    "start_time": "2023-06-04T07:23:23.518Z"
   },
   {
    "duration": 154,
    "start_time": "2023-06-04T07:25:37.693Z"
   },
   {
    "duration": 203,
    "start_time": "2023-06-04T07:27:07.102Z"
   },
   {
    "duration": 159,
    "start_time": "2023-06-04T07:27:30.202Z"
   },
   {
    "duration": 138,
    "start_time": "2023-06-04T07:29:00.035Z"
   },
   {
    "duration": 102,
    "start_time": "2023-06-04T07:30:20.256Z"
   },
   {
    "duration": 107,
    "start_time": "2023-06-04T07:30:32.325Z"
   },
   {
    "duration": 113,
    "start_time": "2023-06-04T07:31:32.350Z"
   },
   {
    "duration": 147,
    "start_time": "2023-06-04T07:31:54.825Z"
   },
   {
    "duration": 180,
    "start_time": "2023-06-04T07:32:12.168Z"
   },
   {
    "duration": 100,
    "start_time": "2023-06-04T07:33:29.750Z"
   },
   {
    "duration": 135,
    "start_time": "2023-06-04T07:33:46.104Z"
   },
   {
    "duration": 157,
    "start_time": "2023-06-04T07:33:54.497Z"
   },
   {
    "duration": 161,
    "start_time": "2023-06-04T07:34:41.469Z"
   },
   {
    "duration": 120,
    "start_time": "2023-06-04T07:35:16.808Z"
   },
   {
    "duration": 132,
    "start_time": "2023-06-04T07:35:35.306Z"
   },
   {
    "duration": 124,
    "start_time": "2023-06-04T07:35:43.114Z"
   },
   {
    "duration": 136,
    "start_time": "2023-06-04T07:36:54.146Z"
   },
   {
    "duration": 128,
    "start_time": "2023-06-04T07:37:36.152Z"
   },
   {
    "duration": 108,
    "start_time": "2023-06-04T07:38:16.154Z"
   },
   {
    "duration": 294,
    "start_time": "2023-06-04T07:38:27.935Z"
   },
   {
    "duration": 131,
    "start_time": "2023-06-04T07:38:44.700Z"
   },
   {
    "duration": 129,
    "start_time": "2023-06-04T07:40:26.333Z"
   },
   {
    "duration": 138,
    "start_time": "2023-06-04T07:40:38.262Z"
   },
   {
    "duration": 178,
    "start_time": "2023-06-04T07:41:00.770Z"
   },
   {
    "duration": 126,
    "start_time": "2023-06-04T07:41:07.345Z"
   },
   {
    "duration": 117,
    "start_time": "2023-06-04T07:41:18.547Z"
   },
   {
    "duration": 134,
    "start_time": "2023-06-04T07:41:26.243Z"
   },
   {
    "duration": 8,
    "start_time": "2023-06-04T07:43:07.934Z"
   },
   {
    "duration": 8,
    "start_time": "2023-06-04T07:44:57.048Z"
   },
   {
    "duration": 191,
    "start_time": "2023-06-04T07:48:56.364Z"
   },
   {
    "duration": 228,
    "start_time": "2023-06-04T07:49:20.539Z"
   },
   {
    "duration": 245,
    "start_time": "2023-06-04T07:49:34.324Z"
   },
   {
    "duration": 228,
    "start_time": "2023-06-04T07:49:42.541Z"
   },
   {
    "duration": 232,
    "start_time": "2023-06-04T07:49:48.737Z"
   },
   {
    "duration": 426,
    "start_time": "2023-06-04T07:50:10.172Z"
   },
   {
    "duration": 298,
    "start_time": "2023-06-04T07:50:19.919Z"
   },
   {
    "duration": 281,
    "start_time": "2023-06-04T07:50:47.048Z"
   },
   {
    "duration": 201,
    "start_time": "2023-06-04T07:51:09.278Z"
   },
   {
    "duration": 4,
    "start_time": "2023-06-04T07:59:24.147Z"
   },
   {
    "duration": 17,
    "start_time": "2023-06-04T07:59:59.021Z"
   },
   {
    "duration": 4,
    "start_time": "2023-06-04T08:00:01.261Z"
   },
   {
    "duration": 5,
    "start_time": "2023-06-04T08:01:24.981Z"
   },
   {
    "duration": 16,
    "start_time": "2023-06-04T08:02:10.302Z"
   },
   {
    "duration": 285,
    "start_time": "2023-06-04T08:03:25.643Z"
   },
   {
    "duration": 322,
    "start_time": "2023-06-04T08:03:38.749Z"
   },
   {
    "duration": 1023,
    "start_time": "2023-06-04T08:04:41.420Z"
   },
   {
    "duration": 15,
    "start_time": "2023-06-04T08:18:15.071Z"
   },
   {
    "duration": 34,
    "start_time": "2023-06-04T08:24:17.610Z"
   },
   {
    "duration": 11,
    "start_time": "2023-06-04T08:24:55.226Z"
   },
   {
    "duration": 39,
    "start_time": "2023-06-04T08:25:12.074Z"
   },
   {
    "duration": 2133,
    "start_time": "2023-06-04T08:26:09.934Z"
   },
   {
    "duration": 23,
    "start_time": "2023-06-04T08:26:14.041Z"
   },
   {
    "duration": 6,
    "start_time": "2023-06-04T08:38:58.426Z"
   },
   {
    "duration": 10,
    "start_time": "2023-06-04T08:39:45.646Z"
   },
   {
    "duration": 13,
    "start_time": "2023-06-04T08:39:54.423Z"
   },
   {
    "duration": 7,
    "start_time": "2023-06-04T08:40:08.622Z"
   },
   {
    "duration": 11,
    "start_time": "2023-06-04T08:41:20.790Z"
   },
   {
    "duration": 5,
    "start_time": "2023-06-04T08:42:12.541Z"
   },
   {
    "duration": 10,
    "start_time": "2023-06-04T08:42:23.818Z"
   },
   {
    "duration": 5,
    "start_time": "2023-06-04T08:42:37.747Z"
   },
   {
    "duration": 5,
    "start_time": "2023-06-04T08:48:19.427Z"
   },
   {
    "duration": 7,
    "start_time": "2023-06-04T08:48:30.428Z"
   },
   {
    "duration": 20,
    "start_time": "2023-06-04T08:49:00.201Z"
   },
   {
    "duration": 55795,
    "start_time": "2023-06-04T08:49:59.334Z"
   },
   {
    "duration": 218,
    "start_time": "2023-06-04T08:51:10.022Z"
   },
   {
    "duration": 57,
    "start_time": "2023-06-04T08:56:02.164Z"
   },
   {
    "duration": 31,
    "start_time": "2023-06-04T08:56:16.104Z"
   },
   {
    "duration": 29,
    "start_time": "2023-06-04T08:56:21.104Z"
   },
   {
    "duration": 155,
    "start_time": "2023-06-04T09:09:10.596Z"
   },
   {
    "duration": 1155,
    "start_time": "2023-06-04T09:18:26.031Z"
   },
   {
    "duration": 1073,
    "start_time": "2023-06-04T09:20:15.808Z"
   },
   {
    "duration": 1142,
    "start_time": "2023-06-04T09:23:20.032Z"
   },
   {
    "duration": 1111,
    "start_time": "2023-06-04T09:23:29.535Z"
   },
   {
    "duration": 988,
    "start_time": "2023-06-04T09:25:49.800Z"
   },
   {
    "duration": 948,
    "start_time": "2023-06-04T09:28:23.099Z"
   },
   {
    "duration": 982,
    "start_time": "2023-06-04T09:29:20.422Z"
   },
   {
    "duration": 1002,
    "start_time": "2023-06-04T09:30:47.446Z"
   },
   {
    "duration": 15,
    "start_time": "2023-06-04T09:31:01.101Z"
   },
   {
    "duration": 7,
    "start_time": "2023-06-04T09:31:02.641Z"
   },
   {
    "duration": 31,
    "start_time": "2023-06-04T09:31:23.170Z"
   },
   {
    "duration": 9,
    "start_time": "2023-06-04T09:32:07.925Z"
   },
   {
    "duration": 16,
    "start_time": "2023-06-04T09:32:36.513Z"
   },
   {
    "duration": 116,
    "start_time": "2023-06-04T09:32:53.701Z"
   },
   {
    "duration": 9,
    "start_time": "2023-06-04T09:33:05.422Z"
   },
   {
    "duration": 12,
    "start_time": "2023-06-04T09:33:23.125Z"
   },
   {
    "duration": 22,
    "start_time": "2023-06-04T09:33:39.201Z"
   },
   {
    "duration": 79,
    "start_time": "2023-06-04T09:33:57.426Z"
   },
   {
    "duration": 196,
    "start_time": "2023-06-04T09:34:35.618Z"
   },
   {
    "duration": 19,
    "start_time": "2023-06-04T09:34:39.405Z"
   },
   {
    "duration": 1059,
    "start_time": "2023-06-04T09:36:32.511Z"
   },
   {
    "duration": 15,
    "start_time": "2023-06-04T09:37:03.547Z"
   },
   {
    "duration": 19,
    "start_time": "2023-06-04T09:37:19.951Z"
   },
   {
    "duration": 20,
    "start_time": "2023-06-04T09:38:02.527Z"
   },
   {
    "duration": 21,
    "start_time": "2023-06-04T09:38:18.035Z"
   },
   {
    "duration": 5,
    "start_time": "2023-06-04T09:42:28.927Z"
   },
   {
    "duration": 11,
    "start_time": "2023-06-04T09:44:31.326Z"
   },
   {
    "duration": 23,
    "start_time": "2023-06-04T09:44:49.304Z"
   },
   {
    "duration": 1339,
    "start_time": "2023-06-04T09:46:35.308Z"
   },
   {
    "duration": 494,
    "start_time": "2023-06-04T09:46:36.649Z"
   },
   {
    "duration": 12,
    "start_time": "2023-06-04T09:46:37.145Z"
   },
   {
    "duration": 10,
    "start_time": "2023-06-04T09:46:37.158Z"
   },
   {
    "duration": 30,
    "start_time": "2023-06-04T09:46:37.170Z"
   },
   {
    "duration": 23,
    "start_time": "2023-06-04T09:46:37.202Z"
   },
   {
    "duration": 9,
    "start_time": "2023-06-04T09:46:37.227Z"
   },
   {
    "duration": 11,
    "start_time": "2023-06-04T09:46:37.238Z"
   },
   {
    "duration": 16,
    "start_time": "2023-06-04T09:46:37.250Z"
   },
   {
    "duration": 29,
    "start_time": "2023-06-04T09:46:37.268Z"
   },
   {
    "duration": 34,
    "start_time": "2023-06-04T09:46:37.299Z"
   },
   {
    "duration": 13,
    "start_time": "2023-06-04T09:46:37.335Z"
   },
   {
    "duration": 7,
    "start_time": "2023-06-04T09:46:37.349Z"
   },
   {
    "duration": 28,
    "start_time": "2023-06-04T09:46:37.357Z"
   },
   {
    "duration": 6,
    "start_time": "2023-06-04T09:46:37.387Z"
   },
   {
    "duration": 14,
    "start_time": "2023-06-04T09:46:37.395Z"
   },
   {
    "duration": 7,
    "start_time": "2023-06-04T09:46:37.418Z"
   },
   {
    "duration": 5,
    "start_time": "2023-06-04T09:46:37.429Z"
   },
   {
    "duration": 9,
    "start_time": "2023-06-04T09:46:37.435Z"
   },
   {
    "duration": 15,
    "start_time": "2023-06-04T09:46:37.446Z"
   },
   {
    "duration": 9,
    "start_time": "2023-06-04T09:46:37.462Z"
   },
   {
    "duration": 21,
    "start_time": "2023-06-04T09:46:37.472Z"
   },
   {
    "duration": 219,
    "start_time": "2023-06-04T09:46:37.494Z"
   },
   {
    "duration": 113,
    "start_time": "2023-06-04T09:46:37.714Z"
   },
   {
    "duration": 8,
    "start_time": "2023-06-04T09:46:37.831Z"
   },
   {
    "duration": 217,
    "start_time": "2023-06-04T09:46:37.840Z"
   },
   {
    "duration": 277,
    "start_time": "2023-06-04T09:46:38.059Z"
   },
   {
    "duration": 316,
    "start_time": "2023-06-04T09:46:38.340Z"
   },
   {
    "duration": 188,
    "start_time": "2023-06-04T09:46:38.658Z"
   },
   {
    "duration": 51,
    "start_time": "2023-06-04T09:46:38.847Z"
   },
   {
    "duration": 33,
    "start_time": "2023-06-04T09:46:38.908Z"
   },
   {
    "duration": 19,
    "start_time": "2023-06-04T09:46:38.942Z"
   },
   {
    "duration": 252,
    "start_time": "2023-06-04T09:46:38.963Z"
   },
   {
    "duration": 279,
    "start_time": "2023-06-04T09:46:39.217Z"
   },
   {
    "duration": 999,
    "start_time": "2023-06-04T09:46:39.498Z"
   },
   {
    "duration": 38,
    "start_time": "2023-06-04T09:46:40.499Z"
   },
   {
    "duration": 4,
    "start_time": "2023-06-04T09:46:40.542Z"
   },
   {
    "duration": 9,
    "start_time": "2023-06-04T09:46:40.548Z"
   },
   {
    "duration": 7,
    "start_time": "2023-06-04T09:46:40.558Z"
   },
   {
    "duration": 30,
    "start_time": "2023-06-04T09:46:40.566Z"
   },
   {
    "duration": 23,
    "start_time": "2023-06-04T09:46:40.598Z"
   },
   {
    "duration": 9,
    "start_time": "2023-06-04T09:46:40.625Z"
   },
   {
    "duration": 4,
    "start_time": "2023-06-04T09:46:40.636Z"
   },
   {
    "duration": 202,
    "start_time": "2023-06-04T09:58:55.170Z"
   },
   {
    "duration": 4,
    "start_time": "2023-06-04T09:59:49.250Z"
   },
   {
    "duration": 9,
    "start_time": "2023-06-04T10:00:47.310Z"
   },
   {
    "duration": 1628,
    "start_time": "2023-06-04T15:49:11.582Z"
   },
   {
    "duration": 203,
    "start_time": "2023-06-04T15:49:13.213Z"
   },
   {
    "duration": 42,
    "start_time": "2023-06-04T15:49:13.418Z"
   },
   {
    "duration": 29,
    "start_time": "2023-06-04T15:49:13.466Z"
   },
   {
    "duration": 12,
    "start_time": "2023-06-04T15:49:13.500Z"
   },
   {
    "duration": 33,
    "start_time": "2023-06-04T15:49:13.514Z"
   },
   {
    "duration": 19,
    "start_time": "2023-06-04T15:49:13.551Z"
   },
   {
    "duration": 21,
    "start_time": "2023-06-04T15:49:13.576Z"
   },
   {
    "duration": 34,
    "start_time": "2023-06-04T15:49:13.603Z"
   },
   {
    "duration": 40,
    "start_time": "2023-06-04T15:49:13.642Z"
   },
   {
    "duration": 36,
    "start_time": "2023-06-04T15:49:13.684Z"
   },
   {
    "duration": 18,
    "start_time": "2023-06-04T15:49:13.722Z"
   },
   {
    "duration": 16,
    "start_time": "2023-06-04T15:49:13.741Z"
   },
   {
    "duration": 31,
    "start_time": "2023-06-04T15:49:13.761Z"
   },
   {
    "duration": 19,
    "start_time": "2023-06-04T15:49:13.801Z"
   },
   {
    "duration": 15,
    "start_time": "2023-06-04T15:49:13.825Z"
   },
   {
    "duration": 26,
    "start_time": "2023-06-04T15:49:13.847Z"
   },
   {
    "duration": 23,
    "start_time": "2023-06-04T15:49:13.879Z"
   },
   {
    "duration": 27,
    "start_time": "2023-06-04T15:49:13.904Z"
   },
   {
    "duration": 29,
    "start_time": "2023-06-04T15:49:13.936Z"
   },
   {
    "duration": 13,
    "start_time": "2023-06-04T15:49:13.972Z"
   },
   {
    "duration": 14,
    "start_time": "2023-06-04T15:49:13.991Z"
   },
   {
    "duration": 269,
    "start_time": "2023-06-04T15:49:14.012Z"
   },
   {
    "duration": 139,
    "start_time": "2023-06-04T15:49:14.287Z"
   },
   {
    "duration": 12,
    "start_time": "2023-06-04T15:49:14.432Z"
   },
   {
    "duration": 309,
    "start_time": "2023-06-04T15:49:14.449Z"
   },
   {
    "duration": 341,
    "start_time": "2023-06-04T15:49:14.764Z"
   },
   {
    "duration": 397,
    "start_time": "2023-06-04T15:49:15.110Z"
   },
   {
    "duration": 226,
    "start_time": "2023-06-04T15:49:15.510Z"
   },
   {
    "duration": 60,
    "start_time": "2023-06-04T15:49:15.741Z"
   },
   {
    "duration": 7,
    "start_time": "2023-06-04T15:49:15.805Z"
   },
   {
    "duration": 32,
    "start_time": "2023-06-04T15:49:15.813Z"
   },
   {
    "duration": 37,
    "start_time": "2023-06-04T15:49:15.847Z"
   },
   {
    "duration": 32,
    "start_time": "2023-06-04T15:49:15.886Z"
   },
   {
    "duration": 318,
    "start_time": "2023-06-04T15:49:15.919Z"
   },
   {
    "duration": 400,
    "start_time": "2023-06-04T15:49:16.244Z"
   },
   {
    "duration": 1153,
    "start_time": "2023-06-04T15:49:16.651Z"
   },
   {
    "duration": 36,
    "start_time": "2023-06-04T15:49:17.805Z"
   },
   {
    "duration": 3,
    "start_time": "2023-06-04T15:49:17.842Z"
   },
   {
    "duration": 7,
    "start_time": "2023-06-04T15:49:17.847Z"
   },
   {
    "duration": 9,
    "start_time": "2023-06-04T15:49:17.859Z"
   },
   {
    "duration": 10,
    "start_time": "2023-06-04T15:49:17.871Z"
   },
   {
    "duration": 20,
    "start_time": "2023-06-04T15:49:17.884Z"
   },
   {
    "duration": 9,
    "start_time": "2023-06-04T15:49:17.906Z"
   },
   {
    "duration": 4,
    "start_time": "2023-06-04T15:49:17.930Z"
   },
   {
    "duration": 172,
    "start_time": "2023-06-04T15:51:50.915Z"
   },
   {
    "duration": 7,
    "start_time": "2023-06-04T15:53:06.205Z"
   },
   {
    "duration": 50,
    "start_time": "2023-06-09T14:58:10.890Z"
   },
   {
    "duration": 1237,
    "start_time": "2023-06-09T14:58:19.540Z"
   },
   {
    "duration": 314,
    "start_time": "2023-06-09T14:58:20.779Z"
   },
   {
    "duration": 13,
    "start_time": "2023-06-09T14:58:21.095Z"
   },
   {
    "duration": 13,
    "start_time": "2023-06-09T14:58:21.110Z"
   },
   {
    "duration": 19,
    "start_time": "2023-06-09T14:58:21.125Z"
   },
   {
    "duration": 34,
    "start_time": "2023-06-09T14:58:21.145Z"
   },
   {
    "duration": 8,
    "start_time": "2023-06-09T14:58:21.449Z"
   },
   {
    "duration": 11,
    "start_time": "2023-06-09T14:58:21.661Z"
   },
   {
    "duration": 17,
    "start_time": "2023-06-09T14:58:22.960Z"
   },
   {
    "duration": 23,
    "start_time": "2023-06-09T14:58:23.150Z"
   },
   {
    "duration": 19,
    "start_time": "2023-06-09T14:58:23.350Z"
   },
   {
    "duration": 12,
    "start_time": "2023-06-09T14:58:24.000Z"
   },
   {
    "duration": 6,
    "start_time": "2023-06-09T14:58:25.231Z"
   },
   {
    "duration": 8,
    "start_time": "2023-06-09T14:58:26.070Z"
   },
   {
    "duration": 7,
    "start_time": "2023-06-09T14:58:26.471Z"
   },
   {
    "duration": 8,
    "start_time": "2023-06-09T14:58:26.950Z"
   },
   {
    "duration": 6,
    "start_time": "2023-06-09T14:58:27.190Z"
   },
   {
    "duration": 7,
    "start_time": "2023-06-09T14:58:28.862Z"
   },
   {
    "duration": 9,
    "start_time": "2023-06-09T14:58:29.260Z"
   },
   {
    "duration": 8,
    "start_time": "2023-06-09T14:58:29.524Z"
   },
   {
    "duration": 6,
    "start_time": "2023-06-09T14:58:30.379Z"
   },
   {
    "duration": 6,
    "start_time": "2023-06-09T14:58:31.490Z"
   },
   {
    "duration": 173,
    "start_time": "2023-06-09T14:58:39.029Z"
   },
   {
    "duration": 107,
    "start_time": "2023-06-09T14:58:40.450Z"
   },
   {
    "duration": 101,
    "start_time": "2023-06-09T14:58:57.359Z"
   }
  ],
  "kernelspec": {
   "display_name": "Python 3 (ipykernel)",
   "language": "python",
   "name": "python3"
  },
  "language_info": {
   "codemirror_mode": {
    "name": "ipython",
    "version": 3
   },
   "file_extension": ".py",
   "mimetype": "text/x-python",
   "name": "python",
   "nbconvert_exporter": "python",
   "pygments_lexer": "ipython3",
   "version": "3.11.5"
  },
  "toc": {
   "base_numbering": 1,
   "nav_menu": {},
   "number_sections": true,
   "sideBar": true,
   "skip_h1_title": true,
   "title_cell": "Table of Contents",
   "title_sidebar": "Contents",
   "toc_cell": false,
   "toc_position": {},
   "toc_section_display": true,
   "toc_window_display": false
  }
 },
 "nbformat": 4,
 "nbformat_minor": 2
}
