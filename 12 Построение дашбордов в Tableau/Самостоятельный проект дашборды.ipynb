{
 "cells": [
  {
   "cell_type": "markdown",
   "id": "ad3a837a",
   "metadata": {},
   "source": [
    "# Самостоятельный проект дашборды\n"
   ]
  },
  {
   "cell_type": "markdown",
   "id": "59e61655",
   "metadata": {},
   "source": [
    "https://public.tableau.com/views/TED_16999332490350/TED?:language=en-US&publish=yes&:display_count=n&:origin=viz_share_link"
   ]
  },
  {
   "cell_type": "markdown",
   "id": "cd221472",
   "metadata": {},
   "source": [
    "https://disk.yandex.ru/i/v9EPok4B61jktA"
   ]
  },
  {
   "cell_type": "markdown",
   "id": "4106fc87",
   "metadata": {},
   "source": [
    "# История выступлений"
   ]
  },
  {
   "cell_type": "markdown",
   "id": "491a7b30",
   "metadata": {},
   "source": [
    "<div class=\"alert alert-success\" style=\"border-radius: 10px; box-shadow: 2px 2px 2px; border: 1px solid; padding: 10px \">\n",
    "<b>Комментарий ревьюера v.1</b> \n",
    "    \n",
    "👍 \n",
    "Сделано хорошо:\n",
    "\n",
    "- дашборд соответствует макету;\n",
    "- правильно настроен Action на фильтрацию\n",
    "- выводы понятны и логичны.\n",
    "\n",
    "\n",
    "</div>"
   ]
  },
  {
   "cell_type": "markdown",
   "id": "c6c79862",
   "metadata": {},
   "source": [
    "# Тематика выступлений"
   ]
  },
  {
   "cell_type": "markdown",
   "id": "bd6a7050",
   "metadata": {},
   "source": [
    "- дашборд соответствует макету;\n",
    "- правильно настроен Action на фильтрацию;\n",
    "- корректность вычисляемых полей;\n",
    "- всплывающие подсказки содержат нужные гистограммы\n",
    "- есть ответы на поставленные вопросы.\n"
   ]
  },
  {
   "cell_type": "markdown",
   "id": "33cf95cc",
   "metadata": {},
   "source": [
    "# Авторы выступлений"
   ]
  },
  {
   "cell_type": "markdown",
   "id": "ee62f579",
   "metadata": {},
   "source": [
    "\n",
    "- параметр Top-N  работает корректно,\n",
    "- на дашборде настроен Action, фильтрующий таблицы, также здорово, что таблицы отсортированы;\n",
    "- на дашборде есть выводы и наблюдения;\n",
    "- фильтр отрабатывает корректно.\n"
   ]
  },
  {
   "cell_type": "markdown",
   "id": "9394bc27",
   "metadata": {},
   "source": [
    "# Дашборд на свободную тему"
   ]
  },
  {
   "cell_type": "markdown",
   "id": "61212fd2",
   "metadata": {},
   "source": [
    "- здорово, что выполнен дашборд на свободную тему,\n",
    "- отлично подобраны типы визуализаций;\n",
    "- на дашборде есть выводы и наблюдения;\n",
    "- фильтр отрабатывает корректно."
   ]
  },
  {
   "cell_type": "markdown",
   "id": "e29d7900",
   "metadata": {},
   "source": [
    "**Презентация:**\n",
    "\n",
    "\n",
    "Сделано хорошо:\n",
    "\n",
    "- есть цели исследования;\n",
    "- презентация в .pdf;\n",
    "- на всех слайдах с графиками есть выводы;\n",
    "- есть ФИО (кем выполнен проект);\n",
    "- есть нумерация страниц;\n",
    "- есть источники данных; \n",
    "\n",
    "\n",
    "\n",
    "Что можно было бы сделать лучше:\n",
    "\n",
    "- добавить оглавление;\n",
    "- описать функционал сделанного дашборда для менеджеров;\n",
    "- добавить дату выполнения;\n",
    "- добавить общие итоги;\n",
    "- добавить контакты (телефон, email, можно фейковые так, как у нас учебный проект);\n",
    "- добавить ссылку на дашборд;\n"
   ]
  }
 ],
 "metadata": {
  "kernelspec": {
   "display_name": "Python 3 (ipykernel)",
   "language": "python",
   "name": "python3"
  },
  "language_info": {
   "codemirror_mode": {
    "name": "ipython",
    "version": 3
   },
   "file_extension": ".py",
   "mimetype": "text/x-python",
   "name": "python",
   "nbconvert_exporter": "python",
   "pygments_lexer": "ipython3",
   "version": "3.11.5"
  },
  "toc": {
   "base_numbering": 1,
   "nav_menu": {},
   "number_sections": true,
   "sideBar": true,
   "skip_h1_title": true,
   "title_cell": "Table of Contents",
   "title_sidebar": "Contents",
   "toc_cell": false,
   "toc_position": {},
   "toc_section_display": true,
   "toc_window_display": false
  }
 },
 "nbformat": 4,
 "nbformat_minor": 5
}
